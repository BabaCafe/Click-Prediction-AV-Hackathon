{
 "cells": [
  {
   "cell_type": "code",
   "execution_count": 1,
   "metadata": {
    "collapsed": false
   },
   "outputs": [
    {
     "name": "stdout",
     "output_type": "stream",
     "text": [
      "[nltk_data] Downloading package stopwords to C:\\Users\\Vashi\n",
      "[nltk_data]     NSIT\\AppData\\Roaming\\nltk_data...\n",
      "[nltk_data]   Package stopwords is already up-to-date!\n"
     ]
    }
   ],
   "source": [
    "import re, math\n",
    "from collections import Counter\n",
    "import string\n",
    "import nltk\n",
    "from difflib import SequenceMatcher\n",
    "from nltk.corpus import stopwords\n",
    "nltk.download('stopwords')\n",
    "from nltk import word_tokenize \n",
    "#nltk.download('punkt')\n"
   ]
  },
  {
   "cell_type": "code",
   "execution_count": 1,
   "metadata": {
    "collapsed": true
   },
   "outputs": [],
   "source": [
    "import operator\n",
    "import xgboost as xgb\n",
    "from xgboost.sklearn import XGBClassifier"
   ]
  },
  {
   "cell_type": "code",
   "execution_count": 2,
   "metadata": {
    "collapsed": false
   },
   "outputs": [
    {
     "name": "stderr",
     "output_type": "stream",
     "text": [
      "F:\\Anaconda\\lib\\site-packages\\sklearn\\cross_validation.py:44: DeprecationWarning: This module was deprecated in version 0.18 in favor of the model_selection module into which all the refactored classes and functions are moved. Also note that the interface of the new CV iterators are different from that of this module. This module will be removed in 0.20.\n",
      "  \"This module will be removed in 0.20.\", DeprecationWarning)\n"
     ]
    }
   ],
   "source": [
    "import pandas as pd\n",
    "import numpy as np\n",
    "import random as rnd\n",
    "\n",
    "from sklearn.linear_model import LogisticRegression\n",
    "from sklearn.svm import SVC, LinearSVC\n",
    "from sklearn.ensemble import RandomForestClassifier\n",
    "from sklearn.neighbors import KNeighborsClassifier\n",
    "from sklearn.naive_bayes import GaussianNB\n",
    "from sklearn.tree import DecisionTreeClassifier\n",
    "from sklearn.neural_network import MLPClassifier\n",
    "from sklearn import preprocessing\n",
    "\n",
    "\n",
    "from sklearn.cross_validation import train_test_split , StratifiedKFold\n",
    "from sklearn.feature_selection import RFECV\n",
    "\n",
    "import seaborn as sns\n",
    "import matplotlib as mpl\n",
    "import matplotlib.pyplot as plt\n",
    "import matplotlib.pylab as pylab\n"
   ]
  },
  {
   "cell_type": "code",
   "execution_count": 5,
   "metadata": {
    "collapsed": true
   },
   "outputs": [],
   "source": [
    "def describe_more( df ):\n",
    "    var = [] ; l = [] ; t = []\n",
    "    for x in df:\n",
    "        var.append( x )\n",
    "        l.append( len( pd.value_counts( df[ x ] ) ) )\n",
    "        t.append( df[ x ].dtypes )\n",
    "    #print(var,l,t)\n",
    "    levels = pd.DataFrame( { 'Variable' : var , 'Levels' : l , 'Datatype' : t } )\n",
    "    levels.sort_values( by = 'Levels' , inplace = True )\n",
    "    return levels"
   ]
  },
  {
   "cell_type": "code",
   "execution_count": 272,
   "metadata": {
    "collapsed": true
   },
   "outputs": [],
   "source": [
    "label=preprocessing.LabelEncoder()"
   ]
  },
  {
   "cell_type": "code",
   "execution_count": null,
   "metadata": {
    "collapsed": false
   },
   "outputs": [],
   "source": [
    "camp=pd.read_csv(\"campaign_data.csv\")"
   ]
  },
  {
   "cell_type": "code",
   "execution_count": 150,
   "metadata": {
    "collapsed": true
   },
   "outputs": [],
   "source": [
    "camp1=pd.read_csv(\"camp.csv\")"
   ]
  },
  {
   "cell_type": "code",
   "execution_count": 8,
   "metadata": {
    "collapsed": true
   },
   "outputs": [],
   "source": [
    "WORD = re.compile(r'\\w+')\n",
    "\n",
    "def get_cosine(vec1, vec2):\n",
    "     intersection = set(vec1.keys()) & set(vec2.keys())\n",
    "        \n",
    "     numerator = sum([vec1[x] * vec2[x] for x in intersection])\n",
    "\n",
    "     sum1 = sum([vec1[x]**2 for x in vec1.keys()])\n",
    "     sum2 = sum([vec2[x]**2 for x in vec2.keys()])\n",
    "     denominator = math.sqrt(sum1) * math.sqrt(sum2)\n",
    "\n",
    "     if not denominator:\n",
    "        return 0.0\n",
    "     else:\n",
    "        return float(numerator) / denominator\n",
    "\n",
    "def text_to_vector(text):\n",
    "     words = WORD.findall(text)\n",
    "     return Counter(words)\n",
    "def words(scent):\n",
    "    word=scent.lower()\n",
    "    word=word_tokenize(word)\n",
    "    #word= re.findall(r'\\w+',scent)\n",
    "    exclude= list(filter(lambda x: x in ['what','where','how','when','why','?'],word))\n",
    "    word=list(filter(lambda x: x not in (stopwords.words('english') + list(string.punctuation)), word))\n",
    "    word.extend(exclude)\n",
    "    return word\n"
   ]
  },
  {
   "cell_type": "code",
   "execution_count": 9,
   "metadata": {
    "collapsed": false
   },
   "outputs": [],
   "source": [
    "def cosine_similarity(scent,scent1):\n",
    "    vector1 = text_to_vector(scent)\n",
    "    vector2 = text_to_vector(scent1)\n",
    "    cosine = get_cosine(vector1, vector2)\n",
    "    return cosine\n",
    "\n",
    "def sequential(scent,scent1):\n",
    "    s1=words(scent)\n",
    "    s2=words(scent1)\n",
    "    s = SequenceMatcher(None, s1, s2)\n",
    "    print(s.ratio())\n",
    "    return s.value\n",
    "def intersection(scent,scent1):\n",
    "    scent=words(scent)\n",
    "    scent1=words(scent1)\n",
    "    s1=set(scent)\n",
    "    s2=set(scent1)\n",
    "    s=s1.intersection(s2)\n",
    "    return len(s)"
   ]
  },
  {
   "cell_type": "code",
   "execution_count": 10,
   "metadata": {
    "collapsed": true
   },
   "outputs": [],
   "source": [
    "data=pd.read_csv('train.csv')"
   ]
  },
  {
   "cell_type": "code",
   "execution_count": 11,
   "metadata": {
    "collapsed": false
   },
   "outputs": [
    {
     "data": {
      "text/html": [
       "<div>\n",
       "<style scoped>\n",
       "    .dataframe tbody tr th:only-of-type {\n",
       "        vertical-align: middle;\n",
       "    }\n",
       "\n",
       "    .dataframe tbody tr th {\n",
       "        vertical-align: top;\n",
       "    }\n",
       "\n",
       "    .dataframe thead th {\n",
       "        text-align: right;\n",
       "    }\n",
       "</style>\n",
       "<table border=\"1\" class=\"dataframe\">\n",
       "  <thead>\n",
       "    <tr style=\"text-align: right;\">\n",
       "      <th></th>\n",
       "      <th>id</th>\n",
       "      <th>user_id</th>\n",
       "      <th>campaign_id</th>\n",
       "      <th>send_date</th>\n",
       "      <th>is_open</th>\n",
       "      <th>is_click</th>\n",
       "    </tr>\n",
       "  </thead>\n",
       "  <tbody>\n",
       "    <tr>\n",
       "      <th>0</th>\n",
       "      <td>42_14051</td>\n",
       "      <td>14051</td>\n",
       "      <td>42</td>\n",
       "      <td>01-09-2017 19:55</td>\n",
       "      <td>0</td>\n",
       "      <td>0</td>\n",
       "    </tr>\n",
       "    <tr>\n",
       "      <th>1</th>\n",
       "      <td>52_134438</td>\n",
       "      <td>134438</td>\n",
       "      <td>52</td>\n",
       "      <td>02-11-2017 12:53</td>\n",
       "      <td>0</td>\n",
       "      <td>0</td>\n",
       "    </tr>\n",
       "    <tr>\n",
       "      <th>2</th>\n",
       "      <td>33_181789</td>\n",
       "      <td>181789</td>\n",
       "      <td>33</td>\n",
       "      <td>24-07-2017 15:15</td>\n",
       "      <td>0</td>\n",
       "      <td>0</td>\n",
       "    </tr>\n",
       "    <tr>\n",
       "      <th>3</th>\n",
       "      <td>44_231448</td>\n",
       "      <td>231448</td>\n",
       "      <td>44</td>\n",
       "      <td>05-09-2017 11:36</td>\n",
       "      <td>0</td>\n",
       "      <td>0</td>\n",
       "    </tr>\n",
       "    <tr>\n",
       "      <th>4</th>\n",
       "      <td>29_185580</td>\n",
       "      <td>185580</td>\n",
       "      <td>29</td>\n",
       "      <td>01-07-2017 18:01</td>\n",
       "      <td>0</td>\n",
       "      <td>0</td>\n",
       "    </tr>\n",
       "  </tbody>\n",
       "</table>\n",
       "</div>"
      ],
      "text/plain": [
       "          id  user_id  campaign_id         send_date  is_open  is_click\n",
       "0   42_14051    14051           42  01-09-2017 19:55        0         0\n",
       "1  52_134438   134438           52  02-11-2017 12:53        0         0\n",
       "2  33_181789   181789           33  24-07-2017 15:15        0         0\n",
       "3  44_231448   231448           44  05-09-2017 11:36        0         0\n",
       "4  29_185580   185580           29  01-07-2017 18:01        0         0"
      ]
     },
     "execution_count": 11,
     "metadata": {},
     "output_type": "execute_result"
    }
   ],
   "source": [
    "data.head()"
   ]
  },
  {
   "cell_type": "code",
   "execution_count": 3,
   "metadata": {
    "collapsed": false
   },
   "outputs": [
    {
     "data": {
      "text/html": [
       "<div>\n",
       "<style scoped>\n",
       "    .dataframe tbody tr th:only-of-type {\n",
       "        vertical-align: middle;\n",
       "    }\n",
       "\n",
       "    .dataframe tbody tr th {\n",
       "        vertical-align: top;\n",
       "    }\n",
       "\n",
       "    .dataframe thead th {\n",
       "        text-align: right;\n",
       "    }\n",
       "</style>\n",
       "<table border=\"1\" class=\"dataframe\">\n",
       "  <thead>\n",
       "    <tr style=\"text-align: right;\">\n",
       "      <th></th>\n",
       "      <th>Unnamed: 0</th>\n",
       "      <th>campaign_id</th>\n",
       "      <th>communication_type</th>\n",
       "      <th>total_links</th>\n",
       "      <th>no_of_internal_links</th>\n",
       "      <th>no_of_images</th>\n",
       "      <th>no_of_sections</th>\n",
       "      <th>email_body</th>\n",
       "      <th>subject</th>\n",
       "      <th>email_url</th>\n",
       "      <th>campaign_wts</th>\n",
       "      <th>campaign_wts1</th>\n",
       "      <th>images</th>\n",
       "      <th>internal_links</th>\n",
       "      <th>sections</th>\n",
       "      <th>links</th>\n",
       "    </tr>\n",
       "  </thead>\n",
       "  <tbody>\n",
       "    <tr>\n",
       "      <th>0</th>\n",
       "      <td>0</td>\n",
       "      <td>29</td>\n",
       "      <td>Newsletter</td>\n",
       "      <td>67</td>\n",
       "      <td>61</td>\n",
       "      <td>12</td>\n",
       "      <td>3</td>\n",
       "      <td>Dear AVians,\\r\\r\\r\\r\\n \\r\\r\\r\\r\\nWe are shapin...</td>\n",
       "      <td>Sneak Peek: A look at the emerging data scienc...</td>\n",
       "      <td>http://r.newsletters.analyticsvidhya.com/7um44...</td>\n",
       "      <td>6</td>\n",
       "      <td>6</td>\n",
       "      <td>(10.0, 19.0]</td>\n",
       "      <td>(26.0, 191.0]</td>\n",
       "      <td>(2.0, 6.0]</td>\n",
       "      <td>(28.0, 203.0]</td>\n",
       "    </tr>\n",
       "    <tr>\n",
       "      <th>1</th>\n",
       "      <td>1</td>\n",
       "      <td>30</td>\n",
       "      <td>Upcoming Events</td>\n",
       "      <td>18</td>\n",
       "      <td>14</td>\n",
       "      <td>7</td>\n",
       "      <td>1</td>\n",
       "      <td>Dear AVians,\\r\\r\\r\\r\\n \\r\\r\\r\\r\\nAre your eage...</td>\n",
       "      <td>[July] Data Science Expert Meetups &amp; Competiti...</td>\n",
       "      <td>http://r.newsletters.analyticsvidhya.com/7up0e...</td>\n",
       "      <td>5</td>\n",
       "      <td>5</td>\n",
       "      <td>(3.0, 10.0]</td>\n",
       "      <td>(7.0, 26.0]</td>\n",
       "      <td>(0.999, 2.0]</td>\n",
       "      <td>(9.0, 28.0]</td>\n",
       "    </tr>\n",
       "    <tr>\n",
       "      <th>2</th>\n",
       "      <td>2</td>\n",
       "      <td>31</td>\n",
       "      <td>Conference</td>\n",
       "      <td>15</td>\n",
       "      <td>13</td>\n",
       "      <td>5</td>\n",
       "      <td>1</td>\n",
       "      <td>Early Bird Pricing Till August 07  Save upto ...</td>\n",
       "      <td>Last chance to convince your boss before the E...</td>\n",
       "      <td>http://r.newsletters.analyticsvidhya.com/7usym...</td>\n",
       "      <td>2</td>\n",
       "      <td>2</td>\n",
       "      <td>(3.0, 10.0]</td>\n",
       "      <td>(7.0, 26.0]</td>\n",
       "      <td>(0.999, 2.0]</td>\n",
       "      <td>(9.0, 28.0]</td>\n",
       "    </tr>\n",
       "    <tr>\n",
       "      <th>3</th>\n",
       "      <td>3</td>\n",
       "      <td>32</td>\n",
       "      <td>Conference</td>\n",
       "      <td>24</td>\n",
       "      <td>19</td>\n",
       "      <td>7</td>\n",
       "      <td>1</td>\n",
       "      <td>\\r\\r\\r\\r\\n \\r\\r\\r\\r\\nHi ?\\r\\r\\r\\r\\n \\r\\r\\r\\r\\n...</td>\n",
       "      <td>A.I. &amp; Machine Learning: 5 reasons why you sho...</td>\n",
       "      <td>http://r.newsletters.analyticsvidhya.com/7uthl...</td>\n",
       "      <td>5</td>\n",
       "      <td>5</td>\n",
       "      <td>(3.0, 10.0]</td>\n",
       "      <td>(7.0, 26.0]</td>\n",
       "      <td>(0.999, 2.0]</td>\n",
       "      <td>(9.0, 28.0]</td>\n",
       "    </tr>\n",
       "    <tr>\n",
       "      <th>4</th>\n",
       "      <td>4</td>\n",
       "      <td>33</td>\n",
       "      <td>Others</td>\n",
       "      <td>7</td>\n",
       "      <td>3</td>\n",
       "      <td>1</td>\n",
       "      <td>1</td>\n",
       "      <td>Fireside Chat with DJ Patil - the master is he...</td>\n",
       "      <td>[Delhi NCR] Fireside Chat with DJ Patil, Forme...</td>\n",
       "      <td>http://r.newsletters.analyticsvidhya.com/7uvlg...</td>\n",
       "      <td>4</td>\n",
       "      <td>4</td>\n",
       "      <td>(0.999, 3.0]</td>\n",
       "      <td>(1.999, 7.0]</td>\n",
       "      <td>(0.999, 2.0]</td>\n",
       "      <td>(5.999, 9.0]</td>\n",
       "    </tr>\n",
       "  </tbody>\n",
       "</table>\n",
       "</div>"
      ],
      "text/plain": [
       "   Unnamed: 0  campaign_id communication_type  total_links  \\\n",
       "0           0           29         Newsletter           67   \n",
       "1           1           30    Upcoming Events           18   \n",
       "2           2           31         Conference           15   \n",
       "3           3           32         Conference           24   \n",
       "4           4           33             Others            7   \n",
       "\n",
       "   no_of_internal_links  no_of_images  no_of_sections  \\\n",
       "0                    61            12               3   \n",
       "1                    14             7               1   \n",
       "2                    13             5               1   \n",
       "3                    19             7               1   \n",
       "4                     3             1               1   \n",
       "\n",
       "                                          email_body  \\\n",
       "0  Dear AVians,\\r\\r\\r\\r\\n \\r\\r\\r\\r\\nWe are shapin...   \n",
       "1  Dear AVians,\\r\\r\\r\\r\\n \\r\\r\\r\\r\\nAre your eage...   \n",
       "2  Early Bird Pricing Till August 07  Save upto ...   \n",
       "3  \\r\\r\\r\\r\\n \\r\\r\\r\\r\\nHi ?\\r\\r\\r\\r\\n \\r\\r\\r\\r\\n...   \n",
       "4  Fireside Chat with DJ Patil - the master is he...   \n",
       "\n",
       "                                             subject  \\\n",
       "0  Sneak Peek: A look at the emerging data scienc...   \n",
       "1  [July] Data Science Expert Meetups & Competiti...   \n",
       "2  Last chance to convince your boss before the E...   \n",
       "3  A.I. & Machine Learning: 5 reasons why you sho...   \n",
       "4  [Delhi NCR] Fireside Chat with DJ Patil, Forme...   \n",
       "\n",
       "                                           email_url  campaign_wts  \\\n",
       "0  http://r.newsletters.analyticsvidhya.com/7um44...             6   \n",
       "1  http://r.newsletters.analyticsvidhya.com/7up0e...             5   \n",
       "2  http://r.newsletters.analyticsvidhya.com/7usym...             2   \n",
       "3  http://r.newsletters.analyticsvidhya.com/7uthl...             5   \n",
       "4  http://r.newsletters.analyticsvidhya.com/7uvlg...             4   \n",
       "\n",
       "   campaign_wts1        images internal_links      sections          links  \n",
       "0              6  (10.0, 19.0]  (26.0, 191.0]    (2.0, 6.0]  (28.0, 203.0]  \n",
       "1              5   (3.0, 10.0]    (7.0, 26.0]  (0.999, 2.0]    (9.0, 28.0]  \n",
       "2              2   (3.0, 10.0]    (7.0, 26.0]  (0.999, 2.0]    (9.0, 28.0]  \n",
       "3              5   (3.0, 10.0]    (7.0, 26.0]  (0.999, 2.0]    (9.0, 28.0]  \n",
       "4              4  (0.999, 3.0]   (1.999, 7.0]  (0.999, 2.0]   (5.999, 9.0]  "
      ]
     },
     "execution_count": 3,
     "metadata": {},
     "output_type": "execute_result"
    }
   ],
   "source": [
    "camp=pd.read_csv('campfinal.csv')\n",
    "camp.head()  #campaign data after adding weihgts in most clicked order #1st iteration for calculating weights"
   ]
  },
  {
   "cell_type": "code",
   "execution_count": 593,
   "metadata": {
    "collapsed": false
   },
   "outputs": [],
   "source": [
    "def order(data,output,on,by):\n",
    "    D=data[data[output]==on].groupby([output,by])[by].agg({'Frequency':'count'}).sort_values(by='Frequency',ascending=False)\n",
    "    return D"
   ]
  },
  {
   "cell_type": "code",
   "execution_count": 13,
   "metadata": {
    "collapsed": false
   },
   "outputs": [
    {
     "name": "stderr",
     "output_type": "stream",
     "text": [
      "F:\\Anaconda\\lib\\site-packages\\ipykernel\\__main__.py:2: FutureWarning: using a dict on a Series for aggregation\n",
      "is deprecated and will be removed in a future version\n",
      "  from ipykernel import kernelapp as app\n"
     ]
    }
   ],
   "source": [
    "C_cid=order(data,'is_click',1,'campaign_id')"
   ]
  },
  {
   "cell_type": "code",
   "execution_count": 323,
   "metadata": {
    "collapsed": true
   },
   "outputs": [],
   "source": [
    "U_C_data=data[data['is_click']==1]"
   ]
  },
  {
   "cell_type": "code",
   "execution_count": 336,
   "metadata": {
    "collapsed": true
   },
   "outputs": [],
   "source": [
    "category={}\n",
    "for i in camp.communication_type.unique():\n",
    "    typ=list(camp.campaign_id[camp['communication_type']==i].values)\n",
    "    category[i]=typ\n",
    "    "
   ]
  },
  {
   "cell_type": "code",
   "execution_count": 342,
   "metadata": {
    "collapsed": false
   },
   "outputs": [
    {
     "data": {
      "text/plain": [
       "{'Conference': [31, 32, 36, 37, 38, 40, 49, 53],\n",
       " 'Corporate': [41, 43, 55, 59, 60, 61, 66, 70, 72, 73, 77, 80],\n",
       " 'Hackathon': [45, 46, 47, 51, 58, 62, 65, 67, 68, 69, 71, 78, 79],\n",
       " 'Newsletter': [29, 34, 42, 48, 52, 54, 56, 63, 74],\n",
       " 'Others': [33, 35],\n",
       " 'Upcoming Events': [30, 44, 50, 57, 64, 75, 76],\n",
       " 'Webinar': [39]}"
      ]
     },
     "execution_count": 342,
     "metadata": {},
     "output_type": "execute_result"
    }
   ],
   "source": [
    "category"
   ]
  },
  {
   "cell_type": "code",
   "execution_count": null,
   "metadata": {
    "collapsed": true
   },
   "outputs": [],
   "source": [
    "U_C_data['category']=0"
   ]
  },
  {
   "cell_type": "code",
   "execution_count": 343,
   "metadata": {
    "collapsed": false
   },
   "outputs": [
    {
     "name": "stderr",
     "output_type": "stream",
     "text": [
      "F:\\Anaconda\\lib\\site-packages\\ipykernel\\__main__.py:3: SettingWithCopyWarning: \n",
      "A value is trying to be set on a copy of a slice from a DataFrame\n",
      "\n",
      "See the caveats in the documentation: http://pandas.pydata.org/pandas-docs/stable/indexing.html#indexing-view-versus-copy\n",
      "  app.launch_new_instance()\n",
      "F:\\Anaconda\\lib\\site-packages\\pandas\\core\\generic.py:5984: SettingWithCopyWarning: \n",
      "A value is trying to be set on a copy of a slice from a DataFrame\n",
      "\n",
      "See the caveats in the documentation: http://pandas.pydata.org/pandas-docs/stable/indexing.html#indexing-view-versus-copy\n",
      "  self._update_inplace(new_data)\n",
      "F:\\Anaconda\\lib\\site-packages\\IPython\\core\\interactiveshell.py:2881: SettingWithCopyWarning: \n",
      "A value is trying to be set on a copy of a slice from a DataFrame\n",
      "\n",
      "See the caveats in the documentation: http://pandas.pydata.org/pandas-docs/stable/indexing.html#indexing-view-versus-copy\n",
      "  exec(code_obj, self.user_global_ns, self.user_ns)\n",
      "F:\\Anaconda\\lib\\site-packages\\ipykernel\\__main__.py:3: SettingWithCopyWarning: \n",
      "A value is trying to be set on a copy of a slice from a DataFrame\n",
      "\n",
      "See the caveats in the documentation: http://pandas.pydata.org/pandas-docs/stable/indexing.html#indexing-view-versus-copy\n",
      "  app.launch_new_instance()\n"
     ]
    }
   ],
   "source": [
    "for key, val in category.items():\n",
    "    for i in val:\n",
    "        U_C_data.category[U_C_data['campaign_id']==i]=key"
   ]
  },
  {
   "cell_type": "code",
   "execution_count": 362,
   "metadata": {
    "collapsed": false
   },
   "outputs": [],
   "source": [
    "U_C_corr=order1(U_C_data,'category','user_id')"
   ]
  },
  {
   "cell_type": "code",
   "execution_count": 717,
   "metadata": {
    "collapsed": false
   },
   "outputs": [],
   "source": [
    "Dat=data"
   ]
  },
  {
   "cell_type": "code",
   "execution_count": 380,
   "metadata": {
    "collapsed": false
   },
   "outputs": [],
   "source": [
    "uc_corr=U_C_corr[['category','user_id']]"
   ]
  },
  {
   "cell_type": "code",
   "execution_count": 973,
   "metadata": {
    "collapsed": false
   },
   "outputs": [],
   "source": [
    "for i in uc_corr['category'].unique():\n",
    "    uc=uc_corr[uc_corr['category']==i]\n",
    "    data=data.join(uc,on='user_id')\n",
    "    data[i]=data['category']\n",
    "    data.drop('category', axis=1, inplace=True)"
   ]
  },
  {
   "cell_type": "code",
   "execution_count": 974,
   "metadata": {
    "collapsed": true
   },
   "outputs": [],
   "source": [
    "for i in uc_corr['category'].unique():\n",
    "    uc=uc_corr[uc_corr['category']==i]\n",
    "    test=test.join(uc,on='user_id')\n",
    "    test[i]=test['category']\n",
    "    test.drop('category', axis=1, inplace=True)"
   ]
  },
  {
   "cell_type": "code",
   "execution_count": 975,
   "metadata": {
    "collapsed": false
   },
   "outputs": [],
   "source": [
    "data.to_csv('Trainfinal.csv')"
   ]
  },
  {
   "cell_type": "code",
   "execution_count": 976,
   "metadata": {
    "collapsed": true
   },
   "outputs": [],
   "source": [
    "test.to_csv('Testfinal.csv')"
   ]
  },
  {
   "cell_type": "code",
   "execution_count": 1060,
   "metadata": {
    "collapsed": false
   },
   "outputs": [],
   "source": [
    "test=pd.read_csv('Testfinal.csv')"
   ]
  },
  {
   "cell_type": "code",
   "execution_count": null,
   "metadata": {
    "collapsed": true
   },
   "outputs": [],
   "source": [
    "Dat.loc[Dat['Corporate']=='Corporate','Corporate']"
   ]
  },
  {
   "cell_type": "code",
   "execution_count": 984,
   "metadata": {
    "collapsed": false
   },
   "outputs": [
    {
     "data": {
      "text/plain": [
       "{'Conference': [31, 32, 36, 37, 38, 40, 49, 53],\n",
       " 'Corporate': [41, 43, 55, 59, 60, 61, 66, 70, 72, 73, 77, 80],\n",
       " 'Hackathon': [45, 46, 47, 51, 58, 62, 65, 67, 68, 69, 71, 78, 79],\n",
       " 'Newsletter': [29, 34, 42, 48, 52, 54, 56, 63, 74],\n",
       " 'Others': [33, 35],\n",
       " 'Upcoming Events': [30, 44, 50, 57, 64, 75, 76],\n",
       " 'Webinar': [39]}"
      ]
     },
     "execution_count": 984,
     "metadata": {},
     "output_type": "execute_result"
    }
   ],
   "source": [
    "category"
   ]
  },
  {
   "cell_type": "code",
   "execution_count": 1206,
   "metadata": {
    "collapsed": false
   },
   "outputs": [],
   "source": [
    "for i,j in category.items():\n",
    "    data.loc[data[i].isnull()& data['U_cid_wts']>0,i]=0    "
   ]
  },
  {
   "cell_type": "code",
   "execution_count": 1210,
   "metadata": {
    "collapsed": true
   },
   "outputs": [],
   "source": [
    "for i,j in category.items():\n",
    "    data.loc[data[i]==i,i]=1    "
   ]
  },
  {
   "cell_type": "code",
   "execution_count": 1216,
   "metadata": {
    "collapsed": false
   },
   "outputs": [],
   "source": [
    "data.to_csv('Data_FinaL.csv')"
   ]
  },
  {
   "cell_type": "code",
   "execution_count": 1212,
   "metadata": {
    "collapsed": false
   },
   "outputs": [],
   "source": [
    "Data=data.set_index('user_id',drop=False)"
   ]
  },
  {
   "cell_type": "code",
   "execution_count": null,
   "metadata": {
    "collapsed": true
   },
   "outputs": [],
   "source": [
    "for j,k in category.items():\n",
    "    for i in UniqueIds_click:\n",
    "        if i in .index:\n",
    "            try:    \n",
    "                if Data[j][i].any()==j:\n",
    "                    Data[j][i]=1\n",
    "                else:\n",
    "                    Data[j][i]=0\n",
    "            except:\n",
    "                if Data[j][i]==j:\n",
    "                    Data[j][i]=1\n",
    "                else:\n",
    "                    Data[j][i]=0"
   ]
  },
  {
   "cell_type": "code",
   "execution_count": 1251,
   "metadata": {
    "collapsed": false
   },
   "outputs": [],
   "source": [
    "data.to_csv('Data_Final.csv')"
   ]
  },
  {
   "cell_type": "code",
   "execution_count": 1014,
   "metadata": {
    "collapsed": false
   },
   "outputs": [],
   "source": [
    "ClickIds=data.loc[data['is_click']==1,'user_id'].values"
   ]
  },
  {
   "cell_type": "code",
   "execution_count": 1020,
   "metadata": {
    "collapsed": false
   },
   "outputs": [
    {
     "data": {
      "text/plain": [
       "12782"
      ]
     },
     "execution_count": 1020,
     "metadata": {},
     "output_type": "execute_result"
    }
   ],
   "source": [
    "len(ClickIds)"
   ]
  },
  {
   "cell_type": "code",
   "execution_count": 1021,
   "metadata": {
    "collapsed": false
   },
   "outputs": [],
   "source": [
    "UniqueIds_click=np.unique(ClickIds)"
   ]
  },
  {
   "cell_type": "code",
   "execution_count": 1030,
   "metadata": {
    "collapsed": false
   },
   "outputs": [],
   "source": [
    "Test.drop(['Conference','Corporate','Hackathon','Newsletter','Others','Upcoming Events','Webinar'],axis=1,inplace=True)"
   ]
  },
  {
   "cell_type": "code",
   "execution_count": 1066,
   "metadata": {
    "collapsed": false
   },
   "outputs": [],
   "source": [
    "Test=Test.set_index('user_id',drop=False)"
   ]
  },
  {
   "cell_type": "code",
   "execution_count": 1040,
   "metadata": {
    "collapsed": false
   },
   "outputs": [
    {
     "data": {
      "text/plain": [
       "array([ 62110,  73007,   8759, ..., 103245,  36187, 235406], dtype=int64)"
      ]
     },
     "execution_count": 1040,
     "metadata": {},
     "output_type": "execute_result"
    }
   ],
   "source": [
    "Data[Data.user_id.unique()]"
   ]
  },
  {
   "cell_type": "code",
   "execution_count": 1052,
   "metadata": {
    "collapsed": false
   },
   "outputs": [],
   "source": [
    "B=pd.DataFrame({'bc':[1,2,3,4,5,6],'C':['a','b','c','d','d','d'],'D':[0,'b',0,'c','c','c']})"
   ]
  },
  {
   "cell_type": "code",
   "execution_count": 1053,
   "metadata": {
    "collapsed": false
   },
   "outputs": [],
   "source": [
    "B=B.set_index('bc',drop=True)"
   ]
  },
  {
   "cell_type": "code",
   "execution_count": null,
   "metadata": {
    "collapsed": true
   },
   "outputs": [],
   "source": [
    "['Conference','Corporate','Hackathon','Newsletter','Others','Upcoming Events','Webinar']"
   ]
  },
  {
   "cell_type": "code",
   "execution_count": null,
   "metadata": {
    "collapsed": true
   },
   "outputs": [],
   "source": [
    "Data=data[['Conference','Corporate','Hackathon','Newsletter','Others','Upcoming Events','Webinar']]"
   ]
  },
  {
   "cell_type": "code",
   "execution_count": 1129,
   "metadata": {
    "collapsed": false
   },
   "outputs": [],
   "source": [
    "Test.to_csv('Test_finaL.csv')"
   ]
  },
  {
   "cell_type": "code",
   "execution_count": 1128,
   "metadata": {
    "collapsed": false
   },
   "outputs": [],
   "source": [
    "for j,k in category.items():\n",
    "    for i in UniqueIds_click:\n",
    "        Test.loc[Test[j].isnull()&Test['user_id']==i,j]=0"
   ]
  },
  {
   "cell_type": "code",
   "execution_count": 1195,
   "metadata": {
    "collapsed": false
   },
   "outputs": [
    {
     "name": "stderr",
     "output_type": "stream",
     "text": [
      "F:\\Anaconda\\lib\\site-packages\\ipykernel\\__main__.py:6: SettingWithCopyWarning: \n",
      "A value is trying to be set on a copy of a slice from a DataFrame\n",
      "\n",
      "See the caveats in the documentation: http://pandas.pydata.org/pandas-docs/stable/indexing.html#indexing-view-versus-copy\n",
      "F:\\Anaconda\\lib\\site-packages\\ipykernel\\__main__.py:8: SettingWithCopyWarning: \n",
      "A value is trying to be set on a copy of a slice from a DataFrame\n",
      "\n",
      "See the caveats in the documentation: http://pandas.pydata.org/pandas-docs/stable/indexing.html#indexing-view-versus-copy\n",
      "F:\\Anaconda\\lib\\site-packages\\ipykernel\\__main__.py:13: SettingWithCopyWarning: \n",
      "A value is trying to be set on a copy of a slice from a DataFrame\n",
      "\n",
      "See the caveats in the documentation: http://pandas.pydata.org/pandas-docs/stable/indexing.html#indexing-view-versus-copy\n",
      "F:\\Anaconda\\lib\\site-packages\\ipykernel\\__main__.py:11: SettingWithCopyWarning: \n",
      "A value is trying to be set on a copy of a slice from a DataFrame\n",
      "\n",
      "See the caveats in the documentation: http://pandas.pydata.org/pandas-docs/stable/indexing.html#indexing-view-versus-copy\n"
     ]
    }
   ],
   "source": [
    "for j,k in category.items():\n",
    "    for i in UniqueIds_click:\n",
    "        if i in Test.index:\n",
    "            try:    \n",
    "                if Test[j][i].any()==j:\n",
    "                    Test[j][i]=1\n",
    "                else:\n",
    "                    Test[j][i]=0\n",
    "            except:\n",
    "                if Test[j][i]==j:\n",
    "                    Test[j][i]=1\n",
    "                else:\n",
    "                    Test[j][i]=0\n"
   ]
  },
  {
   "cell_type": "code",
   "execution_count": 1169,
   "metadata": {
    "collapsed": false
   },
   "outputs": [
    {
     "data": {
      "text/plain": [
       "'Newsletter'"
      ]
     },
     "execution_count": 1169,
     "metadata": {},
     "output_type": "execute_result"
    }
   ],
   "source": [
    "Test['communication_type'][393]"
   ]
  },
  {
   "cell_type": "code",
   "execution_count": 1159,
   "metadata": {
    "collapsed": false
   },
   "outputs": [
    {
     "name": "stdout",
     "output_type": "stream",
     "text": [
      "d\n"
     ]
    }
   ],
   "source": [
    "if Test.loc[95437,'Newsletter'].any()=='Newsletter':\n",
    "    print('d')\n",
    "else: print('e')"
   ]
  },
  {
   "cell_type": "code",
   "execution_count": 1196,
   "metadata": {
    "collapsed": false
   },
   "outputs": [],
   "source": [
    "Test.to_csv('TEST_final.csv')"
   ]
  },
  {
   "cell_type": "code",
   "execution_count": 1194,
   "metadata": {
    "collapsed": false
   },
   "outputs": [],
   "source": [
    "Test=Test.set_index('user_id',drop=False)"
   ]
  },
  {
   "cell_type": "code",
   "execution_count": 1221,
   "metadata": {
    "collapsed": false
   },
   "outputs": [],
   "source": [
    "test=test.set_index('Unnamed: 0',drop=True)"
   ]
  },
  {
   "cell_type": "code",
   "execution_count": 1250,
   "metadata": {
    "collapsed": false
   },
   "outputs": [],
   "source": [
    "test.to_csv('Test_FinaL.csv')"
   ]
  },
  {
   "cell_type": "code",
   "execution_count": 1243,
   "metadata": {
    "collapsed": false
   },
   "outputs": [
    {
     "data": {
      "text/plain": [
       "array(['Newsletter', 'Upcoming Events', 'Hackathon', 'Corporate'], dtype=object)"
      ]
     },
     "execution_count": 1243,
     "metadata": {},
     "output_type": "execute_result"
    }
   ],
   "source": [
    "test.communication_type.unique()"
   ]
  },
  {
   "cell_type": "code",
   "execution_count": 1245,
   "metadata": {
    "collapsed": false
   },
   "outputs": [],
   "source": [
    "test=pd.get_dummies(test,columns=['communication_type'])"
   ]
  },
  {
   "cell_type": "code",
   "execution_count": 1246,
   "metadata": {
    "collapsed": false
   },
   "outputs": [],
   "source": [
    "data=pd.get_dummies(data,columns=['communication_type'])"
   ]
  },
  {
   "cell_type": "code",
   "execution_count": 1248,
   "metadata": {
    "collapsed": false
   },
   "outputs": [],
   "source": [
    "test['communication_type_Others']=0\n",
    "test['communication_type_Webinar']=0\n",
    "test['communication_type_Conference']=0"
   ]
  },
  {
   "cell_type": "code",
   "execution_count": 1258,
   "metadata": {
    "collapsed": false
   },
   "outputs": [],
   "source": [
    "Test.to_csv('Test_FinaL_nonan.csv')"
   ]
  },
  {
   "cell_type": "code",
   "execution_count": 1256,
   "metadata": {
    "collapsed": false
   },
   "outputs": [],
   "source": [
    "Test=Test.fillna({'U_cid_wts':0,'U_oid_wts':0})"
   ]
  },
  {
   "cell_type": "code",
   "execution_count": 397,
   "metadata": {
    "collapsed": false
   },
   "outputs": [],
   "source": [
    "uc_corr=uc_corr.set_index('user_id')"
   ]
  },
  {
   "cell_type": "code",
   "execution_count": 398,
   "metadata": {
    "collapsed": false
   },
   "outputs": [],
   "source": [
    "Dat=Data.join(uc_corr,on='user_id')"
   ]
  },
  {
   "cell_type": "code",
   "execution_count": 367,
   "metadata": {
    "collapsed": false
   },
   "outputs": [],
   "source": [
    "ucdict={}\n",
    "for i in U_C_corr['category'].unique():\n",
    "    ucdict[i]=U_C_corr.user_id[U_C_corr['category']==i].values.tolist()"
   ]
  },
  {
   "cell_type": "code",
   "execution_count": 952,
   "metadata": {
    "collapsed": false
   },
   "outputs": [],
   "source": [
    "comm=pd.DataFrame(camp['communication_type'])"
   ]
  },
  {
   "cell_type": "code",
   "execution_count": 966,
   "metadata": {
    "collapsed": true
   },
   "outputs": [],
   "source": [
    "campwt=pd.DataFrame(camp['campaign_weight'])"
   ]
  },
  {
   "cell_type": "code",
   "execution_count": 962,
   "metadata": {
    "collapsed": false
   },
   "outputs": [],
   "source": [
    "data= data.join(comm, on='campaign_id')"
   ]
  },
  {
   "cell_type": "code",
   "execution_count": 968,
   "metadata": {
    "collapsed": true
   },
   "outputs": [],
   "source": [
    "data=data.join(campwt,on='campaign_id')"
   ]
  },
  {
   "cell_type": "code",
   "execution_count": 963,
   "metadata": {
    "collapsed": false
   },
   "outputs": [],
   "source": [
    "test=test.join(comm, on='campaign_id')"
   ]
  },
  {
   "cell_type": "code",
   "execution_count": 969,
   "metadata": {
    "collapsed": false
   },
   "outputs": [],
   "source": [
    "test=test.join(campwt,on='campaign_id')"
   ]
  },
  {
   "cell_type": "code",
   "execution_count": 355,
   "metadata": {
    "collapsed": false
   },
   "outputs": [
    {
     "data": {
      "text/plain": [
       "array([('Conference', 44), ('Conference', 112), ('Conference', 158), ...,\n",
       "       ('Webinar', 235000), ('Webinar', 236832), ('Webinar', 238494)], dtype=object)"
      ]
     },
     "execution_count": 355,
     "metadata": {},
     "output_type": "execute_result"
    }
   ],
   "source": [
    "U_C_corr.index.values\n",
    "U_C_index=U_C_corr.index.tolist()"
   ]
  },
  {
   "cell_type": "code",
   "execution_count": 1242,
   "metadata": {
    "collapsed": false
   },
   "outputs": [
    {
     "data": {
      "text/html": [
       "<div>\n",
       "<style scoped>\n",
       "    .dataframe tbody tr th:only-of-type {\n",
       "        vertical-align: middle;\n",
       "    }\n",
       "\n",
       "    .dataframe tbody tr th {\n",
       "        vertical-align: top;\n",
       "    }\n",
       "\n",
       "    .dataframe thead th {\n",
       "        text-align: right;\n",
       "    }\n",
       "</style>\n",
       "<table border=\"1\" class=\"dataframe\">\n",
       "  <thead>\n",
       "    <tr style=\"text-align: right;\">\n",
       "      <th></th>\n",
       "      <th>campaign_id</th>\n",
       "      <th>communication_type</th>\n",
       "      <th>total_links</th>\n",
       "      <th>no_of_internal_links</th>\n",
       "      <th>no_of_images</th>\n",
       "      <th>no_of_sections</th>\n",
       "      <th>email_body</th>\n",
       "      <th>subject</th>\n",
       "      <th>email_url</th>\n",
       "      <th>campaign_wts</th>\n",
       "      <th>campaign_wts1</th>\n",
       "      <th>images</th>\n",
       "      <th>internal_links</th>\n",
       "      <th>sections</th>\n",
       "      <th>links</th>\n",
       "      <th>external_links</th>\n",
       "      <th>campaign_weight</th>\n",
       "    </tr>\n",
       "    <tr>\n",
       "      <th>campaign_id</th>\n",
       "      <th></th>\n",
       "      <th></th>\n",
       "      <th></th>\n",
       "      <th></th>\n",
       "      <th></th>\n",
       "      <th></th>\n",
       "      <th></th>\n",
       "      <th></th>\n",
       "      <th></th>\n",
       "      <th></th>\n",
       "      <th></th>\n",
       "      <th></th>\n",
       "      <th></th>\n",
       "      <th></th>\n",
       "      <th></th>\n",
       "      <th></th>\n",
       "      <th></th>\n",
       "    </tr>\n",
       "  </thead>\n",
       "  <tbody>\n",
       "    <tr>\n",
       "      <th>29</th>\n",
       "      <td>29</td>\n",
       "      <td>Newsletter</td>\n",
       "      <td>67</td>\n",
       "      <td>61</td>\n",
       "      <td>12</td>\n",
       "      <td>3</td>\n",
       "      <td>Dear AVians,\\r\\r\\r\\n \\r\\r\\r\\nWe are shaping up...</td>\n",
       "      <td>Sneak Peek: A look at the emerging data scienc...</td>\n",
       "      <td>http://r.newsletters.analyticsvidhya.com/7um44...</td>\n",
       "      <td>6</td>\n",
       "      <td>6</td>\n",
       "      <td>(10.0, 19.0]</td>\n",
       "      <td>(26.0, 191.0]</td>\n",
       "      <td>(2.0, 6.0]</td>\n",
       "      <td>(28.0, 203.0]</td>\n",
       "      <td>6</td>\n",
       "      <td>5.40</td>\n",
       "    </tr>\n",
       "    <tr>\n",
       "      <th>30</th>\n",
       "      <td>30</td>\n",
       "      <td>Upcoming Events</td>\n",
       "      <td>18</td>\n",
       "      <td>14</td>\n",
       "      <td>7</td>\n",
       "      <td>1</td>\n",
       "      <td>Dear AVians,\\r\\r\\r\\n \\r\\r\\r\\nAre your eager to...</td>\n",
       "      <td>[July] Data Science Expert Meetups &amp; Competiti...</td>\n",
       "      <td>http://r.newsletters.analyticsvidhya.com/7up0e...</td>\n",
       "      <td>5</td>\n",
       "      <td>5</td>\n",
       "      <td>(3.0, 10.0]</td>\n",
       "      <td>(7.0, 26.0]</td>\n",
       "      <td>(0.999, 2.0]</td>\n",
       "      <td>(9.0, 28.0]</td>\n",
       "      <td>4</td>\n",
       "      <td>4.61</td>\n",
       "    </tr>\n",
       "    <tr>\n",
       "      <th>31</th>\n",
       "      <td>31</td>\n",
       "      <td>Conference</td>\n",
       "      <td>15</td>\n",
       "      <td>13</td>\n",
       "      <td>5</td>\n",
       "      <td>1</td>\n",
       "      <td>Early Bird Pricing Till August 07  Save upto ...</td>\n",
       "      <td>Last chance to convince your boss before the E...</td>\n",
       "      <td>http://r.newsletters.analyticsvidhya.com/7usym...</td>\n",
       "      <td>2</td>\n",
       "      <td>2</td>\n",
       "      <td>(3.0, 10.0]</td>\n",
       "      <td>(7.0, 26.0]</td>\n",
       "      <td>(0.999, 2.0]</td>\n",
       "      <td>(9.0, 28.0]</td>\n",
       "      <td>2</td>\n",
       "      <td>1.91</td>\n",
       "    </tr>\n",
       "    <tr>\n",
       "      <th>32</th>\n",
       "      <td>32</td>\n",
       "      <td>Conference</td>\n",
       "      <td>24</td>\n",
       "      <td>19</td>\n",
       "      <td>7</td>\n",
       "      <td>1</td>\n",
       "      <td>\\r\\r\\r\\n \\r\\r\\r\\nHi ?\\r\\r\\r\\n \\r\\r\\r\\nBefore I...</td>\n",
       "      <td>A.I. &amp; Machine Learning: 5 reasons why you sho...</td>\n",
       "      <td>http://r.newsletters.analyticsvidhya.com/7uthl...</td>\n",
       "      <td>5</td>\n",
       "      <td>5</td>\n",
       "      <td>(3.0, 10.0]</td>\n",
       "      <td>(7.0, 26.0]</td>\n",
       "      <td>(0.999, 2.0]</td>\n",
       "      <td>(9.0, 28.0]</td>\n",
       "      <td>5</td>\n",
       "      <td>4.61</td>\n",
       "    </tr>\n",
       "    <tr>\n",
       "      <th>33</th>\n",
       "      <td>33</td>\n",
       "      <td>Others</td>\n",
       "      <td>7</td>\n",
       "      <td>3</td>\n",
       "      <td>1</td>\n",
       "      <td>1</td>\n",
       "      <td>Fireside Chat with DJ Patil - the master is he...</td>\n",
       "      <td>[Delhi NCR] Fireside Chat with DJ Patil, Forme...</td>\n",
       "      <td>http://r.newsletters.analyticsvidhya.com/7uvlg...</td>\n",
       "      <td>4</td>\n",
       "      <td>4</td>\n",
       "      <td>(0.999, 3.0]</td>\n",
       "      <td>(1.999, 7.0]</td>\n",
       "      <td>(0.999, 2.0]</td>\n",
       "      <td>(5.999, 9.0]</td>\n",
       "      <td>4</td>\n",
       "      <td>3.31</td>\n",
       "    </tr>\n",
       "    <tr>\n",
       "      <th>34</th>\n",
       "      <td>34</td>\n",
       "      <td>Newsletter</td>\n",
       "      <td>75</td>\n",
       "      <td>64</td>\n",
       "      <td>12</td>\n",
       "      <td>4</td>\n",
       "      <td>\\r\\r\\r\\nAugust Newsletter\\r\\r\\r\\n \\r\\r\\r\\nDear...</td>\n",
       "      <td>[AV Newsletter] Fireside Chat with DJ Patil, D...</td>\n",
       "      <td>http://r.newsletters.analyticsvidhya.com/7uwwu...</td>\n",
       "      <td>5</td>\n",
       "      <td>5</td>\n",
       "      <td>(10.0, 19.0]</td>\n",
       "      <td>(26.0, 191.0]</td>\n",
       "      <td>(2.0, 6.0]</td>\n",
       "      <td>(28.0, 203.0]</td>\n",
       "      <td>11</td>\n",
       "      <td>4.98</td>\n",
       "    </tr>\n",
       "    <tr>\n",
       "      <th>35</th>\n",
       "      <td>35</td>\n",
       "      <td>Others</td>\n",
       "      <td>9</td>\n",
       "      <td>2</td>\n",
       "      <td>1</td>\n",
       "      <td>1</td>\n",
       "      <td>Fireside Chat with DJ Patil - Watch Live!\\r\\r\\...</td>\n",
       "      <td>Watch Live: Fireside Chat with DJ Patil</td>\n",
       "      <td>http://r.newsletters.analyticsvidhya.com/7ux6c...</td>\n",
       "      <td>2</td>\n",
       "      <td>2</td>\n",
       "      <td>(0.999, 3.0]</td>\n",
       "      <td>(1.999, 7.0]</td>\n",
       "      <td>(0.999, 2.0]</td>\n",
       "      <td>(5.999, 9.0]</td>\n",
       "      <td>7</td>\n",
       "      <td>2.20</td>\n",
       "    </tr>\n",
       "    <tr>\n",
       "      <th>36</th>\n",
       "      <td>36</td>\n",
       "      <td>Conference</td>\n",
       "      <td>13</td>\n",
       "      <td>11</td>\n",
       "      <td>2</td>\n",
       "      <td>1</td>\n",
       "      <td>Announcing Dr. Kirk Borne as Keynote Speaker\\r...</td>\n",
       "      <td>Dr Kirk Borne of Booz Allen Hamilton, to keyno...</td>\n",
       "      <td>http://r.newsletters.analyticsvidhya.com/7uxpa...</td>\n",
       "      <td>3</td>\n",
       "      <td>3</td>\n",
       "      <td>(0.999, 3.0]</td>\n",
       "      <td>(7.0, 26.0]</td>\n",
       "      <td>(0.999, 2.0]</td>\n",
       "      <td>(9.0, 28.0]</td>\n",
       "      <td>2</td>\n",
       "      <td>2.41</td>\n",
       "    </tr>\n",
       "    <tr>\n",
       "      <th>37</th>\n",
       "      <td>37</td>\n",
       "      <td>Conference</td>\n",
       "      <td>9</td>\n",
       "      <td>7</td>\n",
       "      <td>3</td>\n",
       "      <td>1</td>\n",
       "      <td>Last day to save maximum on tickets\\r\\r\\r\\n \\r...</td>\n",
       "      <td>[Last Day] Early Bird Offer on conference pass...</td>\n",
       "      <td>http://r.newsletters.analyticsvidhya.com/7uyr8...</td>\n",
       "      <td>1</td>\n",
       "      <td>1</td>\n",
       "      <td>(0.999, 3.0]</td>\n",
       "      <td>(1.999, 7.0]</td>\n",
       "      <td>(0.999, 2.0]</td>\n",
       "      <td>(5.999, 9.0]</td>\n",
       "      <td>2</td>\n",
       "      <td>1.41</td>\n",
       "    </tr>\n",
       "    <tr>\n",
       "      <th>38</th>\n",
       "      <td>38</td>\n",
       "      <td>Conference</td>\n",
       "      <td>28</td>\n",
       "      <td>26</td>\n",
       "      <td>12</td>\n",
       "      <td>3</td>\n",
       "      <td>Early Bird Pricing expires on August 07\\r\\r\\r\\...</td>\n",
       "      <td>Early Bird offer expires in 2 Days. Save your ...</td>\n",
       "      <td>http://r.newsletters.analyticsvidhya.com/7uz0p...</td>\n",
       "      <td>1</td>\n",
       "      <td>1</td>\n",
       "      <td>(10.0, 19.0]</td>\n",
       "      <td>(7.0, 26.0]</td>\n",
       "      <td>(2.0, 6.0]</td>\n",
       "      <td>(9.0, 28.0]</td>\n",
       "      <td>2</td>\n",
       "      <td>2.86</td>\n",
       "    </tr>\n",
       "    <tr>\n",
       "      <th>39</th>\n",
       "      <td>39</td>\n",
       "      <td>Webinar</td>\n",
       "      <td>9</td>\n",
       "      <td>4</td>\n",
       "      <td>2</td>\n",
       "      <td>1</td>\n",
       "      <td>Analytics Vidhya &amp; UpX Academy presents \\r\\r\\r...</td>\n",
       "      <td>[New Webinar] Can non programmers join Big Dat...</td>\n",
       "      <td>http://r.newsletters.analyticsvidhya.com/7uza6...</td>\n",
       "      <td>2</td>\n",
       "      <td>2</td>\n",
       "      <td>(0.999, 3.0]</td>\n",
       "      <td>(1.999, 7.0]</td>\n",
       "      <td>(0.999, 2.0]</td>\n",
       "      <td>(5.999, 9.0]</td>\n",
       "      <td>5</td>\n",
       "      <td>2.07</td>\n",
       "    </tr>\n",
       "    <tr>\n",
       "      <th>40</th>\n",
       "      <td>40</td>\n",
       "      <td>Conference</td>\n",
       "      <td>10</td>\n",
       "      <td>8</td>\n",
       "      <td>2</td>\n",
       "      <td>1</td>\n",
       "      <td>Machine learning algorithms are considered bla...</td>\n",
       "      <td>Visualizing Machine Learning with Anand S, CEO...</td>\n",
       "      <td>http://r.newsletters.analyticsvidhya.com/7v1x0...</td>\n",
       "      <td>1</td>\n",
       "      <td>1</td>\n",
       "      <td>(0.999, 3.0]</td>\n",
       "      <td>(7.0, 26.0]</td>\n",
       "      <td>(0.999, 2.0]</td>\n",
       "      <td>(9.0, 28.0]</td>\n",
       "      <td>2</td>\n",
       "      <td>1.41</td>\n",
       "    </tr>\n",
       "    <tr>\n",
       "      <th>41</th>\n",
       "      <td>41</td>\n",
       "      <td>Corporate</td>\n",
       "      <td>14</td>\n",
       "      <td>10</td>\n",
       "      <td>2</td>\n",
       "      <td>1</td>\n",
       "      <td>Step into the Future of Artificial Intelligenc...</td>\n",
       "      <td>Participate at DataHack Summit 2017 - India's ...</td>\n",
       "      <td>http://r.newsletters.analyticsvidhya.com/7v3hw...</td>\n",
       "      <td>1</td>\n",
       "      <td>1</td>\n",
       "      <td>(0.999, 3.0]</td>\n",
       "      <td>(7.0, 26.0]</td>\n",
       "      <td>(0.999, 2.0]</td>\n",
       "      <td>(9.0, 28.0]</td>\n",
       "      <td>4</td>\n",
       "      <td>1.41</td>\n",
       "    </tr>\n",
       "    <tr>\n",
       "      <th>42</th>\n",
       "      <td>42</td>\n",
       "      <td>Newsletter</td>\n",
       "      <td>88</td>\n",
       "      <td>79</td>\n",
       "      <td>13</td>\n",
       "      <td>4</td>\n",
       "      <td>September Newsletter\\r\\r\\r\\n \\r\\r\\r\\nDear AVia...</td>\n",
       "      <td>[September] Exciting days ahead with DataHack ...</td>\n",
       "      <td>http://r.newsletters.analyticsvidhya.com/7v3rd...</td>\n",
       "      <td>6</td>\n",
       "      <td>6</td>\n",
       "      <td>(10.0, 19.0]</td>\n",
       "      <td>(26.0, 191.0]</td>\n",
       "      <td>(2.0, 6.0]</td>\n",
       "      <td>(28.0, 203.0]</td>\n",
       "      <td>9</td>\n",
       "      <td>5.48</td>\n",
       "    </tr>\n",
       "    <tr>\n",
       "      <th>43</th>\n",
       "      <td>43</td>\n",
       "      <td>Corporate</td>\n",
       "      <td>11</td>\n",
       "      <td>7</td>\n",
       "      <td>3</td>\n",
       "      <td>1</td>\n",
       "      <td>\\r\\r\\r\\nHosted Your Corporate Hackathon Yet?\\r...</td>\n",
       "      <td>Innovate and grow your business through Data H...</td>\n",
       "      <td>http://r.newsletters.analyticsvidhya.com/7v4ta...</td>\n",
       "      <td>1</td>\n",
       "      <td>1</td>\n",
       "      <td>(0.999, 3.0]</td>\n",
       "      <td>(1.999, 7.0]</td>\n",
       "      <td>(0.999, 2.0]</td>\n",
       "      <td>(9.0, 28.0]</td>\n",
       "      <td>4</td>\n",
       "      <td>1.41</td>\n",
       "    </tr>\n",
       "    <tr>\n",
       "      <th>44</th>\n",
       "      <td>44</td>\n",
       "      <td>Upcoming Events</td>\n",
       "      <td>60</td>\n",
       "      <td>56</td>\n",
       "      <td>19</td>\n",
       "      <td>6</td>\n",
       "      <td>[September Events]\\r\\r\\r\\n \\r\\r\\r\\nDear AVians...</td>\n",
       "      <td>[September] Data Science Hackathons, Meetups a...</td>\n",
       "      <td>http://r.newsletters.analyticsvidhya.com/7veam...</td>\n",
       "      <td>4</td>\n",
       "      <td>4</td>\n",
       "      <td>(10.0, 19.0]</td>\n",
       "      <td>(26.0, 191.0]</td>\n",
       "      <td>(2.0, 6.0]</td>\n",
       "      <td>(28.0, 203.0]</td>\n",
       "      <td>4</td>\n",
       "      <td>3.68</td>\n",
       "    </tr>\n",
       "    <tr>\n",
       "      <th>45</th>\n",
       "      <td>45</td>\n",
       "      <td>Hackathon</td>\n",
       "      <td>7</td>\n",
       "      <td>3</td>\n",
       "      <td>2</td>\n",
       "      <td>1</td>\n",
       "      <td>Click Prediction\\r\\r\\r\\nData Science Hackathon...</td>\n",
       "      <td>Click Prediction | Data Science Hackathon | Wi...</td>\n",
       "      <td>http://r.newsletters.analyticsvidhya.com/7vgeh...</td>\n",
       "      <td>3</td>\n",
       "      <td>3</td>\n",
       "      <td>(0.999, 3.0]</td>\n",
       "      <td>(1.999, 7.0]</td>\n",
       "      <td>(0.999, 2.0]</td>\n",
       "      <td>(5.999, 9.0]</td>\n",
       "      <td>4</td>\n",
       "      <td>2.68</td>\n",
       "    </tr>\n",
       "    <tr>\n",
       "      <th>46</th>\n",
       "      <td>46</td>\n",
       "      <td>Hackathon</td>\n",
       "      <td>7</td>\n",
       "      <td>3</td>\n",
       "      <td>2</td>\n",
       "      <td>1</td>\n",
       "      <td>Click Prediction\\r\\r\\r\\nData Science Hackathon...</td>\n",
       "      <td>[Starts Tonight] Click Prediction Hackathon | ...</td>\n",
       "      <td>http://r.newsletters.analyticsvidhya.com/7vj1a...</td>\n",
       "      <td>3</td>\n",
       "      <td>3</td>\n",
       "      <td>(0.999, 3.0]</td>\n",
       "      <td>(1.999, 7.0]</td>\n",
       "      <td>(0.999, 2.0]</td>\n",
       "      <td>(5.999, 9.0]</td>\n",
       "      <td>4</td>\n",
       "      <td>2.68</td>\n",
       "    </tr>\n",
       "    <tr>\n",
       "      <th>47</th>\n",
       "      <td>47</td>\n",
       "      <td>Hackathon</td>\n",
       "      <td>8</td>\n",
       "      <td>4</td>\n",
       "      <td>2</td>\n",
       "      <td>1</td>\n",
       "      <td>\\r\\r\\r\\nCodeFest by IIT BHU\\r\\r\\r\\n[Coding Fes...</td>\n",
       "      <td>[New Hackathon] CodeFest by IIT BHU | Win Priz...</td>\n",
       "      <td>http://r.newsletters.analyticsvidhya.com/7vkvo...</td>\n",
       "      <td>3</td>\n",
       "      <td>3</td>\n",
       "      <td>(0.999, 3.0]</td>\n",
       "      <td>(1.999, 7.0]</td>\n",
       "      <td>(0.999, 2.0]</td>\n",
       "      <td>(5.999, 9.0]</td>\n",
       "      <td>4</td>\n",
       "      <td>2.68</td>\n",
       "    </tr>\n",
       "    <tr>\n",
       "      <th>48</th>\n",
       "      <td>48</td>\n",
       "      <td>Newsletter</td>\n",
       "      <td>203</td>\n",
       "      <td>191</td>\n",
       "      <td>12</td>\n",
       "      <td>4</td>\n",
       "      <td>\\r\\r\\r\\nOctober Newsletter\\r\\r\\r\\n \\r\\r\\r\\nDea...</td>\n",
       "      <td>[October 2017] - Just a month to go! DataHack ...</td>\n",
       "      <td>http://r.newsletters.analyticsvidhya.com/7vlxl...</td>\n",
       "      <td>4</td>\n",
       "      <td>4</td>\n",
       "      <td>(10.0, 19.0]</td>\n",
       "      <td>(26.0, 191.0]</td>\n",
       "      <td>(2.0, 6.0]</td>\n",
       "      <td>(28.0, 203.0]</td>\n",
       "      <td>12</td>\n",
       "      <td>3.86</td>\n",
       "    </tr>\n",
       "    <tr>\n",
       "      <th>49</th>\n",
       "      <td>49</td>\n",
       "      <td>Conference</td>\n",
       "      <td>119</td>\n",
       "      <td>117</td>\n",
       "      <td>16</td>\n",
       "      <td>1</td>\n",
       "      <td>Dear Patron,\\r\\r\\r\\n \\r\\r\\r\\nAnalytics Vidhya ...</td>\n",
       "      <td>Register @ DataHack Summit 2017 - India's Larg...</td>\n",
       "      <td>http://r.newsletters.analyticsvidhya.com/o7ohw...</td>\n",
       "      <td>6</td>\n",
       "      <td>6</td>\n",
       "      <td>(10.0, 19.0]</td>\n",
       "      <td>(26.0, 191.0]</td>\n",
       "      <td>(0.999, 2.0]</td>\n",
       "      <td>(28.0, 203.0]</td>\n",
       "      <td>2</td>\n",
       "      <td>5.25</td>\n",
       "    </tr>\n",
       "    <tr>\n",
       "      <th>50</th>\n",
       "      <td>50</td>\n",
       "      <td>Upcoming Events</td>\n",
       "      <td>109</td>\n",
       "      <td>105</td>\n",
       "      <td>17</td>\n",
       "      <td>6</td>\n",
       "      <td>[October Hackathons, Meetups, Events, Webinars...</td>\n",
       "      <td>[October] Data Science Hackathons, Meetups and...</td>\n",
       "      <td>http://r.newsletters.analyticsvidhya.com/7voke...</td>\n",
       "      <td>4</td>\n",
       "      <td>4</td>\n",
       "      <td>(10.0, 19.0]</td>\n",
       "      <td>(26.0, 191.0]</td>\n",
       "      <td>(2.0, 6.0]</td>\n",
       "      <td>(28.0, 203.0]</td>\n",
       "      <td>4</td>\n",
       "      <td>4.25</td>\n",
       "    </tr>\n",
       "    <tr>\n",
       "      <th>51</th>\n",
       "      <td>51</td>\n",
       "      <td>Hackathon</td>\n",
       "      <td>8</td>\n",
       "      <td>4</td>\n",
       "      <td>2</td>\n",
       "      <td>1</td>\n",
       "      <td>Upcoming Hackathons\\r\\r\\r\\n[Machine Learning] ...</td>\n",
       "      <td>[Data Science Hackathons] Cross -Sell &amp; Churn ...</td>\n",
       "      <td>http://r.newsletters.analyticsvidhya.com/7vs95...</td>\n",
       "      <td>2</td>\n",
       "      <td>2</td>\n",
       "      <td>(0.999, 3.0]</td>\n",
       "      <td>(1.999, 7.0]</td>\n",
       "      <td>(0.999, 2.0]</td>\n",
       "      <td>(5.999, 9.0]</td>\n",
       "      <td>4</td>\n",
       "      <td>2.18</td>\n",
       "    </tr>\n",
       "    <tr>\n",
       "      <th>52</th>\n",
       "      <td>52</td>\n",
       "      <td>Newsletter</td>\n",
       "      <td>67</td>\n",
       "      <td>62</td>\n",
       "      <td>10</td>\n",
       "      <td>4</td>\n",
       "      <td>November Newsletter\\r\\r\\r\\n \\r\\r\\r\\nDear AVian...</td>\n",
       "      <td>[Newsletter] Stage for DataHack Summit 2017 is...</td>\n",
       "      <td>http://r.newsletters.analyticsvidhya.com/7vtb2...</td>\n",
       "      <td>6</td>\n",
       "      <td>6</td>\n",
       "      <td>(3.0, 10.0]</td>\n",
       "      <td>(26.0, 191.0]</td>\n",
       "      <td>(2.0, 6.0]</td>\n",
       "      <td>(28.0, 203.0]</td>\n",
       "      <td>5</td>\n",
       "      <td>5.44</td>\n",
       "    </tr>\n",
       "    <tr>\n",
       "      <th>53</th>\n",
       "      <td>53</td>\n",
       "      <td>Conference</td>\n",
       "      <td>104</td>\n",
       "      <td>100</td>\n",
       "      <td>13</td>\n",
       "      <td>1</td>\n",
       "      <td>3 DAYS | 30 TALKS | 10 HACK SESSIONS | 6 WORKS...</td>\n",
       "      <td>[Register Now] Just 2 days to go for India's b...</td>\n",
       "      <td>http://r.newsletters.analyticsvidhya.com/7vv5g...</td>\n",
       "      <td>5</td>\n",
       "      <td>5</td>\n",
       "      <td>(10.0, 19.0]</td>\n",
       "      <td>(26.0, 191.0]</td>\n",
       "      <td>(0.999, 2.0]</td>\n",
       "      <td>(28.0, 203.0]</td>\n",
       "      <td>4</td>\n",
       "      <td>4.75</td>\n",
       "    </tr>\n",
       "    <tr>\n",
       "      <th>54</th>\n",
       "      <td>54</td>\n",
       "      <td>Newsletter</td>\n",
       "      <td>63</td>\n",
       "      <td>58</td>\n",
       "      <td>8</td>\n",
       "      <td>4</td>\n",
       "      <td>December Newsletter\\r\\r\\r\\n \\r\\r\\r\\nDear AVian...</td>\n",
       "      <td>[November Updates] - Announcing DataFest 2018,...</td>\n",
       "      <td>http://r.newsletters.analyticsvidhya.com/7vzmm...</td>\n",
       "      <td>6</td>\n",
       "      <td>6</td>\n",
       "      <td>(3.0, 10.0]</td>\n",
       "      <td>(26.0, 191.0]</td>\n",
       "      <td>(2.0, 6.0]</td>\n",
       "      <td>(28.0, 203.0]</td>\n",
       "      <td>5</td>\n",
       "      <td>5.33</td>\n",
       "    </tr>\n",
       "    <tr>\n",
       "      <th>55</th>\n",
       "      <td>55</td>\n",
       "      <td>Corporate</td>\n",
       "      <td>11</td>\n",
       "      <td>7</td>\n",
       "      <td>5</td>\n",
       "      <td>1</td>\n",
       "      <td>Do you know? You can identify and hire the bes...</td>\n",
       "      <td>Hire Top Data Scientists In Less Than 24 Hours</td>\n",
       "      <td>http://r.newsletters.analyticsvidhya.com/7w2se...</td>\n",
       "      <td>4</td>\n",
       "      <td>1</td>\n",
       "      <td>(3.0, 10.0]</td>\n",
       "      <td>(1.999, 7.0]</td>\n",
       "      <td>(0.999, 2.0]</td>\n",
       "      <td>(9.0, 28.0]</td>\n",
       "      <td>4</td>\n",
       "      <td>2.91</td>\n",
       "    </tr>\n",
       "    <tr>\n",
       "      <th>56</th>\n",
       "      <td>56</td>\n",
       "      <td>Newsletter</td>\n",
       "      <td>42</td>\n",
       "      <td>38</td>\n",
       "      <td>10</td>\n",
       "      <td>4</td>\n",
       "      <td>\\r\\r\\r\\nJanuary 2018 Newsletter\\r\\r\\r\\n \\r\\r\\r...</td>\n",
       "      <td>[January] Year 2018 - Bigger &amp; Exciting challe...</td>\n",
       "      <td>http://r.newsletters.analyticsvidhya.com/7w3uc...</td>\n",
       "      <td>6</td>\n",
       "      <td>6</td>\n",
       "      <td>(3.0, 10.0]</td>\n",
       "      <td>(26.0, 191.0]</td>\n",
       "      <td>(2.0, 6.0]</td>\n",
       "      <td>(28.0, 203.0]</td>\n",
       "      <td>4</td>\n",
       "      <td>5.33</td>\n",
       "    </tr>\n",
       "    <tr>\n",
       "      <th>57</th>\n",
       "      <td>57</td>\n",
       "      <td>Upcoming Events</td>\n",
       "      <td>40</td>\n",
       "      <td>36</td>\n",
       "      <td>15</td>\n",
       "      <td>4</td>\n",
       "      <td>[January - Hiring Hackathons, LearnUps, Contes...</td>\n",
       "      <td>[January 2018] Upcoming Hiring Hackathons, Lea...</td>\n",
       "      <td>http://r.newsletters.analyticsvidhya.com/7w43t...</td>\n",
       "      <td>4</td>\n",
       "      <td>4</td>\n",
       "      <td>(10.0, 19.0]</td>\n",
       "      <td>(26.0, 191.0]</td>\n",
       "      <td>(2.0, 6.0]</td>\n",
       "      <td>(28.0, 203.0]</td>\n",
       "      <td>4</td>\n",
       "      <td>4.36</td>\n",
       "    </tr>\n",
       "    <tr>\n",
       "      <th>58</th>\n",
       "      <td>58</td>\n",
       "      <td>Hackathon</td>\n",
       "      <td>6</td>\n",
       "      <td>2</td>\n",
       "      <td>2</td>\n",
       "      <td>1</td>\n",
       "      <td>Analytics Vidhya Hiring Hackathon\\r\\r\\r\\n \\r\\r...</td>\n",
       "      <td>[13 January] Get Hired with Analytics Vidhya H...</td>\n",
       "      <td>http://r.newsletters.analyticsvidhya.com/7w5y6...</td>\n",
       "      <td>3</td>\n",
       "      <td>3</td>\n",
       "      <td>(0.999, 3.0]</td>\n",
       "      <td>(1.999, 7.0]</td>\n",
       "      <td>(0.999, 2.0]</td>\n",
       "      <td>(5.999, 9.0]</td>\n",
       "      <td>4</td>\n",
       "      <td>2.96</td>\n",
       "    </tr>\n",
       "    <tr>\n",
       "      <th>59</th>\n",
       "      <td>59</td>\n",
       "      <td>Corporate</td>\n",
       "      <td>8</td>\n",
       "      <td>4</td>\n",
       "      <td>5</td>\n",
       "      <td>1</td>\n",
       "      <td>Do you know? You can identify and hire the bes...</td>\n",
       "      <td>Hire Top Talent From 1,00,000+ Data Scientists</td>\n",
       "      <td>http://r.newsletters.analyticsvidhya.com/7w6qm...</td>\n",
       "      <td>4</td>\n",
       "      <td>1</td>\n",
       "      <td>(3.0, 10.0]</td>\n",
       "      <td>(1.999, 7.0]</td>\n",
       "      <td>(0.999, 2.0]</td>\n",
       "      <td>(5.999, 9.0]</td>\n",
       "      <td>4</td>\n",
       "      <td>3.18</td>\n",
       "    </tr>\n",
       "    <tr>\n",
       "      <th>60</th>\n",
       "      <td>60</td>\n",
       "      <td>Corporate</td>\n",
       "      <td>11</td>\n",
       "      <td>7</td>\n",
       "      <td>3</td>\n",
       "      <td>3</td>\n",
       "      <td>Get Over 100,000 Data Scientists To Solve Your...</td>\n",
       "      <td>Get 1000+ Data-Driven Solutions For Your Busin...</td>\n",
       "      <td>http://r.newsletters.analyticsvidhya.com/7w704...</td>\n",
       "      <td>3</td>\n",
       "      <td>1</td>\n",
       "      <td>(0.999, 3.0]</td>\n",
       "      <td>(1.999, 7.0]</td>\n",
       "      <td>(2.0, 6.0]</td>\n",
       "      <td>(9.0, 28.0]</td>\n",
       "      <td>4</td>\n",
       "      <td>2.64</td>\n",
       "    </tr>\n",
       "    <tr>\n",
       "      <th>61</th>\n",
       "      <td>61</td>\n",
       "      <td>Corporate</td>\n",
       "      <td>8</td>\n",
       "      <td>4</td>\n",
       "      <td>9</td>\n",
       "      <td>1</td>\n",
       "      <td>Searching For Top Data Scientists To Join Your...</td>\n",
       "      <td>Recruit Top Data Science Professionals (Chief ...</td>\n",
       "      <td>http://r.newsletters.analyticsvidhya.com/7wghg...</td>\n",
       "      <td>3</td>\n",
       "      <td>1</td>\n",
       "      <td>(3.0, 10.0]</td>\n",
       "      <td>(1.999, 7.0]</td>\n",
       "      <td>(0.999, 2.0]</td>\n",
       "      <td>(5.999, 9.0]</td>\n",
       "      <td>4</td>\n",
       "      <td>3.11</td>\n",
       "    </tr>\n",
       "    <tr>\n",
       "      <th>62</th>\n",
       "      <td>62</td>\n",
       "      <td>Hackathon</td>\n",
       "      <td>7</td>\n",
       "      <td>3</td>\n",
       "      <td>2</td>\n",
       "      <td>1</td>\n",
       "      <td>\\r\\r\\r\\nFelicity'18 - Kings Of Machine Learnin...</td>\n",
       "      <td>[24 Jan] IIIT Hyderabad - Felicity'18 Machine ...</td>\n",
       "      <td>http://r.newsletters.analyticsvidhya.com/7wh9w...</td>\n",
       "      <td>3</td>\n",
       "      <td>3</td>\n",
       "      <td>(0.999, 3.0]</td>\n",
       "      <td>(1.999, 7.0]</td>\n",
       "      <td>(0.999, 2.0]</td>\n",
       "      <td>(5.999, 9.0]</td>\n",
       "      <td>4</td>\n",
       "      <td>2.68</td>\n",
       "    </tr>\n",
       "    <tr>\n",
       "      <th>63</th>\n",
       "      <td>63</td>\n",
       "      <td>Newsletter</td>\n",
       "      <td>68</td>\n",
       "      <td>64</td>\n",
       "      <td>15</td>\n",
       "      <td>5</td>\n",
       "      <td>\\r\\r\\r\\nFebruary 2018 Newsletter\\r\\r\\r\\n \\r\\r\\...</td>\n",
       "      <td>AVbytes, Ultimate 2018 learning path and aweso...</td>\n",
       "      <td>http://r.newsletters.analyticsvidhya.com/7whsu...</td>\n",
       "      <td>6</td>\n",
       "      <td>6</td>\n",
       "      <td>(10.0, 19.0]</td>\n",
       "      <td>(26.0, 191.0]</td>\n",
       "      <td>(2.0, 6.0]</td>\n",
       "      <td>(28.0, 203.0]</td>\n",
       "      <td>4</td>\n",
       "      <td>5.48</td>\n",
       "    </tr>\n",
       "    <tr>\n",
       "      <th>64</th>\n",
       "      <td>64</td>\n",
       "      <td>Upcoming Events</td>\n",
       "      <td>49</td>\n",
       "      <td>45</td>\n",
       "      <td>14</td>\n",
       "      <td>4</td>\n",
       "      <td>[February - Hiring Hackathons, LearnUps, Conte...</td>\n",
       "      <td>[February 2018] Upcoming Hiring Hackathons, Da...</td>\n",
       "      <td>http://r.newsletters.analyticsvidhya.com/7wjn8...</td>\n",
       "      <td>4</td>\n",
       "      <td>4</td>\n",
       "      <td>(10.0, 19.0]</td>\n",
       "      <td>(26.0, 191.0]</td>\n",
       "      <td>(2.0, 6.0]</td>\n",
       "      <td>(28.0, 203.0]</td>\n",
       "      <td>4</td>\n",
       "      <td>4.36</td>\n",
       "    </tr>\n",
       "    <tr>\n",
       "      <th>65</th>\n",
       "      <td>65</td>\n",
       "      <td>Hackathon</td>\n",
       "      <td>7</td>\n",
       "      <td>3</td>\n",
       "      <td>1</td>\n",
       "      <td>1</td>\n",
       "      <td>IEOR @ IITB &amp; McKinsey Knowledge Centre India ...</td>\n",
       "      <td>[New Hackathon] The Young Optimization Cracker...</td>\n",
       "      <td>http://r.newsletters.analyticsvidhya.com/7wjwp...</td>\n",
       "      <td>3</td>\n",
       "      <td>3</td>\n",
       "      <td>(0.999, 3.0]</td>\n",
       "      <td>(1.999, 7.0]</td>\n",
       "      <td>(0.999, 2.0]</td>\n",
       "      <td>(5.999, 9.0]</td>\n",
       "      <td>4</td>\n",
       "      <td>2.81</td>\n",
       "    </tr>\n",
       "    <tr>\n",
       "      <th>66</th>\n",
       "      <td>66</td>\n",
       "      <td>Corporate</td>\n",
       "      <td>16</td>\n",
       "      <td>12</td>\n",
       "      <td>13</td>\n",
       "      <td>1</td>\n",
       "      <td>Not Able To Train Your Data Science Team On Ar...</td>\n",
       "      <td>4 Top Data Science Trainings For Your Team</td>\n",
       "      <td>http://r.newsletters.analyticsvidhya.com/7wkfo...</td>\n",
       "      <td>2</td>\n",
       "      <td>6</td>\n",
       "      <td>(10.0, 19.0]</td>\n",
       "      <td>(7.0, 26.0]</td>\n",
       "      <td>(0.999, 2.0]</td>\n",
       "      <td>(9.0, 28.0]</td>\n",
       "      <td>4</td>\n",
       "      <td>2.37</td>\n",
       "    </tr>\n",
       "    <tr>\n",
       "      <th>67</th>\n",
       "      <td>67</td>\n",
       "      <td>Hackathon</td>\n",
       "      <td>7</td>\n",
       "      <td>3</td>\n",
       "      <td>1</td>\n",
       "      <td>1</td>\n",
       "      <td>Anheuser Busch InBev: Data Engineering Talent ...</td>\n",
       "      <td>[New Hackathon] ABInBev : Data Engineering Tal...</td>\n",
       "      <td>http://r.newsletters.analyticsvidhya.com/7wnby...</td>\n",
       "      <td>3</td>\n",
       "      <td>3</td>\n",
       "      <td>(0.999, 3.0]</td>\n",
       "      <td>(1.999, 7.0]</td>\n",
       "      <td>(0.999, 2.0]</td>\n",
       "      <td>(5.999, 9.0]</td>\n",
       "      <td>4</td>\n",
       "      <td>2.81</td>\n",
       "    </tr>\n",
       "    <tr>\n",
       "      <th>68</th>\n",
       "      <td>68</td>\n",
       "      <td>Hackathon</td>\n",
       "      <td>7</td>\n",
       "      <td>3</td>\n",
       "      <td>1</td>\n",
       "      <td>1</td>\n",
       "      <td>Dear Hacker,\\r\\r\\r\\n\\r\\r\\r\\nAnheuser Busch InB...</td>\n",
       "      <td>[Hiring Hackathon] ABInBev : Data Engineering ...</td>\n",
       "      <td>http://r.newsletters.analyticsvidhya.com/7wo4e...</td>\n",
       "      <td>3</td>\n",
       "      <td>3</td>\n",
       "      <td>(0.999, 3.0]</td>\n",
       "      <td>(1.999, 7.0]</td>\n",
       "      <td>(0.999, 2.0]</td>\n",
       "      <td>(5.999, 9.0]</td>\n",
       "      <td>4</td>\n",
       "      <td>2.81</td>\n",
       "    </tr>\n",
       "    <tr>\n",
       "      <th>69</th>\n",
       "      <td>69</td>\n",
       "      <td>Hackathon</td>\n",
       "      <td>12</td>\n",
       "      <td>8</td>\n",
       "      <td>4</td>\n",
       "      <td>2</td>\n",
       "      <td>Dear Hackers,\\r\\r\\r\\n\\r\\r\\r\\nHere is a great n...</td>\n",
       "      <td>[Open To All] The Young Optimization Crackerja...</td>\n",
       "      <td>http://r.newsletters.analyticsvidhya.com/7wowu...</td>\n",
       "      <td>3</td>\n",
       "      <td>3</td>\n",
       "      <td>(3.0, 10.0]</td>\n",
       "      <td>(7.0, 26.0]</td>\n",
       "      <td>(0.999, 2.0]</td>\n",
       "      <td>(9.0, 28.0]</td>\n",
       "      <td>4</td>\n",
       "      <td>2.41</td>\n",
       "    </tr>\n",
       "    <tr>\n",
       "      <th>70</th>\n",
       "      <td>70</td>\n",
       "      <td>Corporate</td>\n",
       "      <td>16</td>\n",
       "      <td>12</td>\n",
       "      <td>13</td>\n",
       "      <td>1</td>\n",
       "      <td>\\r\\r\\r\\nNot Able To Train Your Data Science Te...</td>\n",
       "      <td>Give Your Team The Edge In Machine Learning Wi...</td>\n",
       "      <td>http://r.newsletters.analyticsvidhya.com/7wppa...</td>\n",
       "      <td>2</td>\n",
       "      <td>6</td>\n",
       "      <td>(10.0, 19.0]</td>\n",
       "      <td>(7.0, 26.0]</td>\n",
       "      <td>(0.999, 2.0]</td>\n",
       "      <td>(9.0, 28.0]</td>\n",
       "      <td>4</td>\n",
       "      <td>2.37</td>\n",
       "    </tr>\n",
       "    <tr>\n",
       "      <th>71</th>\n",
       "      <td>71</td>\n",
       "      <td>Hackathon</td>\n",
       "      <td>8</td>\n",
       "      <td>4</td>\n",
       "      <td>4</td>\n",
       "      <td>2</td>\n",
       "      <td>Dear Hackers,\\r\\r\\r\\n \\r\\r\\r\\nGreat News for y...</td>\n",
       "      <td>[Hiring Hackathon] ABInBev is hiring Data Scie...</td>\n",
       "      <td>http://r.newsletters.analyticsvidhya.com/7wqhq...</td>\n",
       "      <td>3</td>\n",
       "      <td>3</td>\n",
       "      <td>(3.0, 10.0]</td>\n",
       "      <td>(1.999, 7.0]</td>\n",
       "      <td>(0.999, 2.0]</td>\n",
       "      <td>(5.999, 9.0]</td>\n",
       "      <td>4</td>\n",
       "      <td>2.68</td>\n",
       "    </tr>\n",
       "    <tr>\n",
       "      <th>72</th>\n",
       "      <td>72</td>\n",
       "      <td>Corporate</td>\n",
       "      <td>22</td>\n",
       "      <td>15</td>\n",
       "      <td>5</td>\n",
       "      <td>1</td>\n",
       "      <td>\\r\\r\\r\\nAVBytes: Top Stories On Analytics Vidh...</td>\n",
       "      <td>Missing out on the latest happenings in AI? Ch...</td>\n",
       "      <td>http://r.newsletters.analyticsvidhya.com/7wra6...</td>\n",
       "      <td>1</td>\n",
       "      <td>2</td>\n",
       "      <td>(3.0, 10.0]</td>\n",
       "      <td>(7.0, 26.0]</td>\n",
       "      <td>(0.999, 2.0]</td>\n",
       "      <td>(9.0, 28.0]</td>\n",
       "      <td>7</td>\n",
       "      <td>2.18</td>\n",
       "    </tr>\n",
       "    <tr>\n",
       "      <th>73</th>\n",
       "      <td>73</td>\n",
       "      <td>Corporate</td>\n",
       "      <td>18</td>\n",
       "      <td>11</td>\n",
       "      <td>5</td>\n",
       "      <td>1</td>\n",
       "      <td>AVBytes: Top Stories On Analytics Vidhya This ...</td>\n",
       "      <td>Missing out on the latest happenings in AI? Ch...</td>\n",
       "      <td>http://r.newsletters.analyticsvidhya.com/7wrjo...</td>\n",
       "      <td>1</td>\n",
       "      <td>2</td>\n",
       "      <td>(3.0, 10.0]</td>\n",
       "      <td>(7.0, 26.0]</td>\n",
       "      <td>(0.999, 2.0]</td>\n",
       "      <td>(9.0, 28.0]</td>\n",
       "      <td>7</td>\n",
       "      <td>1.80</td>\n",
       "    </tr>\n",
       "    <tr>\n",
       "      <th>74</th>\n",
       "      <td>74</td>\n",
       "      <td>Newsletter</td>\n",
       "      <td>140</td>\n",
       "      <td>130</td>\n",
       "      <td>15</td>\n",
       "      <td>4</td>\n",
       "      <td>March 2018 Newsletter\\r\\r\\r\\n \\r\\r\\r\\nDear Avi...</td>\n",
       "      <td>[March Newsletter] AV Android App, DataHack Pr...</td>\n",
       "      <td>http://r.newsletters.analyticsvidhya.com/7ww0u...</td>\n",
       "      <td>6</td>\n",
       "      <td>6</td>\n",
       "      <td>(10.0, 19.0]</td>\n",
       "      <td>(26.0, 191.0]</td>\n",
       "      <td>(2.0, 6.0]</td>\n",
       "      <td>(28.0, 203.0]</td>\n",
       "      <td>10</td>\n",
       "      <td>5.48</td>\n",
       "    </tr>\n",
       "    <tr>\n",
       "      <th>75</th>\n",
       "      <td>75</td>\n",
       "      <td>Upcoming Events</td>\n",
       "      <td>39</td>\n",
       "      <td>35</td>\n",
       "      <td>15</td>\n",
       "      <td>6</td>\n",
       "      <td>[March 2018 - Hackathons, Competitions, Cash p...</td>\n",
       "      <td>[March 2018] It's Back: McKinsey Analytics Onl...</td>\n",
       "      <td>http://r.newsletters.analyticsvidhya.com/7wx2s...</td>\n",
       "      <td>6</td>\n",
       "      <td>4</td>\n",
       "      <td>(10.0, 19.0]</td>\n",
       "      <td>(26.0, 191.0]</td>\n",
       "      <td>(2.0, 6.0]</td>\n",
       "      <td>(28.0, 203.0]</td>\n",
       "      <td>4</td>\n",
       "      <td>5.36</td>\n",
       "    </tr>\n",
       "    <tr>\n",
       "      <th>76</th>\n",
       "      <td>76</td>\n",
       "      <td>Upcoming Events</td>\n",
       "      <td>35</td>\n",
       "      <td>31</td>\n",
       "      <td>15</td>\n",
       "      <td>6</td>\n",
       "      <td>[March 2018 - Hackathons, Competitions, Cash p...</td>\n",
       "      <td>[March 2018] It's Back: McKinsey Analytics Onl...</td>\n",
       "      <td>http://r.newsletters.analyticsvidhya.com/7wxlq...</td>\n",
       "      <td>6</td>\n",
       "      <td>4</td>\n",
       "      <td>(10.0, 19.0]</td>\n",
       "      <td>(26.0, 191.0]</td>\n",
       "      <td>(2.0, 6.0]</td>\n",
       "      <td>(28.0, 203.0]</td>\n",
       "      <td>4</td>\n",
       "      <td>5.36</td>\n",
       "    </tr>\n",
       "    <tr>\n",
       "      <th>77</th>\n",
       "      <td>77</td>\n",
       "      <td>Corporate</td>\n",
       "      <td>24</td>\n",
       "      <td>16</td>\n",
       "      <td>5</td>\n",
       "      <td>1</td>\n",
       "      <td>Hiring Data Scientists &amp; Data Engineers?\\r\\r\\r...</td>\n",
       "      <td>Recruiting Data Scientists? Follow These 5 Bes...</td>\n",
       "      <td>http://r.newsletters.analyticsvidhya.com/7wxv8...</td>\n",
       "      <td>4</td>\n",
       "      <td>1</td>\n",
       "      <td>(3.0, 10.0]</td>\n",
       "      <td>(7.0, 26.0]</td>\n",
       "      <td>(0.999, 2.0]</td>\n",
       "      <td>(9.0, 28.0]</td>\n",
       "      <td>8</td>\n",
       "      <td>3.68</td>\n",
       "    </tr>\n",
       "    <tr>\n",
       "      <th>78</th>\n",
       "      <td>78</td>\n",
       "      <td>Hackathon</td>\n",
       "      <td>6</td>\n",
       "      <td>2</td>\n",
       "      <td>1</td>\n",
       "      <td>1</td>\n",
       "      <td>McKinsey Analytics Online Hackathon\\r\\r\\r\\nRec...</td>\n",
       "      <td>24 Hours To Go For McKinsey 24-hour Hackathon ...</td>\n",
       "      <td>http://r.newsletters.analyticsvidhya.com/7wz6m...</td>\n",
       "      <td>3</td>\n",
       "      <td>1</td>\n",
       "      <td>(0.999, 3.0]</td>\n",
       "      <td>(1.999, 7.0]</td>\n",
       "      <td>(0.999, 2.0]</td>\n",
       "      <td>(5.999, 9.0]</td>\n",
       "      <td>4</td>\n",
       "      <td>3.09</td>\n",
       "    </tr>\n",
       "    <tr>\n",
       "      <th>79</th>\n",
       "      <td>79</td>\n",
       "      <td>Hackathon</td>\n",
       "      <td>6</td>\n",
       "      <td>2</td>\n",
       "      <td>1</td>\n",
       "      <td>1</td>\n",
       "      <td>McKinsey Analytics Online Hackathon\\r\\r\\r\\nRec...</td>\n",
       "      <td>12 Hours To Go For McKinsey 24-hour Hackathon ...</td>\n",
       "      <td>http://r.newsletters.analyticsvidhya.com/7wzpl...</td>\n",
       "      <td>3</td>\n",
       "      <td>1</td>\n",
       "      <td>(0.999, 3.0]</td>\n",
       "      <td>(1.999, 7.0]</td>\n",
       "      <td>(0.999, 2.0]</td>\n",
       "      <td>(5.999, 9.0]</td>\n",
       "      <td>4</td>\n",
       "      <td>3.09</td>\n",
       "    </tr>\n",
       "    <tr>\n",
       "      <th>80</th>\n",
       "      <td>80</td>\n",
       "      <td>Corporate</td>\n",
       "      <td>12</td>\n",
       "      <td>8</td>\n",
       "      <td>5</td>\n",
       "      <td>1</td>\n",
       "      <td>Hiring Data Scientists &amp; Data Engineers?\\r\\r\\r...</td>\n",
       "      <td>Do You Follow These 5 Best Practices For Recru...</td>\n",
       "      <td>http://r.newsletters.analyticsvidhya.com/7x08k...</td>\n",
       "      <td>4</td>\n",
       "      <td>1</td>\n",
       "      <td>(3.0, 10.0]</td>\n",
       "      <td>(7.0, 26.0]</td>\n",
       "      <td>(0.999, 2.0]</td>\n",
       "      <td>(9.0, 28.0]</td>\n",
       "      <td>4</td>\n",
       "      <td>2.91</td>\n",
       "    </tr>\n",
       "  </tbody>\n",
       "</table>\n",
       "</div>"
      ],
      "text/plain": [
       "             campaign_id communication_type  total_links  \\\n",
       "campaign_id                                                \n",
       "29                    29         Newsletter           67   \n",
       "30                    30    Upcoming Events           18   \n",
       "31                    31         Conference           15   \n",
       "32                    32         Conference           24   \n",
       "33                    33             Others            7   \n",
       "34                    34         Newsletter           75   \n",
       "35                    35             Others            9   \n",
       "36                    36         Conference           13   \n",
       "37                    37         Conference            9   \n",
       "38                    38         Conference           28   \n",
       "39                    39            Webinar            9   \n",
       "40                    40         Conference           10   \n",
       "41                    41          Corporate           14   \n",
       "42                    42         Newsletter           88   \n",
       "43                    43          Corporate           11   \n",
       "44                    44    Upcoming Events           60   \n",
       "45                    45          Hackathon            7   \n",
       "46                    46          Hackathon            7   \n",
       "47                    47          Hackathon            8   \n",
       "48                    48         Newsletter          203   \n",
       "49                    49         Conference          119   \n",
       "50                    50    Upcoming Events          109   \n",
       "51                    51          Hackathon            8   \n",
       "52                    52         Newsletter           67   \n",
       "53                    53         Conference          104   \n",
       "54                    54         Newsletter           63   \n",
       "55                    55          Corporate           11   \n",
       "56                    56         Newsletter           42   \n",
       "57                    57    Upcoming Events           40   \n",
       "58                    58          Hackathon            6   \n",
       "59                    59          Corporate            8   \n",
       "60                    60          Corporate           11   \n",
       "61                    61          Corporate            8   \n",
       "62                    62          Hackathon            7   \n",
       "63                    63         Newsletter           68   \n",
       "64                    64    Upcoming Events           49   \n",
       "65                    65          Hackathon            7   \n",
       "66                    66          Corporate           16   \n",
       "67                    67          Hackathon            7   \n",
       "68                    68          Hackathon            7   \n",
       "69                    69          Hackathon           12   \n",
       "70                    70          Corporate           16   \n",
       "71                    71          Hackathon            8   \n",
       "72                    72          Corporate           22   \n",
       "73                    73          Corporate           18   \n",
       "74                    74         Newsletter          140   \n",
       "75                    75    Upcoming Events           39   \n",
       "76                    76    Upcoming Events           35   \n",
       "77                    77          Corporate           24   \n",
       "78                    78          Hackathon            6   \n",
       "79                    79          Hackathon            6   \n",
       "80                    80          Corporate           12   \n",
       "\n",
       "             no_of_internal_links  no_of_images  no_of_sections  \\\n",
       "campaign_id                                                       \n",
       "29                             61            12               3   \n",
       "30                             14             7               1   \n",
       "31                             13             5               1   \n",
       "32                             19             7               1   \n",
       "33                              3             1               1   \n",
       "34                             64            12               4   \n",
       "35                              2             1               1   \n",
       "36                             11             2               1   \n",
       "37                              7             3               1   \n",
       "38                             26            12               3   \n",
       "39                              4             2               1   \n",
       "40                              8             2               1   \n",
       "41                             10             2               1   \n",
       "42                             79            13               4   \n",
       "43                              7             3               1   \n",
       "44                             56            19               6   \n",
       "45                              3             2               1   \n",
       "46                              3             2               1   \n",
       "47                              4             2               1   \n",
       "48                            191            12               4   \n",
       "49                            117            16               1   \n",
       "50                            105            17               6   \n",
       "51                              4             2               1   \n",
       "52                             62            10               4   \n",
       "53                            100            13               1   \n",
       "54                             58             8               4   \n",
       "55                              7             5               1   \n",
       "56                             38            10               4   \n",
       "57                             36            15               4   \n",
       "58                              2             2               1   \n",
       "59                              4             5               1   \n",
       "60                              7             3               3   \n",
       "61                              4             9               1   \n",
       "62                              3             2               1   \n",
       "63                             64            15               5   \n",
       "64                             45            14               4   \n",
       "65                              3             1               1   \n",
       "66                             12            13               1   \n",
       "67                              3             1               1   \n",
       "68                              3             1               1   \n",
       "69                              8             4               2   \n",
       "70                             12            13               1   \n",
       "71                              4             4               2   \n",
       "72                             15             5               1   \n",
       "73                             11             5               1   \n",
       "74                            130            15               4   \n",
       "75                             35            15               6   \n",
       "76                             31            15               6   \n",
       "77                             16             5               1   \n",
       "78                              2             1               1   \n",
       "79                              2             1               1   \n",
       "80                              8             5               1   \n",
       "\n",
       "                                                    email_body  \\\n",
       "campaign_id                                                      \n",
       "29           Dear AVians,\\r\\r\\r\\n \\r\\r\\r\\nWe are shaping up...   \n",
       "30           Dear AVians,\\r\\r\\r\\n \\r\\r\\r\\nAre your eager to...   \n",
       "31           Early Bird Pricing Till August 07  Save upto ...   \n",
       "32           \\r\\r\\r\\n \\r\\r\\r\\nHi ?\\r\\r\\r\\n \\r\\r\\r\\nBefore I...   \n",
       "33           Fireside Chat with DJ Patil - the master is he...   \n",
       "34           \\r\\r\\r\\nAugust Newsletter\\r\\r\\r\\n \\r\\r\\r\\nDear...   \n",
       "35           Fireside Chat with DJ Patil - Watch Live!\\r\\r\\...   \n",
       "36           Announcing Dr. Kirk Borne as Keynote Speaker\\r...   \n",
       "37           Last day to save maximum on tickets\\r\\r\\r\\n \\r...   \n",
       "38           Early Bird Pricing expires on August 07\\r\\r\\r\\...   \n",
       "39           Analytics Vidhya & UpX Academy presents \\r\\r\\r...   \n",
       "40           Machine learning algorithms are considered bla...   \n",
       "41           Step into the Future of Artificial Intelligenc...   \n",
       "42           September Newsletter\\r\\r\\r\\n \\r\\r\\r\\nDear AVia...   \n",
       "43           \\r\\r\\r\\nHosted Your Corporate Hackathon Yet?\\r...   \n",
       "44           [September Events]\\r\\r\\r\\n \\r\\r\\r\\nDear AVians...   \n",
       "45           Click Prediction\\r\\r\\r\\nData Science Hackathon...   \n",
       "46           Click Prediction\\r\\r\\r\\nData Science Hackathon...   \n",
       "47           \\r\\r\\r\\nCodeFest by IIT BHU\\r\\r\\r\\n[Coding Fes...   \n",
       "48           \\r\\r\\r\\nOctober Newsletter\\r\\r\\r\\n \\r\\r\\r\\nDea...   \n",
       "49           Dear Patron,\\r\\r\\r\\n \\r\\r\\r\\nAnalytics Vidhya ...   \n",
       "50           [October Hackathons, Meetups, Events, Webinars...   \n",
       "51           Upcoming Hackathons\\r\\r\\r\\n[Machine Learning] ...   \n",
       "52           November Newsletter\\r\\r\\r\\n \\r\\r\\r\\nDear AVian...   \n",
       "53           3 DAYS | 30 TALKS | 10 HACK SESSIONS | 6 WORKS...   \n",
       "54           December Newsletter\\r\\r\\r\\n \\r\\r\\r\\nDear AVian...   \n",
       "55           Do you know? You can identify and hire the bes...   \n",
       "56           \\r\\r\\r\\nJanuary 2018 Newsletter\\r\\r\\r\\n \\r\\r\\r...   \n",
       "57           [January - Hiring Hackathons, LearnUps, Contes...   \n",
       "58           Analytics Vidhya Hiring Hackathon\\r\\r\\r\\n \\r\\r...   \n",
       "59           Do you know? You can identify and hire the bes...   \n",
       "60           Get Over 100,000 Data Scientists To Solve Your...   \n",
       "61           Searching For Top Data Scientists To Join Your...   \n",
       "62           \\r\\r\\r\\nFelicity'18 - Kings Of Machine Learnin...   \n",
       "63           \\r\\r\\r\\nFebruary 2018 Newsletter\\r\\r\\r\\n \\r\\r\\...   \n",
       "64           [February - Hiring Hackathons, LearnUps, Conte...   \n",
       "65           IEOR @ IITB & McKinsey Knowledge Centre India ...   \n",
       "66           Not Able To Train Your Data Science Team On Ar...   \n",
       "67           Anheuser Busch InBev: Data Engineering Talent ...   \n",
       "68           Dear Hacker,\\r\\r\\r\\n\\r\\r\\r\\nAnheuser Busch InB...   \n",
       "69           Dear Hackers,\\r\\r\\r\\n\\r\\r\\r\\nHere is a great n...   \n",
       "70           \\r\\r\\r\\nNot Able To Train Your Data Science Te...   \n",
       "71           Dear Hackers,\\r\\r\\r\\n \\r\\r\\r\\nGreat News for y...   \n",
       "72           \\r\\r\\r\\nAVBytes: Top Stories On Analytics Vidh...   \n",
       "73           AVBytes: Top Stories On Analytics Vidhya This ...   \n",
       "74           March 2018 Newsletter\\r\\r\\r\\n \\r\\r\\r\\nDear Avi...   \n",
       "75           [March 2018 - Hackathons, Competitions, Cash p...   \n",
       "76           [March 2018 - Hackathons, Competitions, Cash p...   \n",
       "77           Hiring Data Scientists & Data Engineers?\\r\\r\\r...   \n",
       "78           McKinsey Analytics Online Hackathon\\r\\r\\r\\nRec...   \n",
       "79           McKinsey Analytics Online Hackathon\\r\\r\\r\\nRec...   \n",
       "80           Hiring Data Scientists & Data Engineers?\\r\\r\\r...   \n",
       "\n",
       "                                                       subject  \\\n",
       "campaign_id                                                      \n",
       "29           Sneak Peek: A look at the emerging data scienc...   \n",
       "30           [July] Data Science Expert Meetups & Competiti...   \n",
       "31           Last chance to convince your boss before the E...   \n",
       "32           A.I. & Machine Learning: 5 reasons why you sho...   \n",
       "33           [Delhi NCR] Fireside Chat with DJ Patil, Forme...   \n",
       "34           [AV Newsletter] Fireside Chat with DJ Patil, D...   \n",
       "35                     Watch Live: Fireside Chat with DJ Patil   \n",
       "36           Dr Kirk Borne of Booz Allen Hamilton, to keyno...   \n",
       "37           [Last Day] Early Bird Offer on conference pass...   \n",
       "38           Early Bird offer expires in 2 Days. Save your ...   \n",
       "39           [New Webinar] Can non programmers join Big Dat...   \n",
       "40           Visualizing Machine Learning with Anand S, CEO...   \n",
       "41           Participate at DataHack Summit 2017 - India's ...   \n",
       "42           [September] Exciting days ahead with DataHack ...   \n",
       "43           Innovate and grow your business through Data H...   \n",
       "44           [September] Data Science Hackathons, Meetups a...   \n",
       "45           Click Prediction | Data Science Hackathon | Wi...   \n",
       "46           [Starts Tonight] Click Prediction Hackathon | ...   \n",
       "47           [New Hackathon] CodeFest by IIT BHU | Win Priz...   \n",
       "48           [October 2017] - Just a month to go! DataHack ...   \n",
       "49           Register @ DataHack Summit 2017 - India's Larg...   \n",
       "50           [October] Data Science Hackathons, Meetups and...   \n",
       "51           [Data Science Hackathons] Cross -Sell & Churn ...   \n",
       "52           [Newsletter] Stage for DataHack Summit 2017 is...   \n",
       "53           [Register Now] Just 2 days to go for India's b...   \n",
       "54           [November Updates] - Announcing DataFest 2018,...   \n",
       "55              Hire Top Data Scientists In Less Than 24 Hours   \n",
       "56           [January] Year 2018 - Bigger & Exciting challe...   \n",
       "57           [January 2018] Upcoming Hiring Hackathons, Lea...   \n",
       "58           [13 January] Get Hired with Analytics Vidhya H...   \n",
       "59              Hire Top Talent From 1,00,000+ Data Scientists   \n",
       "60           Get 1000+ Data-Driven Solutions For Your Busin...   \n",
       "61           Recruit Top Data Science Professionals (Chief ...   \n",
       "62           [24 Jan] IIIT Hyderabad - Felicity'18 Machine ...   \n",
       "63           AVbytes, Ultimate 2018 learning path and aweso...   \n",
       "64           [February 2018] Upcoming Hiring Hackathons, Da...   \n",
       "65           [New Hackathon] The Young Optimization Cracker...   \n",
       "66                  4 Top Data Science Trainings For Your Team   \n",
       "67           [New Hackathon] ABInBev : Data Engineering Tal...   \n",
       "68           [Hiring Hackathon] ABInBev : Data Engineering ...   \n",
       "69           [Open To All] The Young Optimization Crackerja...   \n",
       "70           Give Your Team The Edge In Machine Learning Wi...   \n",
       "71           [Hiring Hackathon] ABInBev is hiring Data Scie...   \n",
       "72           Missing out on the latest happenings in AI? Ch...   \n",
       "73           Missing out on the latest happenings in AI? Ch...   \n",
       "74           [March Newsletter] AV Android App, DataHack Pr...   \n",
       "75           [March 2018] It's Back: McKinsey Analytics Onl...   \n",
       "76           [March 2018] It's Back: McKinsey Analytics Onl...   \n",
       "77           Recruiting Data Scientists? Follow These 5 Bes...   \n",
       "78           24 Hours To Go For McKinsey 24-hour Hackathon ...   \n",
       "79           12 Hours To Go For McKinsey 24-hour Hackathon ...   \n",
       "80           Do You Follow These 5 Best Practices For Recru...   \n",
       "\n",
       "                                                     email_url  campaign_wts  \\\n",
       "campaign_id                                                                    \n",
       "29           http://r.newsletters.analyticsvidhya.com/7um44...             6   \n",
       "30           http://r.newsletters.analyticsvidhya.com/7up0e...             5   \n",
       "31           http://r.newsletters.analyticsvidhya.com/7usym...             2   \n",
       "32           http://r.newsletters.analyticsvidhya.com/7uthl...             5   \n",
       "33           http://r.newsletters.analyticsvidhya.com/7uvlg...             4   \n",
       "34           http://r.newsletters.analyticsvidhya.com/7uwwu...             5   \n",
       "35           http://r.newsletters.analyticsvidhya.com/7ux6c...             2   \n",
       "36           http://r.newsletters.analyticsvidhya.com/7uxpa...             3   \n",
       "37           http://r.newsletters.analyticsvidhya.com/7uyr8...             1   \n",
       "38           http://r.newsletters.analyticsvidhya.com/7uz0p...             1   \n",
       "39           http://r.newsletters.analyticsvidhya.com/7uza6...             2   \n",
       "40           http://r.newsletters.analyticsvidhya.com/7v1x0...             1   \n",
       "41           http://r.newsletters.analyticsvidhya.com/7v3hw...             1   \n",
       "42           http://r.newsletters.analyticsvidhya.com/7v3rd...             6   \n",
       "43           http://r.newsletters.analyticsvidhya.com/7v4ta...             1   \n",
       "44           http://r.newsletters.analyticsvidhya.com/7veam...             4   \n",
       "45           http://r.newsletters.analyticsvidhya.com/7vgeh...             3   \n",
       "46           http://r.newsletters.analyticsvidhya.com/7vj1a...             3   \n",
       "47           http://r.newsletters.analyticsvidhya.com/7vkvo...             3   \n",
       "48           http://r.newsletters.analyticsvidhya.com/7vlxl...             4   \n",
       "49           http://r.newsletters.analyticsvidhya.com/o7ohw...             6   \n",
       "50           http://r.newsletters.analyticsvidhya.com/7voke...             4   \n",
       "51           http://r.newsletters.analyticsvidhya.com/7vs95...             2   \n",
       "52           http://r.newsletters.analyticsvidhya.com/7vtb2...             6   \n",
       "53           http://r.newsletters.analyticsvidhya.com/7vv5g...             5   \n",
       "54           http://r.newsletters.analyticsvidhya.com/7vzmm...             6   \n",
       "55           http://r.newsletters.analyticsvidhya.com/7w2se...             4   \n",
       "56           http://r.newsletters.analyticsvidhya.com/7w3uc...             6   \n",
       "57           http://r.newsletters.analyticsvidhya.com/7w43t...             4   \n",
       "58           http://r.newsletters.analyticsvidhya.com/7w5y6...             3   \n",
       "59           http://r.newsletters.analyticsvidhya.com/7w6qm...             4   \n",
       "60           http://r.newsletters.analyticsvidhya.com/7w704...             3   \n",
       "61           http://r.newsletters.analyticsvidhya.com/7wghg...             3   \n",
       "62           http://r.newsletters.analyticsvidhya.com/7wh9w...             3   \n",
       "63           http://r.newsletters.analyticsvidhya.com/7whsu...             6   \n",
       "64           http://r.newsletters.analyticsvidhya.com/7wjn8...             4   \n",
       "65           http://r.newsletters.analyticsvidhya.com/7wjwp...             3   \n",
       "66           http://r.newsletters.analyticsvidhya.com/7wkfo...             2   \n",
       "67           http://r.newsletters.analyticsvidhya.com/7wnby...             3   \n",
       "68           http://r.newsletters.analyticsvidhya.com/7wo4e...             3   \n",
       "69           http://r.newsletters.analyticsvidhya.com/7wowu...             3   \n",
       "70           http://r.newsletters.analyticsvidhya.com/7wppa...             2   \n",
       "71           http://r.newsletters.analyticsvidhya.com/7wqhq...             3   \n",
       "72           http://r.newsletters.analyticsvidhya.com/7wra6...             1   \n",
       "73           http://r.newsletters.analyticsvidhya.com/7wrjo...             1   \n",
       "74           http://r.newsletters.analyticsvidhya.com/7ww0u...             6   \n",
       "75           http://r.newsletters.analyticsvidhya.com/7wx2s...             6   \n",
       "76           http://r.newsletters.analyticsvidhya.com/7wxlq...             6   \n",
       "77           http://r.newsletters.analyticsvidhya.com/7wxv8...             4   \n",
       "78           http://r.newsletters.analyticsvidhya.com/7wz6m...             3   \n",
       "79           http://r.newsletters.analyticsvidhya.com/7wzpl...             3   \n",
       "80           http://r.newsletters.analyticsvidhya.com/7x08k...             4   \n",
       "\n",
       "             campaign_wts1        images internal_links      sections  \\\n",
       "campaign_id                                                             \n",
       "29                       6  (10.0, 19.0]  (26.0, 191.0]    (2.0, 6.0]   \n",
       "30                       5   (3.0, 10.0]    (7.0, 26.0]  (0.999, 2.0]   \n",
       "31                       2   (3.0, 10.0]    (7.0, 26.0]  (0.999, 2.0]   \n",
       "32                       5   (3.0, 10.0]    (7.0, 26.0]  (0.999, 2.0]   \n",
       "33                       4  (0.999, 3.0]   (1.999, 7.0]  (0.999, 2.0]   \n",
       "34                       5  (10.0, 19.0]  (26.0, 191.0]    (2.0, 6.0]   \n",
       "35                       2  (0.999, 3.0]   (1.999, 7.0]  (0.999, 2.0]   \n",
       "36                       3  (0.999, 3.0]    (7.0, 26.0]  (0.999, 2.0]   \n",
       "37                       1  (0.999, 3.0]   (1.999, 7.0]  (0.999, 2.0]   \n",
       "38                       1  (10.0, 19.0]    (7.0, 26.0]    (2.0, 6.0]   \n",
       "39                       2  (0.999, 3.0]   (1.999, 7.0]  (0.999, 2.0]   \n",
       "40                       1  (0.999, 3.0]    (7.0, 26.0]  (0.999, 2.0]   \n",
       "41                       1  (0.999, 3.0]    (7.0, 26.0]  (0.999, 2.0]   \n",
       "42                       6  (10.0, 19.0]  (26.0, 191.0]    (2.0, 6.0]   \n",
       "43                       1  (0.999, 3.0]   (1.999, 7.0]  (0.999, 2.0]   \n",
       "44                       4  (10.0, 19.0]  (26.0, 191.0]    (2.0, 6.0]   \n",
       "45                       3  (0.999, 3.0]   (1.999, 7.0]  (0.999, 2.0]   \n",
       "46                       3  (0.999, 3.0]   (1.999, 7.0]  (0.999, 2.0]   \n",
       "47                       3  (0.999, 3.0]   (1.999, 7.0]  (0.999, 2.0]   \n",
       "48                       4  (10.0, 19.0]  (26.0, 191.0]    (2.0, 6.0]   \n",
       "49                       6  (10.0, 19.0]  (26.0, 191.0]  (0.999, 2.0]   \n",
       "50                       4  (10.0, 19.0]  (26.0, 191.0]    (2.0, 6.0]   \n",
       "51                       2  (0.999, 3.0]   (1.999, 7.0]  (0.999, 2.0]   \n",
       "52                       6   (3.0, 10.0]  (26.0, 191.0]    (2.0, 6.0]   \n",
       "53                       5  (10.0, 19.0]  (26.0, 191.0]  (0.999, 2.0]   \n",
       "54                       6   (3.0, 10.0]  (26.0, 191.0]    (2.0, 6.0]   \n",
       "55                       1   (3.0, 10.0]   (1.999, 7.0]  (0.999, 2.0]   \n",
       "56                       6   (3.0, 10.0]  (26.0, 191.0]    (2.0, 6.0]   \n",
       "57                       4  (10.0, 19.0]  (26.0, 191.0]    (2.0, 6.0]   \n",
       "58                       3  (0.999, 3.0]   (1.999, 7.0]  (0.999, 2.0]   \n",
       "59                       1   (3.0, 10.0]   (1.999, 7.0]  (0.999, 2.0]   \n",
       "60                       1  (0.999, 3.0]   (1.999, 7.0]    (2.0, 6.0]   \n",
       "61                       1   (3.0, 10.0]   (1.999, 7.0]  (0.999, 2.0]   \n",
       "62                       3  (0.999, 3.0]   (1.999, 7.0]  (0.999, 2.0]   \n",
       "63                       6  (10.0, 19.0]  (26.0, 191.0]    (2.0, 6.0]   \n",
       "64                       4  (10.0, 19.0]  (26.0, 191.0]    (2.0, 6.0]   \n",
       "65                       3  (0.999, 3.0]   (1.999, 7.0]  (0.999, 2.0]   \n",
       "66                       6  (10.0, 19.0]    (7.0, 26.0]  (0.999, 2.0]   \n",
       "67                       3  (0.999, 3.0]   (1.999, 7.0]  (0.999, 2.0]   \n",
       "68                       3  (0.999, 3.0]   (1.999, 7.0]  (0.999, 2.0]   \n",
       "69                       3   (3.0, 10.0]    (7.0, 26.0]  (0.999, 2.0]   \n",
       "70                       6  (10.0, 19.0]    (7.0, 26.0]  (0.999, 2.0]   \n",
       "71                       3   (3.0, 10.0]   (1.999, 7.0]  (0.999, 2.0]   \n",
       "72                       2   (3.0, 10.0]    (7.0, 26.0]  (0.999, 2.0]   \n",
       "73                       2   (3.0, 10.0]    (7.0, 26.0]  (0.999, 2.0]   \n",
       "74                       6  (10.0, 19.0]  (26.0, 191.0]    (2.0, 6.0]   \n",
       "75                       4  (10.0, 19.0]  (26.0, 191.0]    (2.0, 6.0]   \n",
       "76                       4  (10.0, 19.0]  (26.0, 191.0]    (2.0, 6.0]   \n",
       "77                       1   (3.0, 10.0]    (7.0, 26.0]  (0.999, 2.0]   \n",
       "78                       1  (0.999, 3.0]   (1.999, 7.0]  (0.999, 2.0]   \n",
       "79                       1  (0.999, 3.0]   (1.999, 7.0]  (0.999, 2.0]   \n",
       "80                       1   (3.0, 10.0]    (7.0, 26.0]  (0.999, 2.0]   \n",
       "\n",
       "                     links  external_links  campaign_weight  \n",
       "campaign_id                                                  \n",
       "29           (28.0, 203.0]               6             5.40  \n",
       "30             (9.0, 28.0]               4             4.61  \n",
       "31             (9.0, 28.0]               2             1.91  \n",
       "32             (9.0, 28.0]               5             4.61  \n",
       "33            (5.999, 9.0]               4             3.31  \n",
       "34           (28.0, 203.0]              11             4.98  \n",
       "35            (5.999, 9.0]               7             2.20  \n",
       "36             (9.0, 28.0]               2             2.41  \n",
       "37            (5.999, 9.0]               2             1.41  \n",
       "38             (9.0, 28.0]               2             2.86  \n",
       "39            (5.999, 9.0]               5             2.07  \n",
       "40             (9.0, 28.0]               2             1.41  \n",
       "41             (9.0, 28.0]               4             1.41  \n",
       "42           (28.0, 203.0]               9             5.48  \n",
       "43             (9.0, 28.0]               4             1.41  \n",
       "44           (28.0, 203.0]               4             3.68  \n",
       "45            (5.999, 9.0]               4             2.68  \n",
       "46            (5.999, 9.0]               4             2.68  \n",
       "47            (5.999, 9.0]               4             2.68  \n",
       "48           (28.0, 203.0]              12             3.86  \n",
       "49           (28.0, 203.0]               2             5.25  \n",
       "50           (28.0, 203.0]               4             4.25  \n",
       "51            (5.999, 9.0]               4             2.18  \n",
       "52           (28.0, 203.0]               5             5.44  \n",
       "53           (28.0, 203.0]               4             4.75  \n",
       "54           (28.0, 203.0]               5             5.33  \n",
       "55             (9.0, 28.0]               4             2.91  \n",
       "56           (28.0, 203.0]               4             5.33  \n",
       "57           (28.0, 203.0]               4             4.36  \n",
       "58            (5.999, 9.0]               4             2.96  \n",
       "59            (5.999, 9.0]               4             3.18  \n",
       "60             (9.0, 28.0]               4             2.64  \n",
       "61            (5.999, 9.0]               4             3.11  \n",
       "62            (5.999, 9.0]               4             2.68  \n",
       "63           (28.0, 203.0]               4             5.48  \n",
       "64           (28.0, 203.0]               4             4.36  \n",
       "65            (5.999, 9.0]               4             2.81  \n",
       "66             (9.0, 28.0]               4             2.37  \n",
       "67            (5.999, 9.0]               4             2.81  \n",
       "68            (5.999, 9.0]               4             2.81  \n",
       "69             (9.0, 28.0]               4             2.41  \n",
       "70             (9.0, 28.0]               4             2.37  \n",
       "71            (5.999, 9.0]               4             2.68  \n",
       "72             (9.0, 28.0]               7             2.18  \n",
       "73             (9.0, 28.0]               7             1.80  \n",
       "74           (28.0, 203.0]              10             5.48  \n",
       "75           (28.0, 203.0]               4             5.36  \n",
       "76           (28.0, 203.0]               4             5.36  \n",
       "77             (9.0, 28.0]               8             3.68  \n",
       "78            (5.999, 9.0]               4             3.09  \n",
       "79            (5.999, 9.0]               4             3.09  \n",
       "80             (9.0, 28.0]               4             2.91  "
      ]
     },
     "execution_count": 1242,
     "metadata": {},
     "output_type": "execute_result"
    }
   ],
   "source": [
    "camp # revised campaign weights under column=campaign_weight after steps given below, "
   ]
  },
  {
   "cell_type": "code",
   "execution_count": 353,
   "metadata": {
    "collapsed": false
   },
   "outputs": [],
   "source": [
    "camp.to_csv('campaignfinal.csv')"
   ]
  },
  {
   "cell_type": "code",
   "execution_count": 14,
   "metadata": {
    "collapsed": false
   },
   "outputs": [],
   "source": [
    "def freq_dist(feature,n):\n",
    "    X=pd.DataFrame()\n",
    "    X['Frequency_dist']=pd.qcut(feature['Frequency'],n)\n",
    "    return pd.concat([feature,X],axis=1)\n"
   ]
  },
  {
   "cell_type": "code",
   "execution_count": 15,
   "metadata": {
    "collapsed": false
   },
   "outputs": [],
   "source": [
    "C_cid=freq_dist(C_cid,6)"
   ]
  },
  {
   "cell_type": "code",
   "execution_count": 8,
   "metadata": {
    "collapsed": false
   },
   "outputs": [],
   "source": [
    "camp_train=camp[0:26]"
   ]
  },
  {
   "cell_type": "code",
   "execution_count": 9,
   "metadata": {
    "collapsed": false
   },
   "outputs": [
    {
     "data": {
      "text/html": [
       "<div>\n",
       "<style scoped>\n",
       "    .dataframe tbody tr th:only-of-type {\n",
       "        vertical-align: middle;\n",
       "    }\n",
       "\n",
       "    .dataframe tbody tr th {\n",
       "        vertical-align: top;\n",
       "    }\n",
       "\n",
       "    .dataframe thead th {\n",
       "        text-align: right;\n",
       "    }\n",
       "</style>\n",
       "<table border=\"1\" class=\"dataframe\">\n",
       "  <thead>\n",
       "    <tr style=\"text-align: right;\">\n",
       "      <th></th>\n",
       "      <th>Unnamed: 0</th>\n",
       "      <th>campaign_id</th>\n",
       "      <th>total_links</th>\n",
       "      <th>no_of_internal_links</th>\n",
       "      <th>no_of_images</th>\n",
       "      <th>no_of_sections</th>\n",
       "      <th>campaign_wts</th>\n",
       "      <th>campaign_wts1</th>\n",
       "    </tr>\n",
       "  </thead>\n",
       "  <tbody>\n",
       "    <tr>\n",
       "      <th>Unnamed: 0</th>\n",
       "      <td>1.000000</td>\n",
       "      <td>1.000000</td>\n",
       "      <td>-0.080930</td>\n",
       "      <td>-0.086421</td>\n",
       "      <td>0.041577</td>\n",
       "      <td>0.075829</td>\n",
       "      <td>0.160436</td>\n",
       "      <td>0.014246</td>\n",
       "    </tr>\n",
       "    <tr>\n",
       "      <th>campaign_id</th>\n",
       "      <td>1.000000</td>\n",
       "      <td>1.000000</td>\n",
       "      <td>-0.080930</td>\n",
       "      <td>-0.086421</td>\n",
       "      <td>0.041577</td>\n",
       "      <td>0.075829</td>\n",
       "      <td>0.160436</td>\n",
       "      <td>0.014246</td>\n",
       "    </tr>\n",
       "    <tr>\n",
       "      <th>total_links</th>\n",
       "      <td>-0.080930</td>\n",
       "      <td>-0.080930</td>\n",
       "      <td>1.000000</td>\n",
       "      <td>0.999027</td>\n",
       "      <td>0.694684</td>\n",
       "      <td>0.569531</td>\n",
       "      <td>0.507851</td>\n",
       "      <td>0.506749</td>\n",
       "    </tr>\n",
       "    <tr>\n",
       "      <th>no_of_internal_links</th>\n",
       "      <td>-0.086421</td>\n",
       "      <td>-0.086421</td>\n",
       "      <td>0.999027</td>\n",
       "      <td>1.000000</td>\n",
       "      <td>0.703417</td>\n",
       "      <td>0.572091</td>\n",
       "      <td>0.507902</td>\n",
       "      <td>0.500610</td>\n",
       "    </tr>\n",
       "    <tr>\n",
       "      <th>no_of_images</th>\n",
       "      <td>0.041577</td>\n",
       "      <td>0.041577</td>\n",
       "      <td>0.694684</td>\n",
       "      <td>0.703417</td>\n",
       "      <td>1.000000</td>\n",
       "      <td>0.756261</td>\n",
       "      <td>0.600772</td>\n",
       "      <td>0.395113</td>\n",
       "    </tr>\n",
       "    <tr>\n",
       "      <th>no_of_sections</th>\n",
       "      <td>0.075829</td>\n",
       "      <td>0.075829</td>\n",
       "      <td>0.569531</td>\n",
       "      <td>0.572091</td>\n",
       "      <td>0.756261</td>\n",
       "      <td>1.000000</td>\n",
       "      <td>0.552956</td>\n",
       "      <td>0.366322</td>\n",
       "    </tr>\n",
       "    <tr>\n",
       "      <th>campaign_wts</th>\n",
       "      <td>0.160436</td>\n",
       "      <td>0.160436</td>\n",
       "      <td>0.507851</td>\n",
       "      <td>0.507902</td>\n",
       "      <td>0.600772</td>\n",
       "      <td>0.552956</td>\n",
       "      <td>1.000000</td>\n",
       "      <td>0.688098</td>\n",
       "    </tr>\n",
       "    <tr>\n",
       "      <th>campaign_wts1</th>\n",
       "      <td>0.014246</td>\n",
       "      <td>0.014246</td>\n",
       "      <td>0.506749</td>\n",
       "      <td>0.500610</td>\n",
       "      <td>0.395113</td>\n",
       "      <td>0.366322</td>\n",
       "      <td>0.688098</td>\n",
       "      <td>1.000000</td>\n",
       "    </tr>\n",
       "  </tbody>\n",
       "</table>\n",
       "</div>"
      ],
      "text/plain": [
       "                      Unnamed: 0  campaign_id  total_links  \\\n",
       "Unnamed: 0              1.000000     1.000000    -0.080930   \n",
       "campaign_id             1.000000     1.000000    -0.080930   \n",
       "total_links            -0.080930    -0.080930     1.000000   \n",
       "no_of_internal_links   -0.086421    -0.086421     0.999027   \n",
       "no_of_images            0.041577     0.041577     0.694684   \n",
       "no_of_sections          0.075829     0.075829     0.569531   \n",
       "campaign_wts            0.160436     0.160436     0.507851   \n",
       "campaign_wts1           0.014246     0.014246     0.506749   \n",
       "\n",
       "                      no_of_internal_links  no_of_images  no_of_sections  \\\n",
       "Unnamed: 0                       -0.086421      0.041577        0.075829   \n",
       "campaign_id                      -0.086421      0.041577        0.075829   \n",
       "total_links                       0.999027      0.694684        0.569531   \n",
       "no_of_internal_links              1.000000      0.703417        0.572091   \n",
       "no_of_images                      0.703417      1.000000        0.756261   \n",
       "no_of_sections                    0.572091      0.756261        1.000000   \n",
       "campaign_wts                      0.507902      0.600772        0.552956   \n",
       "campaign_wts1                     0.500610      0.395113        0.366322   \n",
       "\n",
       "                      campaign_wts  campaign_wts1  \n",
       "Unnamed: 0                0.160436       0.014246  \n",
       "campaign_id               0.160436       0.014246  \n",
       "total_links               0.507851       0.506749  \n",
       "no_of_internal_links      0.507902       0.500610  \n",
       "no_of_images              0.600772       0.395113  \n",
       "no_of_sections            0.552956       0.366322  \n",
       "campaign_wts              1.000000       0.688098  \n",
       "campaign_wts1             0.688098       1.000000  "
      ]
     },
     "execution_count": 9,
     "metadata": {},
     "output_type": "execute_result"
    }
   ],
   "source": [
    "camp.corr()"
   ]
  },
  {
   "cell_type": "code",
   "execution_count": 195,
   "metadata": {
    "collapsed": true
   },
   "outputs": [],
   "source": [
    "camp['images']=pd.qcut(camp['no_of_images'],3)"
   ]
  },
  {
   "cell_type": "code",
   "execution_count": 530,
   "metadata": {
    "collapsed": false
   },
   "outputs": [
    {
     "name": "stderr",
     "output_type": "stream",
     "text": [
      "F:\\Anaconda\\lib\\site-packages\\ipykernel\\__main__.py:1: SettingWithCopyWarning: \n",
      "A value is trying to be set on a copy of a slice from a DataFrame.\n",
      "Try using .loc[row_indexer,col_indexer] = value instead\n",
      "\n",
      "See the caveats in the documentation: http://pandas.pydata.org/pandas-docs/stable/indexing.html#indexing-view-versus-copy\n",
      "  if __name__ == '__main__':\n"
     ]
    }
   ],
   "source": [
    "camp_train['images']=pd.qcut(camp_train['no_of_images'],4)"
   ]
  },
  {
   "cell_type": "code",
   "execution_count": 538,
   "metadata": {
    "collapsed": false
   },
   "outputs": [
    {
     "name": "stderr",
     "output_type": "stream",
     "text": [
      "F:\\Anaconda\\lib\\site-packages\\ipykernel\\__main__.py:1: SettingWithCopyWarning: \n",
      "A value is trying to be set on a copy of a slice from a DataFrame.\n",
      "Try using .loc[row_indexer,col_indexer] = value instead\n",
      "\n",
      "See the caveats in the documentation: http://pandas.pydata.org/pandas-docs/stable/indexing.html#indexing-view-versus-copy\n",
      "  if __name__ == '__main__':\n"
     ]
    }
   ],
   "source": [
    "camp_test['images']=pd.qcut(camp_test['no_of_images'],4)"
   ]
  },
  {
   "cell_type": "code",
   "execution_count": 196,
   "metadata": {
    "collapsed": true
   },
   "outputs": [],
   "source": [
    "camp['internal_links']=pd.qcut(camp['no_of_internal_links'],3)"
   ]
  },
  {
   "cell_type": "code",
   "execution_count": 542,
   "metadata": {
    "collapsed": false
   },
   "outputs": [
    {
     "name": "stderr",
     "output_type": "stream",
     "text": [
      "F:\\Anaconda\\lib\\site-packages\\ipykernel\\__main__.py:1: SettingWithCopyWarning: \n",
      "A value is trying to be set on a copy of a slice from a DataFrame.\n",
      "Try using .loc[row_indexer,col_indexer] = value instead\n",
      "\n",
      "See the caveats in the documentation: http://pandas.pydata.org/pandas-docs/stable/indexing.html#indexing-view-versus-copy\n",
      "  if __name__ == '__main__':\n"
     ]
    }
   ],
   "source": [
    "camp_test['internal_links']=pd.qcut(camp_test['no_of_internal_links'],4)"
   ]
  },
  {
   "cell_type": "code",
   "execution_count": 513,
   "metadata": {
    "collapsed": false
   },
   "outputs": [
    {
     "name": "stderr",
     "output_type": "stream",
     "text": [
      "F:\\Anaconda\\lib\\site-packages\\ipykernel\\__main__.py:1: SettingWithCopyWarning: \n",
      "A value is trying to be set on a copy of a slice from a DataFrame.\n",
      "Try using .loc[row_indexer,col_indexer] = value instead\n",
      "\n",
      "See the caveats in the documentation: http://pandas.pydata.org/pandas-docs/stable/indexing.html#indexing-view-versus-copy\n",
      "  if __name__ == '__main__':\n"
     ]
    }
   ],
   "source": [
    "camp_train['internal_links']=pd.qcut(camp_train['no_of_internal_links'],4)"
   ]
  },
  {
   "cell_type": "code",
   "execution_count": 197,
   "metadata": {
    "collapsed": false
   },
   "outputs": [],
   "source": [
    "camp['sections']=pd.qcut(camp['no_of_sections'],3,duplicates='drop')"
   ]
  },
  {
   "cell_type": "code",
   "execution_count": 216,
   "metadata": {
    "collapsed": false
   },
   "outputs": [
    {
     "name": "stderr",
     "output_type": "stream",
     "text": [
      "F:\\Anaconda\\lib\\site-packages\\ipykernel\\__main__.py:1: SettingWithCopyWarning: \n",
      "A value is trying to be set on a copy of a slice from a DataFrame.\n",
      "Try using .loc[row_indexer,col_indexer] = value instead\n",
      "\n",
      "See the caveats in the documentation: http://pandas.pydata.org/pandas-docs/stable/indexing.html#indexing-view-versus-copy\n",
      "  if __name__ == '__main__':\n"
     ]
    }
   ],
   "source": [
    "camp_train['sections']=pd.qcut(camp_train['no_of_sections'],3,duplicates='drop')"
   ]
  },
  {
   "cell_type": "code",
   "execution_count": 540,
   "metadata": {
    "collapsed": false
   },
   "outputs": [
    {
     "name": "stderr",
     "output_type": "stream",
     "text": [
      "F:\\Anaconda\\lib\\site-packages\\ipykernel\\__main__.py:1: SettingWithCopyWarning: \n",
      "A value is trying to be set on a copy of a slice from a DataFrame.\n",
      "Try using .loc[row_indexer,col_indexer] = value instead\n",
      "\n",
      "See the caveats in the documentation: http://pandas.pydata.org/pandas-docs/stable/indexing.html#indexing-view-versus-copy\n",
      "  if __name__ == '__main__':\n"
     ]
    }
   ],
   "source": [
    "camp_test['sections']=pd.qcut(camp_test['no_of_sections'],3,duplicates='drop')"
   ]
  },
  {
   "cell_type": "code",
   "execution_count": 198,
   "metadata": {
    "collapsed": true
   },
   "outputs": [],
   "source": [
    "camp['links']=pd.qcut(camp['total_links'],3)"
   ]
  },
  {
   "cell_type": "code",
   "execution_count": 514,
   "metadata": {
    "collapsed": false
   },
   "outputs": [
    {
     "name": "stderr",
     "output_type": "stream",
     "text": [
      "F:\\Anaconda\\lib\\site-packages\\ipykernel\\__main__.py:1: SettingWithCopyWarning: \n",
      "A value is trying to be set on a copy of a slice from a DataFrame.\n",
      "Try using .loc[row_indexer,col_indexer] = value instead\n",
      "\n",
      "See the caveats in the documentation: http://pandas.pydata.org/pandas-docs/stable/indexing.html#indexing-view-versus-copy\n",
      "  if __name__ == '__main__':\n"
     ]
    }
   ],
   "source": [
    "camp_train['links']=pd.qcut(camp_train['total_links'],4)"
   ]
  },
  {
   "cell_type": "code",
   "execution_count": 541,
   "metadata": {
    "collapsed": false
   },
   "outputs": [
    {
     "name": "stderr",
     "output_type": "stream",
     "text": [
      "F:\\Anaconda\\lib\\site-packages\\ipykernel\\__main__.py:1: SettingWithCopyWarning: \n",
      "A value is trying to be set on a copy of a slice from a DataFrame.\n",
      "Try using .loc[row_indexer,col_indexer] = value instead\n",
      "\n",
      "See the caveats in the documentation: http://pandas.pydata.org/pandas-docs/stable/indexing.html#indexing-view-versus-copy\n",
      "  if __name__ == '__main__':\n"
     ]
    }
   ],
   "source": [
    "camp_test['links']=pd.qcut(camp_test['total_links'],4)"
   ]
  },
  {
   "cell_type": "code",
   "execution_count": 361,
   "metadata": {
    "collapsed": true
   },
   "outputs": [],
   "source": [
    "def order1(data,output,by):\n",
    "    D=data.groupby([output,by],as_index=False)[by].agg({'Frequency':'count'})#.sort_values(by='Frequency',ascending=False)\n",
    "    return D"
   ]
  },
  {
   "cell_type": "code",
   "execution_count": 519,
   "metadata": {
    "collapsed": true
   },
   "outputs": [],
   "source": [
    "def order1(data,output,bye):\n",
    "    D=data[[output,bye]].groupby([output],as_index=False).mean().sort_values(by=bye,ascending=False)\n",
    "    return D"
   ]
  },
  {
   "cell_type": "code",
   "execution_count": null,
   "metadata": {
    "collapsed": true
   },
   "outputs": [],
   "source": [
    "data.groupby(['time_of_day','campaign_wts'])['campaign_wts'].agg({'Frequency':'count'})"
   ]
  },
  {
   "cell_type": "code",
   "execution_count": 531,
   "metadata": {
    "collapsed": false
   },
   "outputs": [],
   "source": [
    "Cimg=order1(camp_train,'images','campaign_wts')"
   ]
  },
  {
   "cell_type": "code",
   "execution_count": 543,
   "metadata": {
    "collapsed": true
   },
   "outputs": [],
   "source": [
    "Cimgtest=order1(camp_test,'images','campaign_wts')"
   ]
  },
  {
   "cell_type": "code",
   "execution_count": 533,
   "metadata": {
    "collapsed": false
   },
   "outputs": [],
   "source": [
    "Cimg.reset_index(level=0,inplace=True)"
   ]
  },
  {
   "cell_type": "code",
   "execution_count": 580,
   "metadata": {
    "collapsed": false
   },
   "outputs": [
    {
     "data": {
      "text/html": [
       "<div>\n",
       "<style scoped>\n",
       "    .dataframe tbody tr th:only-of-type {\n",
       "        vertical-align: middle;\n",
       "    }\n",
       "\n",
       "    .dataframe tbody tr th {\n",
       "        vertical-align: top;\n",
       "    }\n",
       "\n",
       "    .dataframe thead th {\n",
       "        text-align: right;\n",
       "    }\n",
       "</style>\n",
       "<table border=\"1\" class=\"dataframe\">\n",
       "  <thead>\n",
       "    <tr style=\"text-align: right;\">\n",
       "      <th></th>\n",
       "      <th>index</th>\n",
       "      <th>images</th>\n",
       "      <th>campaign_wts</th>\n",
       "    </tr>\n",
       "  </thead>\n",
       "  <tbody>\n",
       "    <tr>\n",
       "      <th>0</th>\n",
       "      <td>3</td>\n",
       "      <td>(12.0, 19.0]</td>\n",
       "      <td>5.000000</td>\n",
       "    </tr>\n",
       "    <tr>\n",
       "      <th>1</th>\n",
       "      <td>2</td>\n",
       "      <td>(6.0, 12.0]</td>\n",
       "      <td>4.750000</td>\n",
       "    </tr>\n",
       "    <tr>\n",
       "      <th>2</th>\n",
       "      <td>0</td>\n",
       "      <td>(0.999, 2.0]</td>\n",
       "      <td>2.400000</td>\n",
       "    </tr>\n",
       "    <tr>\n",
       "      <th>3</th>\n",
       "      <td>1</td>\n",
       "      <td>(2.0, 6.0]</td>\n",
       "      <td>1.333333</td>\n",
       "    </tr>\n",
       "  </tbody>\n",
       "</table>\n",
       "</div>"
      ],
      "text/plain": [
       "   index        images  campaign_wts\n",
       "0      3  (12.0, 19.0]      5.000000\n",
       "1      2   (6.0, 12.0]      4.750000\n",
       "2      0  (0.999, 2.0]      2.400000\n",
       "3      1    (2.0, 6.0]      1.333333"
      ]
     },
     "execution_count": 580,
     "metadata": {},
     "output_type": "execute_result"
    }
   ],
   "source": [
    "Cimg"
   ]
  },
  {
   "cell_type": "code",
   "execution_count": 579,
   "metadata": {
    "collapsed": false
   },
   "outputs": [
    {
     "name": "stdout",
     "output_type": "stream",
     "text": [
      "0    5.0\n",
      "Name: campaign_wts, dtype: float64\n",
      "1    4.75\n",
      "Name: campaign_wts, dtype: float64\n",
      "2    2.4\n",
      "Name: campaign_wts, dtype: float64\n",
      "3    1.333333\n",
      "Name: campaign_wts, dtype: float64\n"
     ]
    }
   ],
   "source": [
    "for i in Cimg['index']:\n",
    "    Cimg.campaign_wts[Cimg['index']==i]"
   ]
  },
  {
   "cell_type": "code",
   "execution_count": 630,
   "metadata": {
    "collapsed": true
   },
   "outputs": [],
   "source": [
    "camp['campaign_weight']=0"
   ]
  },
  {
   "cell_type": "code",
   "execution_count": 520,
   "metadata": {
    "collapsed": false
   },
   "outputs": [],
   "source": [
    "Clnk=order1(camp_train,'internal_links','campaign_wts')"
   ]
  },
  {
   "cell_type": "code",
   "execution_count": 655,
   "metadata": {
    "collapsed": false
   },
   "outputs": [],
   "source": [
    "Ctotlnk=order1(camp_train,'links','campaign_wts')"
   ]
  },
  {
   "cell_type": "code",
   "execution_count": 656,
   "metadata": {
    "collapsed": false
   },
   "outputs": [],
   "source": [
    "Ctotlnk.reset_index(level=0,inplace=True)"
   ]
  },
  {
   "cell_type": "code",
   "execution_count": 671,
   "metadata": {
    "collapsed": false
   },
   "outputs": [
    {
     "data": {
      "text/html": [
       "<div>\n",
       "<style scoped>\n",
       "    .dataframe tbody tr th:only-of-type {\n",
       "        vertical-align: middle;\n",
       "    }\n",
       "\n",
       "    .dataframe tbody tr th {\n",
       "        vertical-align: top;\n",
       "    }\n",
       "\n",
       "    .dataframe thead th {\n",
       "        text-align: right;\n",
       "    }\n",
       "</style>\n",
       "<table border=\"1\" class=\"dataframe\">\n",
       "  <thead>\n",
       "    <tr style=\"text-align: right;\">\n",
       "      <th></th>\n",
       "      <th>index</th>\n",
       "      <th>links</th>\n",
       "      <th>campaign_wts</th>\n",
       "    </tr>\n",
       "  </thead>\n",
       "  <tbody>\n",
       "    <tr>\n",
       "      <th>0</th>\n",
       "      <td>3</td>\n",
       "      <td>(67.0, 203.0]</td>\n",
       "      <td>5.000000</td>\n",
       "    </tr>\n",
       "    <tr>\n",
       "      <th>1</th>\n",
       "      <td>2</td>\n",
       "      <td>(16.5, 67.0]</td>\n",
       "      <td>4.714286</td>\n",
       "    </tr>\n",
       "    <tr>\n",
       "      <th>2</th>\n",
       "      <td>0</td>\n",
       "      <td>(6.999, 9.0]</td>\n",
       "      <td>2.500000</td>\n",
       "    </tr>\n",
       "    <tr>\n",
       "      <th>3</th>\n",
       "      <td>1</td>\n",
       "      <td>(9.0, 16.5]</td>\n",
       "      <td>1.600000</td>\n",
       "    </tr>\n",
       "  </tbody>\n",
       "</table>\n",
       "</div>"
      ],
      "text/plain": [
       "   index          links  campaign_wts\n",
       "0      3  (67.0, 203.0]      5.000000\n",
       "1      2   (16.5, 67.0]      4.714286\n",
       "2      0   (6.999, 9.0]      2.500000\n",
       "3      1    (9.0, 16.5]      1.600000"
      ]
     },
     "execution_count": 671,
     "metadata": {},
     "output_type": "execute_result"
    }
   ],
   "source": [
    "Ctotlnk"
   ]
  },
  {
   "cell_type": "code",
   "execution_count": 666,
   "metadata": {
    "collapsed": false
   },
   "outputs": [],
   "source": [
    "Clnk.reset_index(level=0,inplace=True)"
   ]
  },
  {
   "cell_type": "code",
   "execution_count": 668,
   "metadata": {
    "collapsed": false
   },
   "outputs": [
    {
     "data": {
      "text/html": [
       "<div>\n",
       "<style scoped>\n",
       "    .dataframe tbody tr th:only-of-type {\n",
       "        vertical-align: middle;\n",
       "    }\n",
       "\n",
       "    .dataframe tbody tr th {\n",
       "        vertical-align: top;\n",
       "    }\n",
       "\n",
       "    .dataframe thead th {\n",
       "        text-align: right;\n",
       "    }\n",
       "</style>\n",
       "<table border=\"1\" class=\"dataframe\">\n",
       "  <thead>\n",
       "    <tr style=\"text-align: right;\">\n",
       "      <th></th>\n",
       "      <th>index</th>\n",
       "      <th>internal_links</th>\n",
       "      <th>campaign_wts</th>\n",
       "    </tr>\n",
       "  </thead>\n",
       "  <tbody>\n",
       "    <tr>\n",
       "      <th>0</th>\n",
       "      <td>3</td>\n",
       "      <td>(61.75, 191.0]</td>\n",
       "      <td>5.142857</td>\n",
       "    </tr>\n",
       "    <tr>\n",
       "      <th>1</th>\n",
       "      <td>2</td>\n",
       "      <td>(13.5, 61.75]</td>\n",
       "      <td>4.500000</td>\n",
       "    </tr>\n",
       "    <tr>\n",
       "      <th>2</th>\n",
       "      <td>0</td>\n",
       "      <td>(1.999, 4.75]</td>\n",
       "      <td>2.714286</td>\n",
       "    </tr>\n",
       "    <tr>\n",
       "      <th>3</th>\n",
       "      <td>1</td>\n",
       "      <td>(4.75, 13.5]</td>\n",
       "      <td>1.500000</td>\n",
       "    </tr>\n",
       "  </tbody>\n",
       "</table>\n",
       "</div>"
      ],
      "text/plain": [
       "   index  internal_links  campaign_wts\n",
       "0      3  (61.75, 191.0]      5.142857\n",
       "1      2   (13.5, 61.75]      4.500000\n",
       "2      0   (1.999, 4.75]      2.714286\n",
       "3      1    (4.75, 13.5]      1.500000"
      ]
     },
     "execution_count": 668,
     "metadata": {},
     "output_type": "execute_result"
    }
   ],
   "source": [
    "Clnk"
   ]
  },
  {
   "cell_type": "code",
   "execution_count": 277,
   "metadata": {
    "collapsed": false
   },
   "outputs": [],
   "source": [
    "Csec=order1(camp_train,'sections','campaign_wts')"
   ]
  },
  {
   "cell_type": "code",
   "execution_count": 669,
   "metadata": {
    "collapsed": false
   },
   "outputs": [],
   "source": [
    "Csec.reset_index(level=0,inplace=True)"
   ]
  },
  {
   "cell_type": "code",
   "execution_count": 670,
   "metadata": {
    "collapsed": false
   },
   "outputs": [
    {
     "data": {
      "text/html": [
       "<div>\n",
       "<style scoped>\n",
       "    .dataframe tbody tr th:only-of-type {\n",
       "        vertical-align: middle;\n",
       "    }\n",
       "\n",
       "    .dataframe tbody tr th {\n",
       "        vertical-align: top;\n",
       "    }\n",
       "\n",
       "    .dataframe thead th {\n",
       "        text-align: right;\n",
       "    }\n",
       "</style>\n",
       "<table border=\"1\" class=\"dataframe\">\n",
       "  <thead>\n",
       "    <tr style=\"text-align: right;\">\n",
       "      <th></th>\n",
       "      <th>index</th>\n",
       "      <th>sections</th>\n",
       "      <th>campaign_wts</th>\n",
       "    </tr>\n",
       "  </thead>\n",
       "  <tbody>\n",
       "    <tr>\n",
       "      <th>0</th>\n",
       "      <td>1</td>\n",
       "      <td>(2.333, 6.0]</td>\n",
       "      <td>4.666667</td>\n",
       "    </tr>\n",
       "    <tr>\n",
       "      <th>1</th>\n",
       "      <td>0</td>\n",
       "      <td>(0.999, 2.333]</td>\n",
       "      <td>2.882353</td>\n",
       "    </tr>\n",
       "  </tbody>\n",
       "</table>\n",
       "</div>"
      ],
      "text/plain": [
       "   index        sections  campaign_wts\n",
       "0      1    (2.333, 6.0]      4.666667\n",
       "1      0  (0.999, 2.333]      2.882353"
      ]
     },
     "execution_count": 670,
     "metadata": {},
     "output_type": "execute_result"
    }
   ],
   "source": [
    "Csec"
   ]
  },
  {
   "cell_type": "code",
   "execution_count": 950,
   "metadata": {
    "collapsed": false
   },
   "outputs": [
    {
     "name": "stdout",
     "output_type": "stream",
     "text": [
      "id29 5.4 6\n",
      "id30 4.61 5\n",
      "id31 1.91 2\n",
      "id32 4.61 5\n",
      "id33 3.31 4\n",
      "id34 4.98 5\n",
      "id35 2.2 2\n",
      "id36 2.41 3\n",
      "id37 1.41 1\n",
      "id38 2.86 1\n",
      "id39 2.07 2\n",
      "id40 1.41 1\n",
      "id41 1.41 1\n",
      "id42 5.48 6\n",
      "id43 1.41 1\n",
      "id44 3.68 4\n",
      "id45 2.68 3\n",
      "id46 2.68 3\n",
      "id47 2.68 3\n",
      "id48 3.86 4\n",
      "id49 5.25 6\n",
      "id50 4.25 4\n",
      "id51 2.18 2\n",
      "id52 5.44 6\n",
      "id53 4.75 5\n",
      "id54 5.33 6\n",
      "id55 2.91 4\n",
      "id56 5.33 6\n",
      "id57 4.36 4\n",
      "id58 2.96 3\n",
      "id59 3.18 4\n",
      "id60 2.64 3\n",
      "id61 3.11 3\n",
      "id62 2.68 3\n",
      "id63 5.48 6\n",
      "id64 4.36 4\n",
      "id65 2.81 3\n",
      "id66 2.37 2\n",
      "id67 2.81 3\n",
      "id68 2.81 3\n",
      "id69 2.41 3\n",
      "id70 2.37 2\n",
      "id71 2.68 3\n",
      "id72 2.18 1\n",
      "id73 1.8 1\n",
      "id74 5.48 6\n",
      "id75 5.36 6\n",
      "id76 5.36 6\n",
      "id77 3.68 4\n",
      "id78 3.09 3\n",
      "id79 3.09 3\n",
      "id80 2.91 4\n"
     ]
    }
   ],
   "source": [
    "#names=['links','internal_links','images','sections'], Initial weights calculated below this code by using email texts/subs \n",
    "# and then iterated in this code to get the exact weights by using above information from images/links/sections etc\n",
    "\n",
    "F=['total_links','no_of_internal_links','no_of_images','no_of_sections']\n",
    "#def weights():\n",
    "eps=0.01\n",
    "for i in camp.campaign_id:\n",
    "    val=camp.loc[camp['campaign_id']==i,F[0]].values    \n",
    "    for n,k in enumerate(Ctotlnk['links']):\n",
    "        try:\n",
    "            if val> (k.left-eps)  and val< k.right :\n",
    "                wt_1=Ctotlnk['campaign_wts'][n]\n",
    "        except:\n",
    "            if val==k.right:\n",
    "                wt_1=Ctotlnk['campaign_wts'][n]\n",
    "    val=camp.loc[camp['campaign_id']==i,F[1]].values\n",
    "    for n,k in enumerate(Clnk['internal_links']):\n",
    "        try:\n",
    "            if val> (k.left-eps) and val< k.right:\n",
    "                wt_2=Clnk['campaign_wts'][n]\n",
    "        except:\n",
    "            if val==k.right:\n",
    "                wt_2=Clnk['campaign_wts'][n]\n",
    "    val=camp.loc[camp['campaign_id']==i,F[2]].values\n",
    "    for n,k in enumerate(Cimg['images']):\n",
    "        try:\n",
    "            if val> (k.left-eps) and val< k.right:\n",
    "                wt_3=Cimg['campaign_wts'][n]\n",
    "        except:\n",
    "            if val==k.right:\n",
    "                wt_3=Cimg['campaign_wts'][n]\n",
    "    val=camp.loc[camp['campaign_id']==i,F[3]].values\n",
    "    for n,k in enumerate(Csec['sections']):\n",
    "        try:\n",
    "            if val> k.left and val< k.right:\n",
    "                wt_4=Csec['campaign_wts'][n]\n",
    "        except:\n",
    "            if val==k.right:\n",
    "                wt_4=Csec['campaign_wts'][n]\n",
    "    #print(wt_1,wt_2,wt_3,wt_4)\n",
    "    camp.loc[camp['campaign_id']==i,'campaign_weight']=round((((wt_1+wt_2+wt_3+wt_4)/4)+(camp.campaign_wts[i]))/2,2)\n",
    "    print('id'+str(i),camp.campaign_weight[i],camp.campaign_wts[i])\n"
   ]
  },
  {
   "cell_type": "code",
   "execution_count": 691,
   "metadata": {
    "collapsed": false
   },
   "outputs": [],
   "source": [
    "camp.to_csv('Campaign_Final.csv')  "
   ]
  },
  {
   "cell_type": "code",
   "execution_count": 21,
   "metadata": {
    "collapsed": false
   },
   "outputs": [],
   "source": [
    "def priority(feature,n=1): # set 0 for User ids esle 1 for Camp ids\n",
    "    j=feature.columns.values[n]\n",
    "    l=len(feature[j].unique())\n",
    "    t={}\n",
    "    for n,key in enumerate(feature[j].unique()):\n",
    "        try:\n",
    "            t[l-n]=[x[1] for x in (feature[feature[j]==key].index.tolist())]\n",
    "        except:\n",
    "            print('Error in adding to dict')\n",
    "    return t"
   ]
  },
  {
   "cell_type": "code",
   "execution_count": 22,
   "metadata": {
    "collapsed": false
   },
   "outputs": [],
   "source": [
    "C_cid_feature=priority(C_cid)"
   ]
  },
  {
   "cell_type": "code",
   "execution_count": 280,
   "metadata": {
    "collapsed": false
   },
   "outputs": [
    {
     "data": {
      "text/plain": [
       "{1: [40, 38, 37, 41, 43],\n",
       " 2: [35, 51, 39, 31],\n",
       " 3: [45, 36, 46, 47],\n",
       " 4: [48, 50, 33, 44],\n",
       " 5: [30, 53, 32, 34],\n",
       " 6: [52, 29, 42, 49, 54]}"
      ]
     },
     "execution_count": 280,
     "metadata": {},
     "output_type": "execute_result"
    }
   ],
   "source": [
    "C_cid_feature"
   ]
  },
  {
   "cell_type": "code",
   "execution_count": 282,
   "metadata": {
    "collapsed": false
   },
   "outputs": [],
   "source": [
    "camp=camp.set_index('campaign_id',drop=False)"
   ]
  },
  {
   "cell_type": "code",
   "execution_count": 299,
   "metadata": {
    "collapsed": true
   },
   "outputs": [],
   "source": [
    "#without email body\n",
    "text={}\n",
    "trainer=[]\n",
    "for key,val in C_cid_feature.items():\n",
    "    for i in val:\n",
    "        try:\n",
    "            text[key].append(camp.subject[i]+' '+camp.communication_type[i])\n",
    "        except:\n",
    "            text[key]=[camp.subject[i],camp.communication_type[i]]\n",
    "        trainer.append(i)"
   ]
  },
  {
   "cell_type": "code",
   "execution_count": 303,
   "metadata": {
    "collapsed": true
   },
   "outputs": [],
   "source": [
    "#with email body\n",
    "text={}\n",
    "trainer=[]\n",
    "for key,val in C_cid_feature.items():\n",
    "    for i in val:\n",
    "        try:\n",
    "            text[key].append(camp.subject[i]+' '+camp.communication_type[i]+' '+camp.email_body[i])\n",
    "        except:\n",
    "            text[key]=[camp.subject[i],camp.communication_type[i]+' '+camp.email_body[i]]\n",
    "        trainer.append(i)"
   ]
  },
  {
   "cell_type": "code",
   "execution_count": 304,
   "metadata": {
    "collapsed": true
   },
   "outputs": [],
   "source": [
    "to_train=list(filter(lambda x: x not in trainer,camp.index.values))"
   ]
  },
  {
   "cell_type": "code",
   "execution_count": 308,
   "metadata": {
    "collapsed": false
   },
   "outputs": [],
   "source": [
    "#def weight_selector(trainer,to_trainer,camp):\n",
    "wt={};wt1={}\n",
    "for i in to_train:\n",
    "    m={};n={}\n",
    "    text1=camp.subject[i]+' '+camp.communication_type[i]+' '+camp.email_body[i]\n",
    "    for key,val in text.items():\n",
    "        l=[];c=[]\n",
    "        for j in val:\n",
    "            tot=intersection(text1,j)\n",
    "            l.append(tot)\n",
    "            cos=cosine_similarity(text1,j)\n",
    "            c.append(cos)\n",
    "        e=len(l)-1\n",
    "\n",
    "        if l[e-1]==l[e] and (l[e]==1 or l[e]==2):\n",
    "            if l[e-1]==l[e-2]:\n",
    "                if l[e-2]==l[e-3]:\n",
    "                    m[key]=e-3\n",
    "                else: m[key]=e-2\n",
    "            else: m[key]=e-1\n",
    "        else:\n",
    "            m[key]=max(l)\n",
    "        n[key]=max(c)\n",
    "    a=max(m.items(), key=operator.itemgetter(1))    \n",
    "    b=max(n.items(), key=operator.itemgetter(1))\n",
    "    d=list(m.values())\n",
    "    h=len(text)-1\n",
    "    if d[h-1]==d[h] and (d[h]==1 or d[h]==2):\n",
    "        if d[h-1]==d[h-2]:\n",
    "            if d[h-2]==d[h-3]:\n",
    "                wt[i]=h-3\n",
    "            else: wt[i]=h-2\n",
    "        else: wt[i]=h-1\n",
    "    else:\n",
    "        wt[i]=a[0]\n",
    "    wt1[i]=b[0]\n",
    "    "
   ]
  },
  {
   "cell_type": "code",
   "execution_count": 312,
   "metadata": {
    "collapsed": false
   },
   "outputs": [
    {
     "data": {
      "text/plain": [
       "{55: 1,\n",
       " 56: 6,\n",
       " 57: 4,\n",
       " 58: 3,\n",
       " 59: 1,\n",
       " 60: 1,\n",
       " 61: 1,\n",
       " 62: 3,\n",
       " 63: 6,\n",
       " 64: 4,\n",
       " 65: 3,\n",
       " 66: 6,\n",
       " 67: 3,\n",
       " 68: 3,\n",
       " 69: 3,\n",
       " 70: 6,\n",
       " 71: 3,\n",
       " 72: 2,\n",
       " 73: 2,\n",
       " 74: 6,\n",
       " 75: 4,\n",
       " 76: 4,\n",
       " 77: 1,\n",
       " 78: 1,\n",
       " 79: 1,\n",
       " 80: 1}"
      ]
     },
     "execution_count": 312,
     "metadata": {},
     "output_type": "execute_result"
    }
   ],
   "source": [
    "wt_withbody"
   ]
  },
  {
   "cell_type": "code",
   "execution_count": 311,
   "metadata": {
    "collapsed": false
   },
   "outputs": [
    {
     "data": {
      "text/plain": [
       "{55: 4,\n",
       " 56: 6,\n",
       " 57: 4,\n",
       " 58: 3,\n",
       " 59: 4,\n",
       " 60: 3,\n",
       " 61: 3,\n",
       " 62: 3,\n",
       " 63: 6,\n",
       " 64: 4,\n",
       " 65: 3,\n",
       " 66: 2,\n",
       " 67: 3,\n",
       " 68: 3,\n",
       " 69: 3,\n",
       " 70: 2,\n",
       " 71: 3,\n",
       " 72: 1,\n",
       " 73: 1,\n",
       " 74: 6,\n",
       " 75: 6,\n",
       " 76: 6,\n",
       " 77: 4,\n",
       " 78: 3,\n",
       " 79: 3,\n",
       " 80: 4}"
      ]
     },
     "execution_count": 311,
     "metadata": {},
     "output_type": "execute_result"
    }
   ],
   "source": [
    "wt_withoutbody"
   ]
  },
  {
   "cell_type": "code",
   "execution_count": 29,
   "metadata": {
    "collapsed": true
   },
   "outputs": [],
   "source": [
    "def invert(d):\n",
    "    return dict( (v,k) for k in d for v in d[k] )"
   ]
  },
  {
   "cell_type": "code",
   "execution_count": 30,
   "metadata": {
    "collapsed": false
   },
   "outputs": [],
   "source": [
    "c_wts=invert(C_cid_feature)"
   ]
  },
  {
   "cell_type": "code",
   "execution_count": 210,
   "metadata": {
    "collapsed": true
   },
   "outputs": [],
   "source": [
    "camp.to_csv('campfinal.csv')"
   ]
  },
  {
   "cell_type": "code",
   "execution_count": 313,
   "metadata": {
    "collapsed": false
   },
   "outputs": [],
   "source": [
    "C_wts={**c_wts,**wt_withoutbody}"
   ]
  },
  {
   "cell_type": "code",
   "execution_count": 314,
   "metadata": {
    "collapsed": true
   },
   "outputs": [],
   "source": [
    "C_wts1={**c_wts,**wt_withbody}"
   ]
  },
  {
   "cell_type": "code",
   "execution_count": 35,
   "metadata": {
    "collapsed": false
   },
   "outputs": [],
   "source": [
    "data['cwt']=0"
   ]
  },
  {
   "cell_type": "code",
   "execution_count": 138,
   "metadata": {
    "collapsed": true
   },
   "outputs": [],
   "source": [
    "data['cwt1']=0"
   ]
  },
  {
   "cell_type": "code",
   "execution_count": 39,
   "metadata": {
    "collapsed": false
   },
   "outputs": [
    {
     "data": {
      "text/html": [
       "<div>\n",
       "<style scoped>\n",
       "    .dataframe tbody tr th:only-of-type {\n",
       "        vertical-align: middle;\n",
       "    }\n",
       "\n",
       "    .dataframe tbody tr th {\n",
       "        vertical-align: top;\n",
       "    }\n",
       "\n",
       "    .dataframe thead th {\n",
       "        text-align: right;\n",
       "    }\n",
       "</style>\n",
       "<table border=\"1\" class=\"dataframe\">\n",
       "  <thead>\n",
       "    <tr style=\"text-align: right;\">\n",
       "      <th></th>\n",
       "      <th>id</th>\n",
       "      <th>campaign_id</th>\n",
       "      <th>user_id</th>\n",
       "      <th>send_date</th>\n",
       "    </tr>\n",
       "  </thead>\n",
       "  <tbody>\n",
       "    <tr>\n",
       "      <th>0</th>\n",
       "      <td>63_122715</td>\n",
       "      <td>63</td>\n",
       "      <td>122715</td>\n",
       "      <td>01-02-2018 22:35</td>\n",
       "    </tr>\n",
       "    <tr>\n",
       "      <th>1</th>\n",
       "      <td>56_76206</td>\n",
       "      <td>56</td>\n",
       "      <td>76206</td>\n",
       "      <td>02-01-2018 08:15</td>\n",
       "    </tr>\n",
       "    <tr>\n",
       "      <th>2</th>\n",
       "      <td>57_96189</td>\n",
       "      <td>57</td>\n",
       "      <td>96189</td>\n",
       "      <td>05-01-2018 18:25</td>\n",
       "    </tr>\n",
       "    <tr>\n",
       "      <th>3</th>\n",
       "      <td>56_166917</td>\n",
       "      <td>56</td>\n",
       "      <td>166917</td>\n",
       "      <td>02-01-2018 08:15</td>\n",
       "    </tr>\n",
       "    <tr>\n",
       "      <th>4</th>\n",
       "      <td>56_172838</td>\n",
       "      <td>56</td>\n",
       "      <td>172838</td>\n",
       "      <td>02-01-2018 08:12</td>\n",
       "    </tr>\n",
       "  </tbody>\n",
       "</table>\n",
       "</div>"
      ],
      "text/plain": [
       "          id  campaign_id  user_id         send_date\n",
       "0  63_122715           63   122715  01-02-2018 22:35\n",
       "1   56_76206           56    76206  02-01-2018 08:15\n",
       "2   57_96189           57    96189  05-01-2018 18:25\n",
       "3  56_166917           56   166917  02-01-2018 08:15\n",
       "4  56_172838           56   172838  02-01-2018 08:12"
      ]
     },
     "execution_count": 39,
     "metadata": {},
     "output_type": "execute_result"
    }
   ],
   "source": [
    "test=pd.read_csv('test.csv')\n",
    "test.head()"
   ]
  },
  {
   "cell_type": "code",
   "execution_count": 36,
   "metadata": {
    "collapsed": false
   },
   "outputs": [
    {
     "name": "stderr",
     "output_type": "stream",
     "text": [
      "F:\\Anaconda\\lib\\site-packages\\ipykernel\\__main__.py:2: SettingWithCopyWarning: \n",
      "A value is trying to be set on a copy of a slice from a DataFrame\n",
      "\n",
      "See the caveats in the documentation: http://pandas.pydata.org/pandas-docs/stable/indexing.html#indexing-view-versus-copy\n",
      "  from ipykernel import kernelapp as app\n"
     ]
    }
   ],
   "source": [
    "for key,val in c_wts.items():\n",
    "    data.cwt[data['campaign_id']==key]=val"
   ]
  },
  {
   "cell_type": "code",
   "execution_count": 40,
   "metadata": {
    "collapsed": true
   },
   "outputs": [],
   "source": [
    "test['cwt']=0"
   ]
  },
  {
   "cell_type": "code",
   "execution_count": 41,
   "metadata": {
    "collapsed": false,
    "scrolled": true
   },
   "outputs": [
    {
     "name": "stderr",
     "output_type": "stream",
     "text": [
      "F:\\Anaconda\\lib\\site-packages\\ipykernel\\__main__.py:2: SettingWithCopyWarning: \n",
      "A value is trying to be set on a copy of a slice from a DataFrame\n",
      "\n",
      "See the caveats in the documentation: http://pandas.pydata.org/pandas-docs/stable/indexing.html#indexing-view-versus-copy\n",
      "  from ipykernel import kernelapp as app\n"
     ]
    }
   ],
   "source": [
    "for key,val in wt.items():\n",
    "    test.cwt[test['campaign_id']==key]=val"
   ]
  },
  {
   "cell_type": "code",
   "execution_count": 140,
   "metadata": {
    "collapsed": true
   },
   "outputs": [],
   "source": [
    "test['cwt1']=0"
   ]
  },
  {
   "cell_type": "code",
   "execution_count": 142,
   "metadata": {
    "collapsed": false
   },
   "outputs": [
    {
     "name": "stderr",
     "output_type": "stream",
     "text": [
      "F:\\Anaconda\\lib\\site-packages\\ipykernel\\__main__.py:2: SettingWithCopyWarning: \n",
      "A value is trying to be set on a copy of a slice from a DataFrame\n",
      "\n",
      "See the caveats in the documentation: http://pandas.pydata.org/pandas-docs/stable/indexing.html#indexing-view-versus-copy\n",
      "  from ipykernel import kernelapp as app\n"
     ]
    }
   ],
   "source": [
    "for key,val in wt1.items():\n",
    "    test.cwt1[test['campaign_id']==key]=val"
   ]
  },
  {
   "cell_type": "code",
   "execution_count": 315,
   "metadata": {
    "collapsed": true
   },
   "outputs": [],
   "source": [
    "camp['campaign_wts']=0"
   ]
  },
  {
   "cell_type": "code",
   "execution_count": 316,
   "metadata": {
    "collapsed": false
   },
   "outputs": [
    {
     "name": "stderr",
     "output_type": "stream",
     "text": [
      "F:\\Anaconda\\lib\\site-packages\\ipykernel\\__main__.py:2: SettingWithCopyWarning: \n",
      "A value is trying to be set on a copy of a slice from a DataFrame\n",
      "\n",
      "See the caveats in the documentation: http://pandas.pydata.org/pandas-docs/stable/indexing.html#indexing-view-versus-copy\n",
      "  from ipykernel import kernelapp as app\n"
     ]
    }
   ],
   "source": [
    "for key,val in C_wts.items():\n",
    "    camp.campaign_wts[camp['campaign_id']==key]=val"
   ]
  },
  {
   "cell_type": "code",
   "execution_count": 317,
   "metadata": {
    "collapsed": true
   },
   "outputs": [],
   "source": [
    "camp['campaign_wts1']=0"
   ]
  },
  {
   "cell_type": "code",
   "execution_count": 318,
   "metadata": {
    "collapsed": false
   },
   "outputs": [
    {
     "name": "stderr",
     "output_type": "stream",
     "text": [
      "F:\\Anaconda\\lib\\site-packages\\ipykernel\\__main__.py:2: SettingWithCopyWarning: \n",
      "A value is trying to be set on a copy of a slice from a DataFrame\n",
      "\n",
      "See the caveats in the documentation: http://pandas.pydata.org/pandas-docs/stable/indexing.html#indexing-view-versus-copy\n",
      "  from ipykernel import kernelapp as app\n"
     ]
    }
   ],
   "source": [
    "for key,val in C_wts1.items():\n",
    "    camp.campaign_wts1[camp['campaign_id']==key]=val"
   ]
  },
  {
   "cell_type": "code",
   "execution_count": 949,
   "metadata": {
    "collapsed": false
   },
   "outputs": [
    {
     "data": {
      "text/html": [
       "<div>\n",
       "<style scoped>\n",
       "    .dataframe tbody tr th:only-of-type {\n",
       "        vertical-align: middle;\n",
       "    }\n",
       "\n",
       "    .dataframe tbody tr th {\n",
       "        vertical-align: top;\n",
       "    }\n",
       "\n",
       "    .dataframe thead th {\n",
       "        text-align: right;\n",
       "    }\n",
       "</style>\n",
       "<table border=\"1\" class=\"dataframe\">\n",
       "  <thead>\n",
       "    <tr style=\"text-align: right;\">\n",
       "      <th></th>\n",
       "      <th>campaign_id</th>\n",
       "      <th>communication_type</th>\n",
       "      <th>total_links</th>\n",
       "      <th>no_of_internal_links</th>\n",
       "      <th>no_of_images</th>\n",
       "      <th>no_of_sections</th>\n",
       "      <th>email_body</th>\n",
       "      <th>subject</th>\n",
       "      <th>email_url</th>\n",
       "      <th>campaign_wts</th>\n",
       "      <th>campaign_wts1</th>\n",
       "      <th>images</th>\n",
       "      <th>internal_links</th>\n",
       "      <th>sections</th>\n",
       "      <th>links</th>\n",
       "      <th>external_links</th>\n",
       "      <th>campaign_weight</th>\n",
       "    </tr>\n",
       "    <tr>\n",
       "      <th>campaign_id</th>\n",
       "      <th></th>\n",
       "      <th></th>\n",
       "      <th></th>\n",
       "      <th></th>\n",
       "      <th></th>\n",
       "      <th></th>\n",
       "      <th></th>\n",
       "      <th></th>\n",
       "      <th></th>\n",
       "      <th></th>\n",
       "      <th></th>\n",
       "      <th></th>\n",
       "      <th></th>\n",
       "      <th></th>\n",
       "      <th></th>\n",
       "      <th></th>\n",
       "      <th></th>\n",
       "    </tr>\n",
       "  </thead>\n",
       "  <tbody>\n",
       "    <tr>\n",
       "      <th>29</th>\n",
       "      <td>29</td>\n",
       "      <td>Newsletter</td>\n",
       "      <td>67</td>\n",
       "      <td>61</td>\n",
       "      <td>12</td>\n",
       "      <td>3</td>\n",
       "      <td>Dear AVians,\\r\\r\\r\\n \\r\\r\\r\\nWe are shaping up...</td>\n",
       "      <td>Sneak Peek: A look at the emerging data scienc...</td>\n",
       "      <td>http://r.newsletters.analyticsvidhya.com/7um44...</td>\n",
       "      <td>6</td>\n",
       "      <td>6</td>\n",
       "      <td>(10.0, 19.0]</td>\n",
       "      <td>(26.0, 191.0]</td>\n",
       "      <td>(2.0, 6.0]</td>\n",
       "      <td>(28.0, 203.0]</td>\n",
       "      <td>6</td>\n",
       "      <td>5.40</td>\n",
       "    </tr>\n",
       "    <tr>\n",
       "      <th>30</th>\n",
       "      <td>30</td>\n",
       "      <td>Upcoming Events</td>\n",
       "      <td>18</td>\n",
       "      <td>14</td>\n",
       "      <td>7</td>\n",
       "      <td>1</td>\n",
       "      <td>Dear AVians,\\r\\r\\r\\n \\r\\r\\r\\nAre your eager to...</td>\n",
       "      <td>[July] Data Science Expert Meetups &amp; Competiti...</td>\n",
       "      <td>http://r.newsletters.analyticsvidhya.com/7up0e...</td>\n",
       "      <td>5</td>\n",
       "      <td>5</td>\n",
       "      <td>(3.0, 10.0]</td>\n",
       "      <td>(7.0, 26.0]</td>\n",
       "      <td>(0.999, 2.0]</td>\n",
       "      <td>(9.0, 28.0]</td>\n",
       "      <td>4</td>\n",
       "      <td>4.61</td>\n",
       "    </tr>\n",
       "    <tr>\n",
       "      <th>31</th>\n",
       "      <td>31</td>\n",
       "      <td>Conference</td>\n",
       "      <td>15</td>\n",
       "      <td>13</td>\n",
       "      <td>5</td>\n",
       "      <td>1</td>\n",
       "      <td>Early Bird Pricing Till August 07  Save upto ...</td>\n",
       "      <td>Last chance to convince your boss before the E...</td>\n",
       "      <td>http://r.newsletters.analyticsvidhya.com/7usym...</td>\n",
       "      <td>2</td>\n",
       "      <td>2</td>\n",
       "      <td>(3.0, 10.0]</td>\n",
       "      <td>(7.0, 26.0]</td>\n",
       "      <td>(0.999, 2.0]</td>\n",
       "      <td>(9.0, 28.0]</td>\n",
       "      <td>2</td>\n",
       "      <td>1.91</td>\n",
       "    </tr>\n",
       "    <tr>\n",
       "      <th>32</th>\n",
       "      <td>32</td>\n",
       "      <td>Conference</td>\n",
       "      <td>24</td>\n",
       "      <td>19</td>\n",
       "      <td>7</td>\n",
       "      <td>1</td>\n",
       "      <td>\\r\\r\\r\\n \\r\\r\\r\\nHi ?\\r\\r\\r\\n \\r\\r\\r\\nBefore I...</td>\n",
       "      <td>A.I. &amp; Machine Learning: 5 reasons why you sho...</td>\n",
       "      <td>http://r.newsletters.analyticsvidhya.com/7uthl...</td>\n",
       "      <td>5</td>\n",
       "      <td>5</td>\n",
       "      <td>(3.0, 10.0]</td>\n",
       "      <td>(7.0, 26.0]</td>\n",
       "      <td>(0.999, 2.0]</td>\n",
       "      <td>(9.0, 28.0]</td>\n",
       "      <td>5</td>\n",
       "      <td>4.61</td>\n",
       "    </tr>\n",
       "    <tr>\n",
       "      <th>33</th>\n",
       "      <td>33</td>\n",
       "      <td>Others</td>\n",
       "      <td>7</td>\n",
       "      <td>3</td>\n",
       "      <td>1</td>\n",
       "      <td>1</td>\n",
       "      <td>Fireside Chat with DJ Patil - the master is he...</td>\n",
       "      <td>[Delhi NCR] Fireside Chat with DJ Patil, Forme...</td>\n",
       "      <td>http://r.newsletters.analyticsvidhya.com/7uvlg...</td>\n",
       "      <td>4</td>\n",
       "      <td>4</td>\n",
       "      <td>(0.999, 3.0]</td>\n",
       "      <td>(1.999, 7.0]</td>\n",
       "      <td>(0.999, 2.0]</td>\n",
       "      <td>(5.999, 9.0]</td>\n",
       "      <td>4</td>\n",
       "      <td>3.31</td>\n",
       "    </tr>\n",
       "    <tr>\n",
       "      <th>34</th>\n",
       "      <td>34</td>\n",
       "      <td>Newsletter</td>\n",
       "      <td>75</td>\n",
       "      <td>64</td>\n",
       "      <td>12</td>\n",
       "      <td>4</td>\n",
       "      <td>\\r\\r\\r\\nAugust Newsletter\\r\\r\\r\\n \\r\\r\\r\\nDear...</td>\n",
       "      <td>[AV Newsletter] Fireside Chat with DJ Patil, D...</td>\n",
       "      <td>http://r.newsletters.analyticsvidhya.com/7uwwu...</td>\n",
       "      <td>5</td>\n",
       "      <td>5</td>\n",
       "      <td>(10.0, 19.0]</td>\n",
       "      <td>(26.0, 191.0]</td>\n",
       "      <td>(2.0, 6.0]</td>\n",
       "      <td>(28.0, 203.0]</td>\n",
       "      <td>11</td>\n",
       "      <td>4.98</td>\n",
       "    </tr>\n",
       "    <tr>\n",
       "      <th>35</th>\n",
       "      <td>35</td>\n",
       "      <td>Others</td>\n",
       "      <td>9</td>\n",
       "      <td>2</td>\n",
       "      <td>1</td>\n",
       "      <td>1</td>\n",
       "      <td>Fireside Chat with DJ Patil - Watch Live!\\r\\r\\...</td>\n",
       "      <td>Watch Live: Fireside Chat with DJ Patil</td>\n",
       "      <td>http://r.newsletters.analyticsvidhya.com/7ux6c...</td>\n",
       "      <td>2</td>\n",
       "      <td>2</td>\n",
       "      <td>(0.999, 3.0]</td>\n",
       "      <td>(1.999, 7.0]</td>\n",
       "      <td>(0.999, 2.0]</td>\n",
       "      <td>(5.999, 9.0]</td>\n",
       "      <td>7</td>\n",
       "      <td>2.20</td>\n",
       "    </tr>\n",
       "    <tr>\n",
       "      <th>36</th>\n",
       "      <td>36</td>\n",
       "      <td>Conference</td>\n",
       "      <td>13</td>\n",
       "      <td>11</td>\n",
       "      <td>2</td>\n",
       "      <td>1</td>\n",
       "      <td>Announcing Dr. Kirk Borne as Keynote Speaker\\r...</td>\n",
       "      <td>Dr Kirk Borne of Booz Allen Hamilton, to keyno...</td>\n",
       "      <td>http://r.newsletters.analyticsvidhya.com/7uxpa...</td>\n",
       "      <td>3</td>\n",
       "      <td>3</td>\n",
       "      <td>(0.999, 3.0]</td>\n",
       "      <td>(7.0, 26.0]</td>\n",
       "      <td>(0.999, 2.0]</td>\n",
       "      <td>(9.0, 28.0]</td>\n",
       "      <td>2</td>\n",
       "      <td>2.41</td>\n",
       "    </tr>\n",
       "    <tr>\n",
       "      <th>37</th>\n",
       "      <td>37</td>\n",
       "      <td>Conference</td>\n",
       "      <td>9</td>\n",
       "      <td>7</td>\n",
       "      <td>3</td>\n",
       "      <td>1</td>\n",
       "      <td>Last day to save maximum on tickets\\r\\r\\r\\n \\r...</td>\n",
       "      <td>[Last Day] Early Bird Offer on conference pass...</td>\n",
       "      <td>http://r.newsletters.analyticsvidhya.com/7uyr8...</td>\n",
       "      <td>1</td>\n",
       "      <td>1</td>\n",
       "      <td>(0.999, 3.0]</td>\n",
       "      <td>(1.999, 7.0]</td>\n",
       "      <td>(0.999, 2.0]</td>\n",
       "      <td>(5.999, 9.0]</td>\n",
       "      <td>2</td>\n",
       "      <td>1.41</td>\n",
       "    </tr>\n",
       "    <tr>\n",
       "      <th>38</th>\n",
       "      <td>38</td>\n",
       "      <td>Conference</td>\n",
       "      <td>28</td>\n",
       "      <td>26</td>\n",
       "      <td>12</td>\n",
       "      <td>3</td>\n",
       "      <td>Early Bird Pricing expires on August 07\\r\\r\\r\\...</td>\n",
       "      <td>Early Bird offer expires in 2 Days. Save your ...</td>\n",
       "      <td>http://r.newsletters.analyticsvidhya.com/7uz0p...</td>\n",
       "      <td>1</td>\n",
       "      <td>1</td>\n",
       "      <td>(10.0, 19.0]</td>\n",
       "      <td>(7.0, 26.0]</td>\n",
       "      <td>(2.0, 6.0]</td>\n",
       "      <td>(9.0, 28.0]</td>\n",
       "      <td>2</td>\n",
       "      <td>2.86</td>\n",
       "    </tr>\n",
       "    <tr>\n",
       "      <th>39</th>\n",
       "      <td>39</td>\n",
       "      <td>Webinar</td>\n",
       "      <td>9</td>\n",
       "      <td>4</td>\n",
       "      <td>2</td>\n",
       "      <td>1</td>\n",
       "      <td>Analytics Vidhya &amp; UpX Academy presents \\r\\r\\r...</td>\n",
       "      <td>[New Webinar] Can non programmers join Big Dat...</td>\n",
       "      <td>http://r.newsletters.analyticsvidhya.com/7uza6...</td>\n",
       "      <td>2</td>\n",
       "      <td>2</td>\n",
       "      <td>(0.999, 3.0]</td>\n",
       "      <td>(1.999, 7.0]</td>\n",
       "      <td>(0.999, 2.0]</td>\n",
       "      <td>(5.999, 9.0]</td>\n",
       "      <td>5</td>\n",
       "      <td>2.07</td>\n",
       "    </tr>\n",
       "    <tr>\n",
       "      <th>40</th>\n",
       "      <td>40</td>\n",
       "      <td>Conference</td>\n",
       "      <td>10</td>\n",
       "      <td>8</td>\n",
       "      <td>2</td>\n",
       "      <td>1</td>\n",
       "      <td>Machine learning algorithms are considered bla...</td>\n",
       "      <td>Visualizing Machine Learning with Anand S, CEO...</td>\n",
       "      <td>http://r.newsletters.analyticsvidhya.com/7v1x0...</td>\n",
       "      <td>1</td>\n",
       "      <td>1</td>\n",
       "      <td>(0.999, 3.0]</td>\n",
       "      <td>(7.0, 26.0]</td>\n",
       "      <td>(0.999, 2.0]</td>\n",
       "      <td>(9.0, 28.0]</td>\n",
       "      <td>2</td>\n",
       "      <td>1.41</td>\n",
       "    </tr>\n",
       "    <tr>\n",
       "      <th>41</th>\n",
       "      <td>41</td>\n",
       "      <td>Corporate</td>\n",
       "      <td>14</td>\n",
       "      <td>10</td>\n",
       "      <td>2</td>\n",
       "      <td>1</td>\n",
       "      <td>Step into the Future of Artificial Intelligenc...</td>\n",
       "      <td>Participate at DataHack Summit 2017 - India's ...</td>\n",
       "      <td>http://r.newsletters.analyticsvidhya.com/7v3hw...</td>\n",
       "      <td>1</td>\n",
       "      <td>1</td>\n",
       "      <td>(0.999, 3.0]</td>\n",
       "      <td>(7.0, 26.0]</td>\n",
       "      <td>(0.999, 2.0]</td>\n",
       "      <td>(9.0, 28.0]</td>\n",
       "      <td>4</td>\n",
       "      <td>1.41</td>\n",
       "    </tr>\n",
       "    <tr>\n",
       "      <th>42</th>\n",
       "      <td>42</td>\n",
       "      <td>Newsletter</td>\n",
       "      <td>88</td>\n",
       "      <td>79</td>\n",
       "      <td>13</td>\n",
       "      <td>4</td>\n",
       "      <td>September Newsletter\\r\\r\\r\\n \\r\\r\\r\\nDear AVia...</td>\n",
       "      <td>[September] Exciting days ahead with DataHack ...</td>\n",
       "      <td>http://r.newsletters.analyticsvidhya.com/7v3rd...</td>\n",
       "      <td>6</td>\n",
       "      <td>6</td>\n",
       "      <td>(10.0, 19.0]</td>\n",
       "      <td>(26.0, 191.0]</td>\n",
       "      <td>(2.0, 6.0]</td>\n",
       "      <td>(28.0, 203.0]</td>\n",
       "      <td>9</td>\n",
       "      <td>5.48</td>\n",
       "    </tr>\n",
       "    <tr>\n",
       "      <th>43</th>\n",
       "      <td>43</td>\n",
       "      <td>Corporate</td>\n",
       "      <td>11</td>\n",
       "      <td>7</td>\n",
       "      <td>3</td>\n",
       "      <td>1</td>\n",
       "      <td>\\r\\r\\r\\nHosted Your Corporate Hackathon Yet?\\r...</td>\n",
       "      <td>Innovate and grow your business through Data H...</td>\n",
       "      <td>http://r.newsletters.analyticsvidhya.com/7v4ta...</td>\n",
       "      <td>1</td>\n",
       "      <td>1</td>\n",
       "      <td>(0.999, 3.0]</td>\n",
       "      <td>(1.999, 7.0]</td>\n",
       "      <td>(0.999, 2.0]</td>\n",
       "      <td>(9.0, 28.0]</td>\n",
       "      <td>4</td>\n",
       "      <td>1.41</td>\n",
       "    </tr>\n",
       "    <tr>\n",
       "      <th>44</th>\n",
       "      <td>44</td>\n",
       "      <td>Upcoming Events</td>\n",
       "      <td>60</td>\n",
       "      <td>56</td>\n",
       "      <td>19</td>\n",
       "      <td>6</td>\n",
       "      <td>[September Events]\\r\\r\\r\\n \\r\\r\\r\\nDear AVians...</td>\n",
       "      <td>[September] Data Science Hackathons, Meetups a...</td>\n",
       "      <td>http://r.newsletters.analyticsvidhya.com/7veam...</td>\n",
       "      <td>4</td>\n",
       "      <td>4</td>\n",
       "      <td>(10.0, 19.0]</td>\n",
       "      <td>(26.0, 191.0]</td>\n",
       "      <td>(2.0, 6.0]</td>\n",
       "      <td>(28.0, 203.0]</td>\n",
       "      <td>4</td>\n",
       "      <td>3.68</td>\n",
       "    </tr>\n",
       "    <tr>\n",
       "      <th>45</th>\n",
       "      <td>45</td>\n",
       "      <td>Hackathon</td>\n",
       "      <td>7</td>\n",
       "      <td>3</td>\n",
       "      <td>2</td>\n",
       "      <td>1</td>\n",
       "      <td>Click Prediction\\r\\r\\r\\nData Science Hackathon...</td>\n",
       "      <td>Click Prediction | Data Science Hackathon | Wi...</td>\n",
       "      <td>http://r.newsletters.analyticsvidhya.com/7vgeh...</td>\n",
       "      <td>3</td>\n",
       "      <td>3</td>\n",
       "      <td>(0.999, 3.0]</td>\n",
       "      <td>(1.999, 7.0]</td>\n",
       "      <td>(0.999, 2.0]</td>\n",
       "      <td>(5.999, 9.0]</td>\n",
       "      <td>4</td>\n",
       "      <td>2.68</td>\n",
       "    </tr>\n",
       "    <tr>\n",
       "      <th>46</th>\n",
       "      <td>46</td>\n",
       "      <td>Hackathon</td>\n",
       "      <td>7</td>\n",
       "      <td>3</td>\n",
       "      <td>2</td>\n",
       "      <td>1</td>\n",
       "      <td>Click Prediction\\r\\r\\r\\nData Science Hackathon...</td>\n",
       "      <td>[Starts Tonight] Click Prediction Hackathon | ...</td>\n",
       "      <td>http://r.newsletters.analyticsvidhya.com/7vj1a...</td>\n",
       "      <td>3</td>\n",
       "      <td>3</td>\n",
       "      <td>(0.999, 3.0]</td>\n",
       "      <td>(1.999, 7.0]</td>\n",
       "      <td>(0.999, 2.0]</td>\n",
       "      <td>(5.999, 9.0]</td>\n",
       "      <td>4</td>\n",
       "      <td>2.68</td>\n",
       "    </tr>\n",
       "    <tr>\n",
       "      <th>47</th>\n",
       "      <td>47</td>\n",
       "      <td>Hackathon</td>\n",
       "      <td>8</td>\n",
       "      <td>4</td>\n",
       "      <td>2</td>\n",
       "      <td>1</td>\n",
       "      <td>\\r\\r\\r\\nCodeFest by IIT BHU\\r\\r\\r\\n[Coding Fes...</td>\n",
       "      <td>[New Hackathon] CodeFest by IIT BHU | Win Priz...</td>\n",
       "      <td>http://r.newsletters.analyticsvidhya.com/7vkvo...</td>\n",
       "      <td>3</td>\n",
       "      <td>3</td>\n",
       "      <td>(0.999, 3.0]</td>\n",
       "      <td>(1.999, 7.0]</td>\n",
       "      <td>(0.999, 2.0]</td>\n",
       "      <td>(5.999, 9.0]</td>\n",
       "      <td>4</td>\n",
       "      <td>2.68</td>\n",
       "    </tr>\n",
       "    <tr>\n",
       "      <th>48</th>\n",
       "      <td>48</td>\n",
       "      <td>Newsletter</td>\n",
       "      <td>203</td>\n",
       "      <td>191</td>\n",
       "      <td>12</td>\n",
       "      <td>4</td>\n",
       "      <td>\\r\\r\\r\\nOctober Newsletter\\r\\r\\r\\n \\r\\r\\r\\nDea...</td>\n",
       "      <td>[October 2017] - Just a month to go! DataHack ...</td>\n",
       "      <td>http://r.newsletters.analyticsvidhya.com/7vlxl...</td>\n",
       "      <td>4</td>\n",
       "      <td>4</td>\n",
       "      <td>(10.0, 19.0]</td>\n",
       "      <td>(26.0, 191.0]</td>\n",
       "      <td>(2.0, 6.0]</td>\n",
       "      <td>(28.0, 203.0]</td>\n",
       "      <td>12</td>\n",
       "      <td>3.86</td>\n",
       "    </tr>\n",
       "    <tr>\n",
       "      <th>49</th>\n",
       "      <td>49</td>\n",
       "      <td>Conference</td>\n",
       "      <td>119</td>\n",
       "      <td>117</td>\n",
       "      <td>16</td>\n",
       "      <td>1</td>\n",
       "      <td>Dear Patron,\\r\\r\\r\\n \\r\\r\\r\\nAnalytics Vidhya ...</td>\n",
       "      <td>Register @ DataHack Summit 2017 - India's Larg...</td>\n",
       "      <td>http://r.newsletters.analyticsvidhya.com/o7ohw...</td>\n",
       "      <td>6</td>\n",
       "      <td>6</td>\n",
       "      <td>(10.0, 19.0]</td>\n",
       "      <td>(26.0, 191.0]</td>\n",
       "      <td>(0.999, 2.0]</td>\n",
       "      <td>(28.0, 203.0]</td>\n",
       "      <td>2</td>\n",
       "      <td>5.25</td>\n",
       "    </tr>\n",
       "    <tr>\n",
       "      <th>50</th>\n",
       "      <td>50</td>\n",
       "      <td>Upcoming Events</td>\n",
       "      <td>109</td>\n",
       "      <td>105</td>\n",
       "      <td>17</td>\n",
       "      <td>6</td>\n",
       "      <td>[October Hackathons, Meetups, Events, Webinars...</td>\n",
       "      <td>[October] Data Science Hackathons, Meetups and...</td>\n",
       "      <td>http://r.newsletters.analyticsvidhya.com/7voke...</td>\n",
       "      <td>4</td>\n",
       "      <td>4</td>\n",
       "      <td>(10.0, 19.0]</td>\n",
       "      <td>(26.0, 191.0]</td>\n",
       "      <td>(2.0, 6.0]</td>\n",
       "      <td>(28.0, 203.0]</td>\n",
       "      <td>4</td>\n",
       "      <td>4.25</td>\n",
       "    </tr>\n",
       "    <tr>\n",
       "      <th>51</th>\n",
       "      <td>51</td>\n",
       "      <td>Hackathon</td>\n",
       "      <td>8</td>\n",
       "      <td>4</td>\n",
       "      <td>2</td>\n",
       "      <td>1</td>\n",
       "      <td>Upcoming Hackathons\\r\\r\\r\\n[Machine Learning] ...</td>\n",
       "      <td>[Data Science Hackathons] Cross -Sell &amp; Churn ...</td>\n",
       "      <td>http://r.newsletters.analyticsvidhya.com/7vs95...</td>\n",
       "      <td>2</td>\n",
       "      <td>2</td>\n",
       "      <td>(0.999, 3.0]</td>\n",
       "      <td>(1.999, 7.0]</td>\n",
       "      <td>(0.999, 2.0]</td>\n",
       "      <td>(5.999, 9.0]</td>\n",
       "      <td>4</td>\n",
       "      <td>2.18</td>\n",
       "    </tr>\n",
       "    <tr>\n",
       "      <th>52</th>\n",
       "      <td>52</td>\n",
       "      <td>Newsletter</td>\n",
       "      <td>67</td>\n",
       "      <td>62</td>\n",
       "      <td>10</td>\n",
       "      <td>4</td>\n",
       "      <td>November Newsletter\\r\\r\\r\\n \\r\\r\\r\\nDear AVian...</td>\n",
       "      <td>[Newsletter] Stage for DataHack Summit 2017 is...</td>\n",
       "      <td>http://r.newsletters.analyticsvidhya.com/7vtb2...</td>\n",
       "      <td>6</td>\n",
       "      <td>6</td>\n",
       "      <td>(3.0, 10.0]</td>\n",
       "      <td>(26.0, 191.0]</td>\n",
       "      <td>(2.0, 6.0]</td>\n",
       "      <td>(28.0, 203.0]</td>\n",
       "      <td>5</td>\n",
       "      <td>5.44</td>\n",
       "    </tr>\n",
       "    <tr>\n",
       "      <th>53</th>\n",
       "      <td>53</td>\n",
       "      <td>Conference</td>\n",
       "      <td>104</td>\n",
       "      <td>100</td>\n",
       "      <td>13</td>\n",
       "      <td>1</td>\n",
       "      <td>3 DAYS | 30 TALKS | 10 HACK SESSIONS | 6 WORKS...</td>\n",
       "      <td>[Register Now] Just 2 days to go for India's b...</td>\n",
       "      <td>http://r.newsletters.analyticsvidhya.com/7vv5g...</td>\n",
       "      <td>5</td>\n",
       "      <td>5</td>\n",
       "      <td>(10.0, 19.0]</td>\n",
       "      <td>(26.0, 191.0]</td>\n",
       "      <td>(0.999, 2.0]</td>\n",
       "      <td>(28.0, 203.0]</td>\n",
       "      <td>4</td>\n",
       "      <td>4.75</td>\n",
       "    </tr>\n",
       "    <tr>\n",
       "      <th>54</th>\n",
       "      <td>54</td>\n",
       "      <td>Newsletter</td>\n",
       "      <td>63</td>\n",
       "      <td>58</td>\n",
       "      <td>8</td>\n",
       "      <td>4</td>\n",
       "      <td>December Newsletter\\r\\r\\r\\n \\r\\r\\r\\nDear AVian...</td>\n",
       "      <td>[November Updates] - Announcing DataFest 2018,...</td>\n",
       "      <td>http://r.newsletters.analyticsvidhya.com/7vzmm...</td>\n",
       "      <td>6</td>\n",
       "      <td>6</td>\n",
       "      <td>(3.0, 10.0]</td>\n",
       "      <td>(26.0, 191.0]</td>\n",
       "      <td>(2.0, 6.0]</td>\n",
       "      <td>(28.0, 203.0]</td>\n",
       "      <td>5</td>\n",
       "      <td>5.33</td>\n",
       "    </tr>\n",
       "    <tr>\n",
       "      <th>55</th>\n",
       "      <td>55</td>\n",
       "      <td>Corporate</td>\n",
       "      <td>11</td>\n",
       "      <td>7</td>\n",
       "      <td>5</td>\n",
       "      <td>1</td>\n",
       "      <td>Do you know? You can identify and hire the bes...</td>\n",
       "      <td>Hire Top Data Scientists In Less Than 24 Hours</td>\n",
       "      <td>http://r.newsletters.analyticsvidhya.com/7w2se...</td>\n",
       "      <td>4</td>\n",
       "      <td>1</td>\n",
       "      <td>(3.0, 10.0]</td>\n",
       "      <td>(1.999, 7.0]</td>\n",
       "      <td>(0.999, 2.0]</td>\n",
       "      <td>(9.0, 28.0]</td>\n",
       "      <td>4</td>\n",
       "      <td>2.91</td>\n",
       "    </tr>\n",
       "    <tr>\n",
       "      <th>56</th>\n",
       "      <td>56</td>\n",
       "      <td>Newsletter</td>\n",
       "      <td>42</td>\n",
       "      <td>38</td>\n",
       "      <td>10</td>\n",
       "      <td>4</td>\n",
       "      <td>\\r\\r\\r\\nJanuary 2018 Newsletter\\r\\r\\r\\n \\r\\r\\r...</td>\n",
       "      <td>[January] Year 2018 - Bigger &amp; Exciting challe...</td>\n",
       "      <td>http://r.newsletters.analyticsvidhya.com/7w3uc...</td>\n",
       "      <td>6</td>\n",
       "      <td>6</td>\n",
       "      <td>(3.0, 10.0]</td>\n",
       "      <td>(26.0, 191.0]</td>\n",
       "      <td>(2.0, 6.0]</td>\n",
       "      <td>(28.0, 203.0]</td>\n",
       "      <td>4</td>\n",
       "      <td>5.33</td>\n",
       "    </tr>\n",
       "    <tr>\n",
       "      <th>57</th>\n",
       "      <td>57</td>\n",
       "      <td>Upcoming Events</td>\n",
       "      <td>40</td>\n",
       "      <td>36</td>\n",
       "      <td>15</td>\n",
       "      <td>4</td>\n",
       "      <td>[January - Hiring Hackathons, LearnUps, Contes...</td>\n",
       "      <td>[January 2018] Upcoming Hiring Hackathons, Lea...</td>\n",
       "      <td>http://r.newsletters.analyticsvidhya.com/7w43t...</td>\n",
       "      <td>4</td>\n",
       "      <td>4</td>\n",
       "      <td>(10.0, 19.0]</td>\n",
       "      <td>(26.0, 191.0]</td>\n",
       "      <td>(2.0, 6.0]</td>\n",
       "      <td>(28.0, 203.0]</td>\n",
       "      <td>4</td>\n",
       "      <td>4.36</td>\n",
       "    </tr>\n",
       "    <tr>\n",
       "      <th>58</th>\n",
       "      <td>58</td>\n",
       "      <td>Hackathon</td>\n",
       "      <td>6</td>\n",
       "      <td>2</td>\n",
       "      <td>2</td>\n",
       "      <td>1</td>\n",
       "      <td>Analytics Vidhya Hiring Hackathon\\r\\r\\r\\n \\r\\r...</td>\n",
       "      <td>[13 January] Get Hired with Analytics Vidhya H...</td>\n",
       "      <td>http://r.newsletters.analyticsvidhya.com/7w5y6...</td>\n",
       "      <td>3</td>\n",
       "      <td>3</td>\n",
       "      <td>(0.999, 3.0]</td>\n",
       "      <td>(1.999, 7.0]</td>\n",
       "      <td>(0.999, 2.0]</td>\n",
       "      <td>(5.999, 9.0]</td>\n",
       "      <td>4</td>\n",
       "      <td>2.96</td>\n",
       "    </tr>\n",
       "    <tr>\n",
       "      <th>59</th>\n",
       "      <td>59</td>\n",
       "      <td>Corporate</td>\n",
       "      <td>8</td>\n",
       "      <td>4</td>\n",
       "      <td>5</td>\n",
       "      <td>1</td>\n",
       "      <td>Do you know? You can identify and hire the bes...</td>\n",
       "      <td>Hire Top Talent From 1,00,000+ Data Scientists</td>\n",
       "      <td>http://r.newsletters.analyticsvidhya.com/7w6qm...</td>\n",
       "      <td>4</td>\n",
       "      <td>1</td>\n",
       "      <td>(3.0, 10.0]</td>\n",
       "      <td>(1.999, 7.0]</td>\n",
       "      <td>(0.999, 2.0]</td>\n",
       "      <td>(5.999, 9.0]</td>\n",
       "      <td>4</td>\n",
       "      <td>3.18</td>\n",
       "    </tr>\n",
       "    <tr>\n",
       "      <th>60</th>\n",
       "      <td>60</td>\n",
       "      <td>Corporate</td>\n",
       "      <td>11</td>\n",
       "      <td>7</td>\n",
       "      <td>3</td>\n",
       "      <td>3</td>\n",
       "      <td>Get Over 100,000 Data Scientists To Solve Your...</td>\n",
       "      <td>Get 1000+ Data-Driven Solutions For Your Busin...</td>\n",
       "      <td>http://r.newsletters.analyticsvidhya.com/7w704...</td>\n",
       "      <td>3</td>\n",
       "      <td>1</td>\n",
       "      <td>(0.999, 3.0]</td>\n",
       "      <td>(1.999, 7.0]</td>\n",
       "      <td>(2.0, 6.0]</td>\n",
       "      <td>(9.0, 28.0]</td>\n",
       "      <td>4</td>\n",
       "      <td>2.64</td>\n",
       "    </tr>\n",
       "    <tr>\n",
       "      <th>61</th>\n",
       "      <td>61</td>\n",
       "      <td>Corporate</td>\n",
       "      <td>8</td>\n",
       "      <td>4</td>\n",
       "      <td>9</td>\n",
       "      <td>1</td>\n",
       "      <td>Searching For Top Data Scientists To Join Your...</td>\n",
       "      <td>Recruit Top Data Science Professionals (Chief ...</td>\n",
       "      <td>http://r.newsletters.analyticsvidhya.com/7wghg...</td>\n",
       "      <td>3</td>\n",
       "      <td>1</td>\n",
       "      <td>(3.0, 10.0]</td>\n",
       "      <td>(1.999, 7.0]</td>\n",
       "      <td>(0.999, 2.0]</td>\n",
       "      <td>(5.999, 9.0]</td>\n",
       "      <td>4</td>\n",
       "      <td>3.11</td>\n",
       "    </tr>\n",
       "    <tr>\n",
       "      <th>62</th>\n",
       "      <td>62</td>\n",
       "      <td>Hackathon</td>\n",
       "      <td>7</td>\n",
       "      <td>3</td>\n",
       "      <td>2</td>\n",
       "      <td>1</td>\n",
       "      <td>\\r\\r\\r\\nFelicity'18 - Kings Of Machine Learnin...</td>\n",
       "      <td>[24 Jan] IIIT Hyderabad - Felicity'18 Machine ...</td>\n",
       "      <td>http://r.newsletters.analyticsvidhya.com/7wh9w...</td>\n",
       "      <td>3</td>\n",
       "      <td>3</td>\n",
       "      <td>(0.999, 3.0]</td>\n",
       "      <td>(1.999, 7.0]</td>\n",
       "      <td>(0.999, 2.0]</td>\n",
       "      <td>(5.999, 9.0]</td>\n",
       "      <td>4</td>\n",
       "      <td>2.68</td>\n",
       "    </tr>\n",
       "    <tr>\n",
       "      <th>63</th>\n",
       "      <td>63</td>\n",
       "      <td>Newsletter</td>\n",
       "      <td>68</td>\n",
       "      <td>64</td>\n",
       "      <td>15</td>\n",
       "      <td>5</td>\n",
       "      <td>\\r\\r\\r\\nFebruary 2018 Newsletter\\r\\r\\r\\n \\r\\r\\...</td>\n",
       "      <td>AVbytes, Ultimate 2018 learning path and aweso...</td>\n",
       "      <td>http://r.newsletters.analyticsvidhya.com/7whsu...</td>\n",
       "      <td>6</td>\n",
       "      <td>6</td>\n",
       "      <td>(10.0, 19.0]</td>\n",
       "      <td>(26.0, 191.0]</td>\n",
       "      <td>(2.0, 6.0]</td>\n",
       "      <td>(28.0, 203.0]</td>\n",
       "      <td>4</td>\n",
       "      <td>5.48</td>\n",
       "    </tr>\n",
       "    <tr>\n",
       "      <th>64</th>\n",
       "      <td>64</td>\n",
       "      <td>Upcoming Events</td>\n",
       "      <td>49</td>\n",
       "      <td>45</td>\n",
       "      <td>14</td>\n",
       "      <td>4</td>\n",
       "      <td>[February - Hiring Hackathons, LearnUps, Conte...</td>\n",
       "      <td>[February 2018] Upcoming Hiring Hackathons, Da...</td>\n",
       "      <td>http://r.newsletters.analyticsvidhya.com/7wjn8...</td>\n",
       "      <td>4</td>\n",
       "      <td>4</td>\n",
       "      <td>(10.0, 19.0]</td>\n",
       "      <td>(26.0, 191.0]</td>\n",
       "      <td>(2.0, 6.0]</td>\n",
       "      <td>(28.0, 203.0]</td>\n",
       "      <td>4</td>\n",
       "      <td>4.36</td>\n",
       "    </tr>\n",
       "    <tr>\n",
       "      <th>65</th>\n",
       "      <td>65</td>\n",
       "      <td>Hackathon</td>\n",
       "      <td>7</td>\n",
       "      <td>3</td>\n",
       "      <td>1</td>\n",
       "      <td>1</td>\n",
       "      <td>IEOR @ IITB &amp; McKinsey Knowledge Centre India ...</td>\n",
       "      <td>[New Hackathon] The Young Optimization Cracker...</td>\n",
       "      <td>http://r.newsletters.analyticsvidhya.com/7wjwp...</td>\n",
       "      <td>3</td>\n",
       "      <td>3</td>\n",
       "      <td>(0.999, 3.0]</td>\n",
       "      <td>(1.999, 7.0]</td>\n",
       "      <td>(0.999, 2.0]</td>\n",
       "      <td>(5.999, 9.0]</td>\n",
       "      <td>4</td>\n",
       "      <td>2.81</td>\n",
       "    </tr>\n",
       "    <tr>\n",
       "      <th>66</th>\n",
       "      <td>66</td>\n",
       "      <td>Corporate</td>\n",
       "      <td>16</td>\n",
       "      <td>12</td>\n",
       "      <td>13</td>\n",
       "      <td>1</td>\n",
       "      <td>Not Able To Train Your Data Science Team On Ar...</td>\n",
       "      <td>4 Top Data Science Trainings For Your Team</td>\n",
       "      <td>http://r.newsletters.analyticsvidhya.com/7wkfo...</td>\n",
       "      <td>2</td>\n",
       "      <td>6</td>\n",
       "      <td>(10.0, 19.0]</td>\n",
       "      <td>(7.0, 26.0]</td>\n",
       "      <td>(0.999, 2.0]</td>\n",
       "      <td>(9.0, 28.0]</td>\n",
       "      <td>4</td>\n",
       "      <td>2.37</td>\n",
       "    </tr>\n",
       "    <tr>\n",
       "      <th>67</th>\n",
       "      <td>67</td>\n",
       "      <td>Hackathon</td>\n",
       "      <td>7</td>\n",
       "      <td>3</td>\n",
       "      <td>1</td>\n",
       "      <td>1</td>\n",
       "      <td>Anheuser Busch InBev: Data Engineering Talent ...</td>\n",
       "      <td>[New Hackathon] ABInBev : Data Engineering Tal...</td>\n",
       "      <td>http://r.newsletters.analyticsvidhya.com/7wnby...</td>\n",
       "      <td>3</td>\n",
       "      <td>3</td>\n",
       "      <td>(0.999, 3.0]</td>\n",
       "      <td>(1.999, 7.0]</td>\n",
       "      <td>(0.999, 2.0]</td>\n",
       "      <td>(5.999, 9.0]</td>\n",
       "      <td>4</td>\n",
       "      <td>2.81</td>\n",
       "    </tr>\n",
       "    <tr>\n",
       "      <th>68</th>\n",
       "      <td>68</td>\n",
       "      <td>Hackathon</td>\n",
       "      <td>7</td>\n",
       "      <td>3</td>\n",
       "      <td>1</td>\n",
       "      <td>1</td>\n",
       "      <td>Dear Hacker,\\r\\r\\r\\n\\r\\r\\r\\nAnheuser Busch InB...</td>\n",
       "      <td>[Hiring Hackathon] ABInBev : Data Engineering ...</td>\n",
       "      <td>http://r.newsletters.analyticsvidhya.com/7wo4e...</td>\n",
       "      <td>3</td>\n",
       "      <td>3</td>\n",
       "      <td>(0.999, 3.0]</td>\n",
       "      <td>(1.999, 7.0]</td>\n",
       "      <td>(0.999, 2.0]</td>\n",
       "      <td>(5.999, 9.0]</td>\n",
       "      <td>4</td>\n",
       "      <td>2.81</td>\n",
       "    </tr>\n",
       "    <tr>\n",
       "      <th>69</th>\n",
       "      <td>69</td>\n",
       "      <td>Hackathon</td>\n",
       "      <td>12</td>\n",
       "      <td>8</td>\n",
       "      <td>4</td>\n",
       "      <td>2</td>\n",
       "      <td>Dear Hackers,\\r\\r\\r\\n\\r\\r\\r\\nHere is a great n...</td>\n",
       "      <td>[Open To All] The Young Optimization Crackerja...</td>\n",
       "      <td>http://r.newsletters.analyticsvidhya.com/7wowu...</td>\n",
       "      <td>3</td>\n",
       "      <td>3</td>\n",
       "      <td>(3.0, 10.0]</td>\n",
       "      <td>(7.0, 26.0]</td>\n",
       "      <td>(0.999, 2.0]</td>\n",
       "      <td>(9.0, 28.0]</td>\n",
       "      <td>4</td>\n",
       "      <td>2.41</td>\n",
       "    </tr>\n",
       "    <tr>\n",
       "      <th>70</th>\n",
       "      <td>70</td>\n",
       "      <td>Corporate</td>\n",
       "      <td>16</td>\n",
       "      <td>12</td>\n",
       "      <td>13</td>\n",
       "      <td>1</td>\n",
       "      <td>\\r\\r\\r\\nNot Able To Train Your Data Science Te...</td>\n",
       "      <td>Give Your Team The Edge In Machine Learning Wi...</td>\n",
       "      <td>http://r.newsletters.analyticsvidhya.com/7wppa...</td>\n",
       "      <td>2</td>\n",
       "      <td>6</td>\n",
       "      <td>(10.0, 19.0]</td>\n",
       "      <td>(7.0, 26.0]</td>\n",
       "      <td>(0.999, 2.0]</td>\n",
       "      <td>(9.0, 28.0]</td>\n",
       "      <td>4</td>\n",
       "      <td>2.37</td>\n",
       "    </tr>\n",
       "    <tr>\n",
       "      <th>71</th>\n",
       "      <td>71</td>\n",
       "      <td>Hackathon</td>\n",
       "      <td>8</td>\n",
       "      <td>4</td>\n",
       "      <td>4</td>\n",
       "      <td>2</td>\n",
       "      <td>Dear Hackers,\\r\\r\\r\\n \\r\\r\\r\\nGreat News for y...</td>\n",
       "      <td>[Hiring Hackathon] ABInBev is hiring Data Scie...</td>\n",
       "      <td>http://r.newsletters.analyticsvidhya.com/7wqhq...</td>\n",
       "      <td>3</td>\n",
       "      <td>3</td>\n",
       "      <td>(3.0, 10.0]</td>\n",
       "      <td>(1.999, 7.0]</td>\n",
       "      <td>(0.999, 2.0]</td>\n",
       "      <td>(5.999, 9.0]</td>\n",
       "      <td>4</td>\n",
       "      <td>2.68</td>\n",
       "    </tr>\n",
       "    <tr>\n",
       "      <th>72</th>\n",
       "      <td>72</td>\n",
       "      <td>Corporate</td>\n",
       "      <td>22</td>\n",
       "      <td>15</td>\n",
       "      <td>5</td>\n",
       "      <td>1</td>\n",
       "      <td>\\r\\r\\r\\nAVBytes: Top Stories On Analytics Vidh...</td>\n",
       "      <td>Missing out on the latest happenings in AI? Ch...</td>\n",
       "      <td>http://r.newsletters.analyticsvidhya.com/7wra6...</td>\n",
       "      <td>1</td>\n",
       "      <td>2</td>\n",
       "      <td>(3.0, 10.0]</td>\n",
       "      <td>(7.0, 26.0]</td>\n",
       "      <td>(0.999, 2.0]</td>\n",
       "      <td>(9.0, 28.0]</td>\n",
       "      <td>7</td>\n",
       "      <td>2.18</td>\n",
       "    </tr>\n",
       "    <tr>\n",
       "      <th>73</th>\n",
       "      <td>73</td>\n",
       "      <td>Corporate</td>\n",
       "      <td>18</td>\n",
       "      <td>11</td>\n",
       "      <td>5</td>\n",
       "      <td>1</td>\n",
       "      <td>AVBytes: Top Stories On Analytics Vidhya This ...</td>\n",
       "      <td>Missing out on the latest happenings in AI? Ch...</td>\n",
       "      <td>http://r.newsletters.analyticsvidhya.com/7wrjo...</td>\n",
       "      <td>1</td>\n",
       "      <td>2</td>\n",
       "      <td>(3.0, 10.0]</td>\n",
       "      <td>(7.0, 26.0]</td>\n",
       "      <td>(0.999, 2.0]</td>\n",
       "      <td>(9.0, 28.0]</td>\n",
       "      <td>7</td>\n",
       "      <td>1.80</td>\n",
       "    </tr>\n",
       "    <tr>\n",
       "      <th>74</th>\n",
       "      <td>74</td>\n",
       "      <td>Newsletter</td>\n",
       "      <td>140</td>\n",
       "      <td>130</td>\n",
       "      <td>15</td>\n",
       "      <td>4</td>\n",
       "      <td>March 2018 Newsletter\\r\\r\\r\\n \\r\\r\\r\\nDear Avi...</td>\n",
       "      <td>[March Newsletter] AV Android App, DataHack Pr...</td>\n",
       "      <td>http://r.newsletters.analyticsvidhya.com/7ww0u...</td>\n",
       "      <td>6</td>\n",
       "      <td>6</td>\n",
       "      <td>(10.0, 19.0]</td>\n",
       "      <td>(26.0, 191.0]</td>\n",
       "      <td>(2.0, 6.0]</td>\n",
       "      <td>(28.0, 203.0]</td>\n",
       "      <td>10</td>\n",
       "      <td>5.48</td>\n",
       "    </tr>\n",
       "    <tr>\n",
       "      <th>75</th>\n",
       "      <td>75</td>\n",
       "      <td>Upcoming Events</td>\n",
       "      <td>39</td>\n",
       "      <td>35</td>\n",
       "      <td>15</td>\n",
       "      <td>6</td>\n",
       "      <td>[March 2018 - Hackathons, Competitions, Cash p...</td>\n",
       "      <td>[March 2018] It's Back: McKinsey Analytics Onl...</td>\n",
       "      <td>http://r.newsletters.analyticsvidhya.com/7wx2s...</td>\n",
       "      <td>6</td>\n",
       "      <td>4</td>\n",
       "      <td>(10.0, 19.0]</td>\n",
       "      <td>(26.0, 191.0]</td>\n",
       "      <td>(2.0, 6.0]</td>\n",
       "      <td>(28.0, 203.0]</td>\n",
       "      <td>4</td>\n",
       "      <td>5.36</td>\n",
       "    </tr>\n",
       "    <tr>\n",
       "      <th>76</th>\n",
       "      <td>76</td>\n",
       "      <td>Upcoming Events</td>\n",
       "      <td>35</td>\n",
       "      <td>31</td>\n",
       "      <td>15</td>\n",
       "      <td>6</td>\n",
       "      <td>[March 2018 - Hackathons, Competitions, Cash p...</td>\n",
       "      <td>[March 2018] It's Back: McKinsey Analytics Onl...</td>\n",
       "      <td>http://r.newsletters.analyticsvidhya.com/7wxlq...</td>\n",
       "      <td>6</td>\n",
       "      <td>4</td>\n",
       "      <td>(10.0, 19.0]</td>\n",
       "      <td>(26.0, 191.0]</td>\n",
       "      <td>(2.0, 6.0]</td>\n",
       "      <td>(28.0, 203.0]</td>\n",
       "      <td>4</td>\n",
       "      <td>5.36</td>\n",
       "    </tr>\n",
       "    <tr>\n",
       "      <th>77</th>\n",
       "      <td>77</td>\n",
       "      <td>Corporate</td>\n",
       "      <td>24</td>\n",
       "      <td>16</td>\n",
       "      <td>5</td>\n",
       "      <td>1</td>\n",
       "      <td>Hiring Data Scientists &amp; Data Engineers?\\r\\r\\r...</td>\n",
       "      <td>Recruiting Data Scientists? Follow These 5 Bes...</td>\n",
       "      <td>http://r.newsletters.analyticsvidhya.com/7wxv8...</td>\n",
       "      <td>4</td>\n",
       "      <td>1</td>\n",
       "      <td>(3.0, 10.0]</td>\n",
       "      <td>(7.0, 26.0]</td>\n",
       "      <td>(0.999, 2.0]</td>\n",
       "      <td>(9.0, 28.0]</td>\n",
       "      <td>8</td>\n",
       "      <td>3.68</td>\n",
       "    </tr>\n",
       "    <tr>\n",
       "      <th>78</th>\n",
       "      <td>78</td>\n",
       "      <td>Hackathon</td>\n",
       "      <td>6</td>\n",
       "      <td>2</td>\n",
       "      <td>1</td>\n",
       "      <td>1</td>\n",
       "      <td>McKinsey Analytics Online Hackathon\\r\\r\\r\\nRec...</td>\n",
       "      <td>24 Hours To Go For McKinsey 24-hour Hackathon ...</td>\n",
       "      <td>http://r.newsletters.analyticsvidhya.com/7wz6m...</td>\n",
       "      <td>3</td>\n",
       "      <td>1</td>\n",
       "      <td>(0.999, 3.0]</td>\n",
       "      <td>(1.999, 7.0]</td>\n",
       "      <td>(0.999, 2.0]</td>\n",
       "      <td>(5.999, 9.0]</td>\n",
       "      <td>4</td>\n",
       "      <td>3.09</td>\n",
       "    </tr>\n",
       "    <tr>\n",
       "      <th>79</th>\n",
       "      <td>79</td>\n",
       "      <td>Hackathon</td>\n",
       "      <td>6</td>\n",
       "      <td>2</td>\n",
       "      <td>1</td>\n",
       "      <td>1</td>\n",
       "      <td>McKinsey Analytics Online Hackathon\\r\\r\\r\\nRec...</td>\n",
       "      <td>12 Hours To Go For McKinsey 24-hour Hackathon ...</td>\n",
       "      <td>http://r.newsletters.analyticsvidhya.com/7wzpl...</td>\n",
       "      <td>3</td>\n",
       "      <td>1</td>\n",
       "      <td>(0.999, 3.0]</td>\n",
       "      <td>(1.999, 7.0]</td>\n",
       "      <td>(0.999, 2.0]</td>\n",
       "      <td>(5.999, 9.0]</td>\n",
       "      <td>4</td>\n",
       "      <td>3.09</td>\n",
       "    </tr>\n",
       "    <tr>\n",
       "      <th>80</th>\n",
       "      <td>80</td>\n",
       "      <td>Corporate</td>\n",
       "      <td>12</td>\n",
       "      <td>8</td>\n",
       "      <td>5</td>\n",
       "      <td>1</td>\n",
       "      <td>Hiring Data Scientists &amp; Data Engineers?\\r\\r\\r...</td>\n",
       "      <td>Do You Follow These 5 Best Practices For Recru...</td>\n",
       "      <td>http://r.newsletters.analyticsvidhya.com/7x08k...</td>\n",
       "      <td>4</td>\n",
       "      <td>1</td>\n",
       "      <td>(3.0, 10.0]</td>\n",
       "      <td>(7.0, 26.0]</td>\n",
       "      <td>(0.999, 2.0]</td>\n",
       "      <td>(9.0, 28.0]</td>\n",
       "      <td>4</td>\n",
       "      <td>2.91</td>\n",
       "    </tr>\n",
       "  </tbody>\n",
       "</table>\n",
       "</div>"
      ],
      "text/plain": [
       "             campaign_id communication_type  total_links  \\\n",
       "campaign_id                                                \n",
       "29                    29         Newsletter           67   \n",
       "30                    30    Upcoming Events           18   \n",
       "31                    31         Conference           15   \n",
       "32                    32         Conference           24   \n",
       "33                    33             Others            7   \n",
       "34                    34         Newsletter           75   \n",
       "35                    35             Others            9   \n",
       "36                    36         Conference           13   \n",
       "37                    37         Conference            9   \n",
       "38                    38         Conference           28   \n",
       "39                    39            Webinar            9   \n",
       "40                    40         Conference           10   \n",
       "41                    41          Corporate           14   \n",
       "42                    42         Newsletter           88   \n",
       "43                    43          Corporate           11   \n",
       "44                    44    Upcoming Events           60   \n",
       "45                    45          Hackathon            7   \n",
       "46                    46          Hackathon            7   \n",
       "47                    47          Hackathon            8   \n",
       "48                    48         Newsletter          203   \n",
       "49                    49         Conference          119   \n",
       "50                    50    Upcoming Events          109   \n",
       "51                    51          Hackathon            8   \n",
       "52                    52         Newsletter           67   \n",
       "53                    53         Conference          104   \n",
       "54                    54         Newsletter           63   \n",
       "55                    55          Corporate           11   \n",
       "56                    56         Newsletter           42   \n",
       "57                    57    Upcoming Events           40   \n",
       "58                    58          Hackathon            6   \n",
       "59                    59          Corporate            8   \n",
       "60                    60          Corporate           11   \n",
       "61                    61          Corporate            8   \n",
       "62                    62          Hackathon            7   \n",
       "63                    63         Newsletter           68   \n",
       "64                    64    Upcoming Events           49   \n",
       "65                    65          Hackathon            7   \n",
       "66                    66          Corporate           16   \n",
       "67                    67          Hackathon            7   \n",
       "68                    68          Hackathon            7   \n",
       "69                    69          Hackathon           12   \n",
       "70                    70          Corporate           16   \n",
       "71                    71          Hackathon            8   \n",
       "72                    72          Corporate           22   \n",
       "73                    73          Corporate           18   \n",
       "74                    74         Newsletter          140   \n",
       "75                    75    Upcoming Events           39   \n",
       "76                    76    Upcoming Events           35   \n",
       "77                    77          Corporate           24   \n",
       "78                    78          Hackathon            6   \n",
       "79                    79          Hackathon            6   \n",
       "80                    80          Corporate           12   \n",
       "\n",
       "             no_of_internal_links  no_of_images  no_of_sections  \\\n",
       "campaign_id                                                       \n",
       "29                             61            12               3   \n",
       "30                             14             7               1   \n",
       "31                             13             5               1   \n",
       "32                             19             7               1   \n",
       "33                              3             1               1   \n",
       "34                             64            12               4   \n",
       "35                              2             1               1   \n",
       "36                             11             2               1   \n",
       "37                              7             3               1   \n",
       "38                             26            12               3   \n",
       "39                              4             2               1   \n",
       "40                              8             2               1   \n",
       "41                             10             2               1   \n",
       "42                             79            13               4   \n",
       "43                              7             3               1   \n",
       "44                             56            19               6   \n",
       "45                              3             2               1   \n",
       "46                              3             2               1   \n",
       "47                              4             2               1   \n",
       "48                            191            12               4   \n",
       "49                            117            16               1   \n",
       "50                            105            17               6   \n",
       "51                              4             2               1   \n",
       "52                             62            10               4   \n",
       "53                            100            13               1   \n",
       "54                             58             8               4   \n",
       "55                              7             5               1   \n",
       "56                             38            10               4   \n",
       "57                             36            15               4   \n",
       "58                              2             2               1   \n",
       "59                              4             5               1   \n",
       "60                              7             3               3   \n",
       "61                              4             9               1   \n",
       "62                              3             2               1   \n",
       "63                             64            15               5   \n",
       "64                             45            14               4   \n",
       "65                              3             1               1   \n",
       "66                             12            13               1   \n",
       "67                              3             1               1   \n",
       "68                              3             1               1   \n",
       "69                              8             4               2   \n",
       "70                             12            13               1   \n",
       "71                              4             4               2   \n",
       "72                             15             5               1   \n",
       "73                             11             5               1   \n",
       "74                            130            15               4   \n",
       "75                             35            15               6   \n",
       "76                             31            15               6   \n",
       "77                             16             5               1   \n",
       "78                              2             1               1   \n",
       "79                              2             1               1   \n",
       "80                              8             5               1   \n",
       "\n",
       "                                                    email_body  \\\n",
       "campaign_id                                                      \n",
       "29           Dear AVians,\\r\\r\\r\\n \\r\\r\\r\\nWe are shaping up...   \n",
       "30           Dear AVians,\\r\\r\\r\\n \\r\\r\\r\\nAre your eager to...   \n",
       "31           Early Bird Pricing Till August 07  Save upto ...   \n",
       "32           \\r\\r\\r\\n \\r\\r\\r\\nHi ?\\r\\r\\r\\n \\r\\r\\r\\nBefore I...   \n",
       "33           Fireside Chat with DJ Patil - the master is he...   \n",
       "34           \\r\\r\\r\\nAugust Newsletter\\r\\r\\r\\n \\r\\r\\r\\nDear...   \n",
       "35           Fireside Chat with DJ Patil - Watch Live!\\r\\r\\...   \n",
       "36           Announcing Dr. Kirk Borne as Keynote Speaker\\r...   \n",
       "37           Last day to save maximum on tickets\\r\\r\\r\\n \\r...   \n",
       "38           Early Bird Pricing expires on August 07\\r\\r\\r\\...   \n",
       "39           Analytics Vidhya & UpX Academy presents \\r\\r\\r...   \n",
       "40           Machine learning algorithms are considered bla...   \n",
       "41           Step into the Future of Artificial Intelligenc...   \n",
       "42           September Newsletter\\r\\r\\r\\n \\r\\r\\r\\nDear AVia...   \n",
       "43           \\r\\r\\r\\nHosted Your Corporate Hackathon Yet?\\r...   \n",
       "44           [September Events]\\r\\r\\r\\n \\r\\r\\r\\nDear AVians...   \n",
       "45           Click Prediction\\r\\r\\r\\nData Science Hackathon...   \n",
       "46           Click Prediction\\r\\r\\r\\nData Science Hackathon...   \n",
       "47           \\r\\r\\r\\nCodeFest by IIT BHU\\r\\r\\r\\n[Coding Fes...   \n",
       "48           \\r\\r\\r\\nOctober Newsletter\\r\\r\\r\\n \\r\\r\\r\\nDea...   \n",
       "49           Dear Patron,\\r\\r\\r\\n \\r\\r\\r\\nAnalytics Vidhya ...   \n",
       "50           [October Hackathons, Meetups, Events, Webinars...   \n",
       "51           Upcoming Hackathons\\r\\r\\r\\n[Machine Learning] ...   \n",
       "52           November Newsletter\\r\\r\\r\\n \\r\\r\\r\\nDear AVian...   \n",
       "53           3 DAYS | 30 TALKS | 10 HACK SESSIONS | 6 WORKS...   \n",
       "54           December Newsletter\\r\\r\\r\\n \\r\\r\\r\\nDear AVian...   \n",
       "55           Do you know? You can identify and hire the bes...   \n",
       "56           \\r\\r\\r\\nJanuary 2018 Newsletter\\r\\r\\r\\n \\r\\r\\r...   \n",
       "57           [January - Hiring Hackathons, LearnUps, Contes...   \n",
       "58           Analytics Vidhya Hiring Hackathon\\r\\r\\r\\n \\r\\r...   \n",
       "59           Do you know? You can identify and hire the bes...   \n",
       "60           Get Over 100,000 Data Scientists To Solve Your...   \n",
       "61           Searching For Top Data Scientists To Join Your...   \n",
       "62           \\r\\r\\r\\nFelicity'18 - Kings Of Machine Learnin...   \n",
       "63           \\r\\r\\r\\nFebruary 2018 Newsletter\\r\\r\\r\\n \\r\\r\\...   \n",
       "64           [February - Hiring Hackathons, LearnUps, Conte...   \n",
       "65           IEOR @ IITB & McKinsey Knowledge Centre India ...   \n",
       "66           Not Able To Train Your Data Science Team On Ar...   \n",
       "67           Anheuser Busch InBev: Data Engineering Talent ...   \n",
       "68           Dear Hacker,\\r\\r\\r\\n\\r\\r\\r\\nAnheuser Busch InB...   \n",
       "69           Dear Hackers,\\r\\r\\r\\n\\r\\r\\r\\nHere is a great n...   \n",
       "70           \\r\\r\\r\\nNot Able To Train Your Data Science Te...   \n",
       "71           Dear Hackers,\\r\\r\\r\\n \\r\\r\\r\\nGreat News for y...   \n",
       "72           \\r\\r\\r\\nAVBytes: Top Stories On Analytics Vidh...   \n",
       "73           AVBytes: Top Stories On Analytics Vidhya This ...   \n",
       "74           March 2018 Newsletter\\r\\r\\r\\n \\r\\r\\r\\nDear Avi...   \n",
       "75           [March 2018 - Hackathons, Competitions, Cash p...   \n",
       "76           [March 2018 - Hackathons, Competitions, Cash p...   \n",
       "77           Hiring Data Scientists & Data Engineers?\\r\\r\\r...   \n",
       "78           McKinsey Analytics Online Hackathon\\r\\r\\r\\nRec...   \n",
       "79           McKinsey Analytics Online Hackathon\\r\\r\\r\\nRec...   \n",
       "80           Hiring Data Scientists & Data Engineers?\\r\\r\\r...   \n",
       "\n",
       "                                                       subject  \\\n",
       "campaign_id                                                      \n",
       "29           Sneak Peek: A look at the emerging data scienc...   \n",
       "30           [July] Data Science Expert Meetups & Competiti...   \n",
       "31           Last chance to convince your boss before the E...   \n",
       "32           A.I. & Machine Learning: 5 reasons why you sho...   \n",
       "33           [Delhi NCR] Fireside Chat with DJ Patil, Forme...   \n",
       "34           [AV Newsletter] Fireside Chat with DJ Patil, D...   \n",
       "35                     Watch Live: Fireside Chat with DJ Patil   \n",
       "36           Dr Kirk Borne of Booz Allen Hamilton, to keyno...   \n",
       "37           [Last Day] Early Bird Offer on conference pass...   \n",
       "38           Early Bird offer expires in 2 Days. Save your ...   \n",
       "39           [New Webinar] Can non programmers join Big Dat...   \n",
       "40           Visualizing Machine Learning with Anand S, CEO...   \n",
       "41           Participate at DataHack Summit 2017 - India's ...   \n",
       "42           [September] Exciting days ahead with DataHack ...   \n",
       "43           Innovate and grow your business through Data H...   \n",
       "44           [September] Data Science Hackathons, Meetups a...   \n",
       "45           Click Prediction | Data Science Hackathon | Wi...   \n",
       "46           [Starts Tonight] Click Prediction Hackathon | ...   \n",
       "47           [New Hackathon] CodeFest by IIT BHU | Win Priz...   \n",
       "48           [October 2017] - Just a month to go! DataHack ...   \n",
       "49           Register @ DataHack Summit 2017 - India's Larg...   \n",
       "50           [October] Data Science Hackathons, Meetups and...   \n",
       "51           [Data Science Hackathons] Cross -Sell & Churn ...   \n",
       "52           [Newsletter] Stage for DataHack Summit 2017 is...   \n",
       "53           [Register Now] Just 2 days to go for India's b...   \n",
       "54           [November Updates] - Announcing DataFest 2018,...   \n",
       "55              Hire Top Data Scientists In Less Than 24 Hours   \n",
       "56           [January] Year 2018 - Bigger & Exciting challe...   \n",
       "57           [January 2018] Upcoming Hiring Hackathons, Lea...   \n",
       "58           [13 January] Get Hired with Analytics Vidhya H...   \n",
       "59              Hire Top Talent From 1,00,000+ Data Scientists   \n",
       "60           Get 1000+ Data-Driven Solutions For Your Busin...   \n",
       "61           Recruit Top Data Science Professionals (Chief ...   \n",
       "62           [24 Jan] IIIT Hyderabad - Felicity'18 Machine ...   \n",
       "63           AVbytes, Ultimate 2018 learning path and aweso...   \n",
       "64           [February 2018] Upcoming Hiring Hackathons, Da...   \n",
       "65           [New Hackathon] The Young Optimization Cracker...   \n",
       "66                  4 Top Data Science Trainings For Your Team   \n",
       "67           [New Hackathon] ABInBev : Data Engineering Tal...   \n",
       "68           [Hiring Hackathon] ABInBev : Data Engineering ...   \n",
       "69           [Open To All] The Young Optimization Crackerja...   \n",
       "70           Give Your Team The Edge In Machine Learning Wi...   \n",
       "71           [Hiring Hackathon] ABInBev is hiring Data Scie...   \n",
       "72           Missing out on the latest happenings in AI? Ch...   \n",
       "73           Missing out on the latest happenings in AI? Ch...   \n",
       "74           [March Newsletter] AV Android App, DataHack Pr...   \n",
       "75           [March 2018] It's Back: McKinsey Analytics Onl...   \n",
       "76           [March 2018] It's Back: McKinsey Analytics Onl...   \n",
       "77           Recruiting Data Scientists? Follow These 5 Bes...   \n",
       "78           24 Hours To Go For McKinsey 24-hour Hackathon ...   \n",
       "79           12 Hours To Go For McKinsey 24-hour Hackathon ...   \n",
       "80           Do You Follow These 5 Best Practices For Recru...   \n",
       "\n",
       "                                                     email_url  campaign_wts  \\\n",
       "campaign_id                                                                    \n",
       "29           http://r.newsletters.analyticsvidhya.com/7um44...             6   \n",
       "30           http://r.newsletters.analyticsvidhya.com/7up0e...             5   \n",
       "31           http://r.newsletters.analyticsvidhya.com/7usym...             2   \n",
       "32           http://r.newsletters.analyticsvidhya.com/7uthl...             5   \n",
       "33           http://r.newsletters.analyticsvidhya.com/7uvlg...             4   \n",
       "34           http://r.newsletters.analyticsvidhya.com/7uwwu...             5   \n",
       "35           http://r.newsletters.analyticsvidhya.com/7ux6c...             2   \n",
       "36           http://r.newsletters.analyticsvidhya.com/7uxpa...             3   \n",
       "37           http://r.newsletters.analyticsvidhya.com/7uyr8...             1   \n",
       "38           http://r.newsletters.analyticsvidhya.com/7uz0p...             1   \n",
       "39           http://r.newsletters.analyticsvidhya.com/7uza6...             2   \n",
       "40           http://r.newsletters.analyticsvidhya.com/7v1x0...             1   \n",
       "41           http://r.newsletters.analyticsvidhya.com/7v3hw...             1   \n",
       "42           http://r.newsletters.analyticsvidhya.com/7v3rd...             6   \n",
       "43           http://r.newsletters.analyticsvidhya.com/7v4ta...             1   \n",
       "44           http://r.newsletters.analyticsvidhya.com/7veam...             4   \n",
       "45           http://r.newsletters.analyticsvidhya.com/7vgeh...             3   \n",
       "46           http://r.newsletters.analyticsvidhya.com/7vj1a...             3   \n",
       "47           http://r.newsletters.analyticsvidhya.com/7vkvo...             3   \n",
       "48           http://r.newsletters.analyticsvidhya.com/7vlxl...             4   \n",
       "49           http://r.newsletters.analyticsvidhya.com/o7ohw...             6   \n",
       "50           http://r.newsletters.analyticsvidhya.com/7voke...             4   \n",
       "51           http://r.newsletters.analyticsvidhya.com/7vs95...             2   \n",
       "52           http://r.newsletters.analyticsvidhya.com/7vtb2...             6   \n",
       "53           http://r.newsletters.analyticsvidhya.com/7vv5g...             5   \n",
       "54           http://r.newsletters.analyticsvidhya.com/7vzmm...             6   \n",
       "55           http://r.newsletters.analyticsvidhya.com/7w2se...             4   \n",
       "56           http://r.newsletters.analyticsvidhya.com/7w3uc...             6   \n",
       "57           http://r.newsletters.analyticsvidhya.com/7w43t...             4   \n",
       "58           http://r.newsletters.analyticsvidhya.com/7w5y6...             3   \n",
       "59           http://r.newsletters.analyticsvidhya.com/7w6qm...             4   \n",
       "60           http://r.newsletters.analyticsvidhya.com/7w704...             3   \n",
       "61           http://r.newsletters.analyticsvidhya.com/7wghg...             3   \n",
       "62           http://r.newsletters.analyticsvidhya.com/7wh9w...             3   \n",
       "63           http://r.newsletters.analyticsvidhya.com/7whsu...             6   \n",
       "64           http://r.newsletters.analyticsvidhya.com/7wjn8...             4   \n",
       "65           http://r.newsletters.analyticsvidhya.com/7wjwp...             3   \n",
       "66           http://r.newsletters.analyticsvidhya.com/7wkfo...             2   \n",
       "67           http://r.newsletters.analyticsvidhya.com/7wnby...             3   \n",
       "68           http://r.newsletters.analyticsvidhya.com/7wo4e...             3   \n",
       "69           http://r.newsletters.analyticsvidhya.com/7wowu...             3   \n",
       "70           http://r.newsletters.analyticsvidhya.com/7wppa...             2   \n",
       "71           http://r.newsletters.analyticsvidhya.com/7wqhq...             3   \n",
       "72           http://r.newsletters.analyticsvidhya.com/7wra6...             1   \n",
       "73           http://r.newsletters.analyticsvidhya.com/7wrjo...             1   \n",
       "74           http://r.newsletters.analyticsvidhya.com/7ww0u...             6   \n",
       "75           http://r.newsletters.analyticsvidhya.com/7wx2s...             6   \n",
       "76           http://r.newsletters.analyticsvidhya.com/7wxlq...             6   \n",
       "77           http://r.newsletters.analyticsvidhya.com/7wxv8...             4   \n",
       "78           http://r.newsletters.analyticsvidhya.com/7wz6m...             3   \n",
       "79           http://r.newsletters.analyticsvidhya.com/7wzpl...             3   \n",
       "80           http://r.newsletters.analyticsvidhya.com/7x08k...             4   \n",
       "\n",
       "             campaign_wts1        images internal_links      sections  \\\n",
       "campaign_id                                                             \n",
       "29                       6  (10.0, 19.0]  (26.0, 191.0]    (2.0, 6.0]   \n",
       "30                       5   (3.0, 10.0]    (7.0, 26.0]  (0.999, 2.0]   \n",
       "31                       2   (3.0, 10.0]    (7.0, 26.0]  (0.999, 2.0]   \n",
       "32                       5   (3.0, 10.0]    (7.0, 26.0]  (0.999, 2.0]   \n",
       "33                       4  (0.999, 3.0]   (1.999, 7.0]  (0.999, 2.0]   \n",
       "34                       5  (10.0, 19.0]  (26.0, 191.0]    (2.0, 6.0]   \n",
       "35                       2  (0.999, 3.0]   (1.999, 7.0]  (0.999, 2.0]   \n",
       "36                       3  (0.999, 3.0]    (7.0, 26.0]  (0.999, 2.0]   \n",
       "37                       1  (0.999, 3.0]   (1.999, 7.0]  (0.999, 2.0]   \n",
       "38                       1  (10.0, 19.0]    (7.0, 26.0]    (2.0, 6.0]   \n",
       "39                       2  (0.999, 3.0]   (1.999, 7.0]  (0.999, 2.0]   \n",
       "40                       1  (0.999, 3.0]    (7.0, 26.0]  (0.999, 2.0]   \n",
       "41                       1  (0.999, 3.0]    (7.0, 26.0]  (0.999, 2.0]   \n",
       "42                       6  (10.0, 19.0]  (26.0, 191.0]    (2.0, 6.0]   \n",
       "43                       1  (0.999, 3.0]   (1.999, 7.0]  (0.999, 2.0]   \n",
       "44                       4  (10.0, 19.0]  (26.0, 191.0]    (2.0, 6.0]   \n",
       "45                       3  (0.999, 3.0]   (1.999, 7.0]  (0.999, 2.0]   \n",
       "46                       3  (0.999, 3.0]   (1.999, 7.0]  (0.999, 2.0]   \n",
       "47                       3  (0.999, 3.0]   (1.999, 7.0]  (0.999, 2.0]   \n",
       "48                       4  (10.0, 19.0]  (26.0, 191.0]    (2.0, 6.0]   \n",
       "49                       6  (10.0, 19.0]  (26.0, 191.0]  (0.999, 2.0]   \n",
       "50                       4  (10.0, 19.0]  (26.0, 191.0]    (2.0, 6.0]   \n",
       "51                       2  (0.999, 3.0]   (1.999, 7.0]  (0.999, 2.0]   \n",
       "52                       6   (3.0, 10.0]  (26.0, 191.0]    (2.0, 6.0]   \n",
       "53                       5  (10.0, 19.0]  (26.0, 191.0]  (0.999, 2.0]   \n",
       "54                       6   (3.0, 10.0]  (26.0, 191.0]    (2.0, 6.0]   \n",
       "55                       1   (3.0, 10.0]   (1.999, 7.0]  (0.999, 2.0]   \n",
       "56                       6   (3.0, 10.0]  (26.0, 191.0]    (2.0, 6.0]   \n",
       "57                       4  (10.0, 19.0]  (26.0, 191.0]    (2.0, 6.0]   \n",
       "58                       3  (0.999, 3.0]   (1.999, 7.0]  (0.999, 2.0]   \n",
       "59                       1   (3.0, 10.0]   (1.999, 7.0]  (0.999, 2.0]   \n",
       "60                       1  (0.999, 3.0]   (1.999, 7.0]    (2.0, 6.0]   \n",
       "61                       1   (3.0, 10.0]   (1.999, 7.0]  (0.999, 2.0]   \n",
       "62                       3  (0.999, 3.0]   (1.999, 7.0]  (0.999, 2.0]   \n",
       "63                       6  (10.0, 19.0]  (26.0, 191.0]    (2.0, 6.0]   \n",
       "64                       4  (10.0, 19.0]  (26.0, 191.0]    (2.0, 6.0]   \n",
       "65                       3  (0.999, 3.0]   (1.999, 7.0]  (0.999, 2.0]   \n",
       "66                       6  (10.0, 19.0]    (7.0, 26.0]  (0.999, 2.0]   \n",
       "67                       3  (0.999, 3.0]   (1.999, 7.0]  (0.999, 2.0]   \n",
       "68                       3  (0.999, 3.0]   (1.999, 7.0]  (0.999, 2.0]   \n",
       "69                       3   (3.0, 10.0]    (7.0, 26.0]  (0.999, 2.0]   \n",
       "70                       6  (10.0, 19.0]    (7.0, 26.0]  (0.999, 2.0]   \n",
       "71                       3   (3.0, 10.0]   (1.999, 7.0]  (0.999, 2.0]   \n",
       "72                       2   (3.0, 10.0]    (7.0, 26.0]  (0.999, 2.0]   \n",
       "73                       2   (3.0, 10.0]    (7.0, 26.0]  (0.999, 2.0]   \n",
       "74                       6  (10.0, 19.0]  (26.0, 191.0]    (2.0, 6.0]   \n",
       "75                       4  (10.0, 19.0]  (26.0, 191.0]    (2.0, 6.0]   \n",
       "76                       4  (10.0, 19.0]  (26.0, 191.0]    (2.0, 6.0]   \n",
       "77                       1   (3.0, 10.0]    (7.0, 26.0]  (0.999, 2.0]   \n",
       "78                       1  (0.999, 3.0]   (1.999, 7.0]  (0.999, 2.0]   \n",
       "79                       1  (0.999, 3.0]   (1.999, 7.0]  (0.999, 2.0]   \n",
       "80                       1   (3.0, 10.0]    (7.0, 26.0]  (0.999, 2.0]   \n",
       "\n",
       "                     links  external_links  campaign_weight  \n",
       "campaign_id                                                  \n",
       "29           (28.0, 203.0]               6             5.40  \n",
       "30             (9.0, 28.0]               4             4.61  \n",
       "31             (9.0, 28.0]               2             1.91  \n",
       "32             (9.0, 28.0]               5             4.61  \n",
       "33            (5.999, 9.0]               4             3.31  \n",
       "34           (28.0, 203.0]              11             4.98  \n",
       "35            (5.999, 9.0]               7             2.20  \n",
       "36             (9.0, 28.0]               2             2.41  \n",
       "37            (5.999, 9.0]               2             1.41  \n",
       "38             (9.0, 28.0]               2             2.86  \n",
       "39            (5.999, 9.0]               5             2.07  \n",
       "40             (9.0, 28.0]               2             1.41  \n",
       "41             (9.0, 28.0]               4             1.41  \n",
       "42           (28.0, 203.0]               9             5.48  \n",
       "43             (9.0, 28.0]               4             1.41  \n",
       "44           (28.0, 203.0]               4             3.68  \n",
       "45            (5.999, 9.0]               4             2.68  \n",
       "46            (5.999, 9.0]               4             2.68  \n",
       "47            (5.999, 9.0]               4             2.68  \n",
       "48           (28.0, 203.0]              12             3.86  \n",
       "49           (28.0, 203.0]               2             5.25  \n",
       "50           (28.0, 203.0]               4             4.25  \n",
       "51            (5.999, 9.0]               4             2.18  \n",
       "52           (28.0, 203.0]               5             5.44  \n",
       "53           (28.0, 203.0]               4             4.75  \n",
       "54           (28.0, 203.0]               5             5.33  \n",
       "55             (9.0, 28.0]               4             2.91  \n",
       "56           (28.0, 203.0]               4             5.33  \n",
       "57           (28.0, 203.0]               4             4.36  \n",
       "58            (5.999, 9.0]               4             2.96  \n",
       "59            (5.999, 9.0]               4             3.18  \n",
       "60             (9.0, 28.0]               4             2.64  \n",
       "61            (5.999, 9.0]               4             3.11  \n",
       "62            (5.999, 9.0]               4             2.68  \n",
       "63           (28.0, 203.0]               4             5.48  \n",
       "64           (28.0, 203.0]               4             4.36  \n",
       "65            (5.999, 9.0]               4             2.81  \n",
       "66             (9.0, 28.0]               4             2.37  \n",
       "67            (5.999, 9.0]               4             2.81  \n",
       "68            (5.999, 9.0]               4             2.81  \n",
       "69             (9.0, 28.0]               4             2.41  \n",
       "70             (9.0, 28.0]               4             2.37  \n",
       "71            (5.999, 9.0]               4             2.68  \n",
       "72             (9.0, 28.0]               7             2.18  \n",
       "73             (9.0, 28.0]               7             1.80  \n",
       "74           (28.0, 203.0]              10             5.48  \n",
       "75           (28.0, 203.0]               4             5.36  \n",
       "76           (28.0, 203.0]               4             5.36  \n",
       "77             (9.0, 28.0]               8             3.68  \n",
       "78            (5.999, 9.0]               4             3.09  \n",
       "79            (5.999, 9.0]               4             3.09  \n",
       "80             (9.0, 28.0]               4             2.91  "
      ]
     },
     "execution_count": 949,
     "metadata": {},
     "output_type": "execute_result"
    }
   ],
   "source": [
    "camp # campaign_wts/1 are calculated after 1st iteration using email texts, first the priority order was chosen by click freq\n",
    "# 6-5-4-3-2-1...high to low order and then these weights are assigned to test campaign ids by using emails subs/texts\n",
    "#After 2nd iteration as shown above the campaign_weight column was added..which depicts the final weights assigned to each campaign "
   ]
  },
  {
   "cell_type": "code",
   "execution_count": 42,
   "metadata": {
    "collapsed": false
   },
   "outputs": [
    {
     "name": "stderr",
     "output_type": "stream",
     "text": [
      "F:\\Anaconda\\lib\\site-packages\\ipykernel\\__main__.py:2: FutureWarning: using a dict on a Series for aggregation\n",
      "is deprecated and will be removed in a future version\n",
      "  from ipykernel import kernelapp as app\n"
     ]
    }
   ],
   "source": [
    "C_oid=order(data,'is_open',1,'campaign_id')"
   ]
  },
  {
   "cell_type": "code",
   "execution_count": 78,
   "metadata": {
    "collapsed": false
   },
   "outputs": [
    {
     "name": "stderr",
     "output_type": "stream",
     "text": [
      "F:\\Anaconda\\lib\\site-packages\\ipykernel\\__main__.py:2: FutureWarning: using a dict on a Series for aggregation\n",
      "is deprecated and will be removed in a future version\n",
      "  from ipykernel import kernelapp as app\n"
     ]
    }
   ],
   "source": [
    "U_oid=order(data,'is_open',1,'user_id')"
   ]
  },
  {
   "cell_type": "code",
   "execution_count": null,
   "metadata": {
    "collapsed": false
   },
   "outputs": [],
   "source": [
    "U_oid.head()"
   ]
  },
  {
   "cell_type": "code",
   "execution_count": 79,
   "metadata": {
    "collapsed": true
   },
   "outputs": [],
   "source": [
    "U_oid=priority(U_oid,n=0)"
   ]
  },
  {
   "cell_type": "code",
   "execution_count": 82,
   "metadata": {
    "collapsed": false
   },
   "outputs": [
    {
     "data": {
      "text/plain": [
       "4"
      ]
     },
     "execution_count": 82,
     "metadata": {},
     "output_type": "execute_result"
    }
   ],
   "source": [
    "2+2"
   ]
  },
  {
   "cell_type": "code",
   "execution_count": 81,
   "metadata": {
    "collapsed": true
   },
   "outputs": [],
   "source": [
    "test['U_oid_wts']=0"
   ]
  },
  {
   "cell_type": "code",
   "execution_count": 83,
   "metadata": {
    "collapsed": false
   },
   "outputs": [],
   "source": [
    "for key,val in U_oid.items():\n",
    "    for i in val:\n",
    "        test.loc[test['user_id']==i,'U_oid_wts']=key"
   ]
  },
  {
   "cell_type": "code",
   "execution_count": null,
   "metadata": {
    "collapsed": false
   },
   "outputs": [],
   "source": [
    "data.to_csv('output.csv')"
   ]
  },
  {
   "cell_type": "code",
   "execution_count": null,
   "metadata": {
    "collapsed": false
   },
   "outputs": [],
   "source": [
    "data.head()"
   ]
  },
  {
   "cell_type": "code",
   "execution_count": 46,
   "metadata": {
    "collapsed": false
   },
   "outputs": [
    {
     "name": "stderr",
     "output_type": "stream",
     "text": [
      "F:\\Anaconda\\lib\\site-packages\\ipykernel\\__main__.py:2: FutureWarning: using a dict on a Series for aggregation\n",
      "is deprecated and will be removed in a future version\n",
      "  from ipykernel import kernelapp as app\n"
     ]
    }
   ],
   "source": [
    "U_cid=order(data,'is_click',1,'user_id')"
   ]
  },
  {
   "cell_type": "code",
   "execution_count": 47,
   "metadata": {
    "collapsed": true
   },
   "outputs": [],
   "source": [
    "U_cid=priority(U_cid,0)"
   ]
  },
  {
   "cell_type": "code",
   "execution_count": 48,
   "metadata": {
    "collapsed": true
   },
   "outputs": [],
   "source": [
    "data['U_cid_wts']=0"
   ]
  },
  {
   "cell_type": "code",
   "execution_count": 49,
   "metadata": {
    "collapsed": false
   },
   "outputs": [],
   "source": [
    "for key,val in U_cid.items():\n",
    "    for i in val:\n",
    "        data.loc[data['user_id']==i,'U_cid_wts']=key"
   ]
  },
  {
   "cell_type": "code",
   "execution_count": null,
   "metadata": {
    "collapsed": false
   },
   "outputs": [],
   "source": [
    "writer = pd.ExcelWriter('output1.xlsx') #Applying shortcut to change same column names\n",
    "data.to_excel(writer,'Sheet1')\n",
    "writer.save()\n"
   ]
  },
  {
   "cell_type": "code",
   "execution_count": 53,
   "metadata": {
    "collapsed": true
   },
   "outputs": [],
   "source": [
    "test['U_cid_wts']=0"
   ]
  },
  {
   "cell_type": "code",
   "execution_count": 92,
   "metadata": {
    "collapsed": true
   },
   "outputs": [],
   "source": [
    "data1=pd.read_csv('output.csv')"
   ]
  },
  {
   "cell_type": "code",
   "execution_count": 97,
   "metadata": {
    "collapsed": false
   },
   "outputs": [],
   "source": [
    "data.to_csv('datafinal.csv')"
   ]
  },
  {
   "cell_type": "code",
   "execution_count": 99,
   "metadata": {
    "collapsed": false
   },
   "outputs": [],
   "source": [
    "uniid=test['user_id'].unique()"
   ]
  },
  {
   "cell_type": "code",
   "execution_count": 100,
   "metadata": {
    "collapsed": false
   },
   "outputs": [
    {
     "name": "stdout",
     "output_type": "stream",
     "text": [
      "122715\n"
     ]
    }
   ],
   "source": [
    "for i in uniid:\n",
    "    print(i)\n",
    "    break"
   ]
  },
  {
   "cell_type": "code",
   "execution_count": 109,
   "metadata": {
    "collapsed": false
   },
   "outputs": [
    {
     "data": {
      "text/plain": [
       "198219"
      ]
     },
     "execution_count": 109,
     "metadata": {},
     "output_type": "execute_result"
    }
   ],
   "source": [
    "len(uniid)"
   ]
  },
  {
   "cell_type": "code",
   "execution_count": 102,
   "metadata": {
    "collapsed": true
   },
   "outputs": [],
   "source": [
    "d_uniid=data['user_id'].unique()"
   ]
  },
  {
   "cell_type": "code",
   "execution_count": 110,
   "metadata": {
    "collapsed": false
   },
   "outputs": [
    {
     "data": {
      "text/plain": [
       "168236"
      ]
     },
     "execution_count": 110,
     "metadata": {},
     "output_type": "execute_result"
    }
   ],
   "source": [
    "len(d_uniid)"
   ]
  },
  {
   "cell_type": "code",
   "execution_count": 105,
   "metadata": {
    "collapsed": true
   },
   "outputs": [],
   "source": [
    "nanid=[]\n",
    "for i in uniid:\n",
    "    if i not in d_uniid:\n",
    "        nanid.append(i)\n",
    "        "
   ]
  },
  {
   "cell_type": "code",
   "execution_count": 116,
   "metadata": {
    "collapsed": false
   },
   "outputs": [],
   "source": [
    "for i in nanid:\n",
    "    test.loc[test['user_id']==i,'U_oid_wts']=np.nan\n",
    "    "
   ]
  },
  {
   "cell_type": "code",
   "execution_count": 119,
   "metadata": {
    "collapsed": false
   },
   "outputs": [],
   "source": [
    "for i in nanid:\n",
    "    test.loc[test['user_id']==i,'U_cid_wts']=np.nan\n",
    "    "
   ]
  },
  {
   "cell_type": "code",
   "execution_count": 120,
   "metadata": {
    "collapsed": true
   },
   "outputs": [],
   "source": [
    "test.to_csv('targetfinal.csv')"
   ]
  },
  {
   "cell_type": "code",
   "execution_count": null,
   "metadata": {
    "collapsed": true
   },
   "outputs": [],
   "source": [
    "Dat.loc[Dat['Corporate']=='Corporate','Corporate']"
   ]
  },
  {
   "cell_type": "code",
   "execution_count": 726,
   "metadata": {
    "collapsed": false
   },
   "outputs": [],
   "source": [
    "Dat=Data[Data['is_click']==1]"
   ]
  },
  {
   "cell_type": "code",
   "execution_count": 739,
   "metadata": {
    "collapsed": false
   },
   "outputs": [
    {
     "data": {
      "text/plain": [
       "12782"
      ]
     },
     "execution_count": 739,
     "metadata": {},
     "output_type": "execute_result"
    }
   ],
   "source": [
    "len(Dat)"
   ]
  },
  {
   "cell_type": "code",
   "execution_count": 831,
   "metadata": {
    "collapsed": false
   },
   "outputs": [],
   "source": [
    "Test=pd.read_csv('test.csv')"
   ]
  },
  {
   "cell_type": "code",
   "execution_count": 833,
   "metadata": {
    "collapsed": false
   },
   "outputs": [
    {
     "data": {
      "text/plain": [
       "773858"
      ]
     },
     "execution_count": 833,
     "metadata": {},
     "output_type": "execute_result"
    }
   ],
   "source": [
    "len(Test)"
   ]
  },
  {
   "cell_type": "code",
   "execution_count": 834,
   "metadata": {
    "collapsed": true
   },
   "outputs": [],
   "source": [
    "Train=pd.read_csv('train.csv')"
   ]
  },
  {
   "cell_type": "code",
   "execution_count": 837,
   "metadata": {
    "collapsed": false
   },
   "outputs": [
    {
     "data": {
      "text/plain": [
       "1023191"
      ]
     },
     "execution_count": 837,
     "metadata": {},
     "output_type": "execute_result"
    }
   ],
   "source": [
    "len(Train)"
   ]
  },
  {
   "cell_type": "code",
   "execution_count": 1262,
   "metadata": {
    "collapsed": false
   },
   "outputs": [
    {
     "data": {
      "text/plain": [
       "1023191"
      ]
     },
     "execution_count": 1262,
     "metadata": {},
     "output_type": "execute_result"
    }
   ],
   "source": [
    "len(data)"
   ]
  },
  {
   "cell_type": "code",
   "execution_count": 54,
   "metadata": {
    "collapsed": false
   },
   "outputs": [
    {
     "name": "stderr",
     "output_type": "stream",
     "text": [
      "F:\\Anaconda\\lib\\site-packages\\ipykernel\\__main__.py:3: SettingWithCopyWarning: \n",
      "A value is trying to be set on a copy of a slice from a DataFrame\n",
      "\n",
      "See the caveats in the documentation: http://pandas.pydata.org/pandas-docs/stable/indexing.html#indexing-view-versus-copy\n",
      "  app.launch_new_instance()\n"
     ]
    }
   ],
   "source": [
    "for key,val in U_cid.items():\n",
    "    for i in val:\n",
    "        test.U_cid_wts[test['user_id']==i]=key"
   ]
  },
  {
   "cell_type": "code",
   "execution_count": 84,
   "metadata": {
    "collapsed": false
   },
   "outputs": [],
   "source": [
    "test.to_csv('target.csv')"
   ]
  },
  {
   "cell_type": "code",
   "execution_count": null,
   "metadata": {
    "collapsed": true
   },
   "outputs": [],
   "source": [
    "P=['U_cid_wts','cwt','time_of_day','weekend',]"
   ]
  },
  {
   "cell_type": "code",
   "execution_count": null,
   "metadata": {
    "collapsed": false
   },
   "outputs": [],
   "source": [
    "Uid_Cid=order(data,'is_click',1,'id')"
   ]
  },
  {
   "cell_type": "code",
   "execution_count": null,
   "metadata": {
    "collapsed": false
   },
   "outputs": [],
   "source": [
    "len(data[data['is_open']==0])"
   ]
  },
  {
   "cell_type": "code",
   "execution_count": null,
   "metadata": {
    "collapsed": true
   },
   "outputs": [],
   "source": [
    "test=pd.read_csv('test.csv')"
   ]
  },
  {
   "cell_type": "code",
   "execution_count": null,
   "metadata": {
    "collapsed": false
   },
   "outputs": [],
   "source": [
    "camp.isnull().sum()"
   ]
  },
  {
   "cell_type": "code",
   "execution_count": null,
   "metadata": {
    "collapsed": false
   },
   "outputs": [],
   "source": [
    "test.user_id.max()"
   ]
  },
  {
   "cell_type": "code",
   "execution_count": null,
   "metadata": {
    "collapsed": false
   },
   "outputs": [],
   "source": [
    "len(data.user_id.unique())#.value_counts()"
   ]
  },
  {
   "cell_type": "code",
   "execution_count": 57,
   "metadata": {
    "collapsed": true
   },
   "outputs": [],
   "source": [
    "import datetime"
   ]
  },
  {
   "cell_type": "code",
   "execution_count": 901,
   "metadata": {
    "collapsed": false
   },
   "outputs": [],
   "source": [
    "def time(T):\n",
    "    if T.weekday()<5:\n",
    "        day=0\n",
    "    else:\n",
    "        day=1\n",
    "    H=int(T.strftime('%H:%M').split(':')[0])\n",
    "    if H<12 and H>6:\n",
    "        time='early'\n",
    "    elif (H>12 or H==12) and (H<18):\n",
    "        time='afternoon'\n",
    "    elif (H>18 or H==18)and H<22:\n",
    "        time='evening'\n",
    "    else:\n",
    "        time='night'\n",
    "    return day,time\n",
    "    "
   ]
  },
  {
   "cell_type": "code",
   "execution_count": 902,
   "metadata": {
    "collapsed": true
   },
   "outputs": [],
   "source": [
    "dt=[];tym=[]\n",
    "for i in data.send_date:\n",
    "    T=datetime.datetime.strptime(i,\"%d-%m-%Y %H:%M\")\n",
    "    day,tim=time(T)\n",
    "    dt.append(day)\n",
    "    tym.append(tim)"
   ]
  },
  {
   "cell_type": "code",
   "execution_count": 904,
   "metadata": {
    "collapsed": false
   },
   "outputs": [],
   "source": [
    "date=pd.DataFrame({'time_of_day':tym,'weekend':dt}, index=data.index)  "
   ]
  },
  {
   "cell_type": "code",
   "execution_count": 903,
   "metadata": {
    "collapsed": true
   },
   "outputs": [],
   "source": [
    "data.drop(['time_of_day','weekend'],axis=1,inplace=True)"
   ]
  },
  {
   "cell_type": "code",
   "execution_count": 905,
   "metadata": {
    "collapsed": false
   },
   "outputs": [],
   "source": [
    "data=pd.concat([data,date],axis=1)"
   ]
  },
  {
   "cell_type": "code",
   "execution_count": 906,
   "metadata": {
    "collapsed": true
   },
   "outputs": [],
   "source": [
    "Data=data"
   ]
  },
  {
   "cell_type": "code",
   "execution_count": 907,
   "metadata": {
    "collapsed": false
   },
   "outputs": [],
   "source": [
    "Dat=Data[Data['is_click']==1]"
   ]
  },
  {
   "cell_type": "code",
   "execution_count": 908,
   "metadata": {
    "collapsed": false
   },
   "outputs": [
    {
     "data": {
      "text/plain": [
       "12782"
      ]
     },
     "execution_count": 908,
     "metadata": {},
     "output_type": "execute_result"
    }
   ],
   "source": [
    "len(Dat)"
   ]
  },
  {
   "cell_type": "code",
   "execution_count": 909,
   "metadata": {
    "collapsed": false
   },
   "outputs": [],
   "source": [
    "evenopen=len(Dat[Dat['time_of_day']=='evening'])"
   ]
  },
  {
   "cell_type": "code",
   "execution_count": 910,
   "metadata": {
    "collapsed": true
   },
   "outputs": [],
   "source": [
    "eventot=len(Data[Data['time_of_day']=='evening'])"
   ]
  },
  {
   "cell_type": "code",
   "execution_count": 911,
   "metadata": {
    "collapsed": true
   },
   "outputs": [],
   "source": [
    "moropen=len(Dat[Dat['time_of_day']=='early'])"
   ]
  },
  {
   "cell_type": "code",
   "execution_count": 912,
   "metadata": {
    "collapsed": true
   },
   "outputs": [],
   "source": [
    "mortot=len(Data[Data['time_of_day']=='early'])"
   ]
  },
  {
   "cell_type": "code",
   "execution_count": 913,
   "metadata": {
    "collapsed": true
   },
   "outputs": [],
   "source": [
    "nightopen=len(Dat[Dat['time_of_day']=='night'])"
   ]
  },
  {
   "cell_type": "code",
   "execution_count": 914,
   "metadata": {
    "collapsed": true
   },
   "outputs": [],
   "source": [
    "nighttotal=len(Data[Data['time_of_day']=='night'])"
   ]
  },
  {
   "cell_type": "code",
   "execution_count": 915,
   "metadata": {
    "collapsed": true
   },
   "outputs": [],
   "source": [
    "noonopen=len(Dat[Dat['time_of_day']=='afternoon'])"
   ]
  },
  {
   "cell_type": "code",
   "execution_count": 916,
   "metadata": {
    "collapsed": true
   },
   "outputs": [],
   "source": [
    "noontotal=len(Data[Data['time_of_day']=='afternoon'])"
   ]
  },
  {
   "cell_type": "code",
   "execution_count": 917,
   "metadata": {
    "collapsed": false
   },
   "outputs": [
    {
     "data": {
      "text/plain": [
       "0.014"
      ]
     },
     "execution_count": 917,
     "metadata": {},
     "output_type": "execute_result"
    }
   ],
   "source": [
    "round(evenopen/eventot,3)"
   ]
  },
  {
   "cell_type": "code",
   "execution_count": 918,
   "metadata": {
    "collapsed": false
   },
   "outputs": [
    {
     "data": {
      "text/plain": [
       "0.012"
      ]
     },
     "execution_count": 918,
     "metadata": {},
     "output_type": "execute_result"
    }
   ],
   "source": [
    "round(moropen/mortot,3)"
   ]
  },
  {
   "cell_type": "code",
   "execution_count": 919,
   "metadata": {
    "collapsed": false
   },
   "outputs": [
    {
     "data": {
      "text/plain": [
       "0.011"
      ]
     },
     "execution_count": 919,
     "metadata": {},
     "output_type": "execute_result"
    }
   ],
   "source": [
    "round(nightopen/nighttotal,3)"
   ]
  },
  {
   "cell_type": "code",
   "execution_count": 920,
   "metadata": {
    "collapsed": false
   },
   "outputs": [
    {
     "data": {
      "text/plain": [
       "0.012"
      ]
     },
     "execution_count": 920,
     "metadata": {},
     "output_type": "execute_result"
    }
   ],
   "source": [
    "round(noonopen/noontotal,3)"
   ]
  },
  {
   "cell_type": "code",
   "execution_count": 921,
   "metadata": {
    "collapsed": false
   },
   "outputs": [],
   "source": [
    "dt=[];tym=[]\n",
    "for i in test.send_date:\n",
    "    T=datetime.datetime.strptime(i,\"%d-%m-%Y %H:%M\")\n",
    "    day,tim=time(T)\n",
    "    dt.append(day)\n",
    "    tym.append(tim)\n",
    "#t=data.send_date[15544]"
   ]
  },
  {
   "cell_type": "code",
   "execution_count": 923,
   "metadata": {
    "collapsed": false
   },
   "outputs": [],
   "source": [
    "date=pd.DataFrame({'time_of_day':tym,'weekend':dt}, index=test.index)  "
   ]
  },
  {
   "cell_type": "code",
   "execution_count": 924,
   "metadata": {
    "collapsed": true
   },
   "outputs": [],
   "source": [
    "test=pd.concat([test,date],axis=1)"
   ]
  },
  {
   "cell_type": "code",
   "execution_count": 925,
   "metadata": {
    "collapsed": false
   },
   "outputs": [],
   "source": [
    "week=len(Data[Data['weekend']==0])"
   ]
  },
  {
   "cell_type": "code",
   "execution_count": 926,
   "metadata": {
    "collapsed": true
   },
   "outputs": [],
   "source": [
    "weekopen=len(Dat[Dat['weekend']==0])"
   ]
  },
  {
   "cell_type": "code",
   "execution_count": 927,
   "metadata": {
    "collapsed": false
   },
   "outputs": [],
   "source": [
    "wend=len(Data[Data['weekend']==1])"
   ]
  },
  {
   "cell_type": "code",
   "execution_count": 928,
   "metadata": {
    "collapsed": true
   },
   "outputs": [],
   "source": [
    "wendopen=len(Dat[Dat['weekend']==1])"
   ]
  },
  {
   "cell_type": "code",
   "execution_count": 929,
   "metadata": {
    "collapsed": true
   },
   "outputs": [],
   "source": [
    "ratio=(wendopen/wend)/(weekopen/week)"
   ]
  },
  {
   "cell_type": "code",
   "execution_count": 930,
   "metadata": {
    "collapsed": false
   },
   "outputs": [
    {
     "data": {
      "text/plain": [
       "1.42"
      ]
     },
     "execution_count": 930,
     "metadata": {},
     "output_type": "execute_result"
    }
   ],
   "source": [
    "round(ratio,2)"
   ]
  },
  {
   "cell_type": "code",
   "execution_count": 931,
   "metadata": {
    "collapsed": false
   },
   "outputs": [
    {
     "data": {
      "text/plain": [
       "0.012"
      ]
     },
     "execution_count": 931,
     "metadata": {},
     "output_type": "execute_result"
    }
   ],
   "source": [
    "round(weekopen/week,3)"
   ]
  },
  {
   "cell_type": "code",
   "execution_count": 932,
   "metadata": {
    "collapsed": false
   },
   "outputs": [
    {
     "data": {
      "text/plain": [
       "0.017"
      ]
     },
     "execution_count": 932,
     "metadata": {},
     "output_type": "execute_result"
    }
   ],
   "source": [
    "round(wendopen/wend,3)"
   ]
  },
  {
   "cell_type": "code",
   "execution_count": 934,
   "metadata": {
    "collapsed": false
   },
   "outputs": [
    {
     "data": {
      "text/html": [
       "<div>\n",
       "<style scoped>\n",
       "    .dataframe tbody tr th:only-of-type {\n",
       "        vertical-align: middle;\n",
       "    }\n",
       "\n",
       "    .dataframe tbody tr th {\n",
       "        vertical-align: top;\n",
       "    }\n",
       "\n",
       "    .dataframe thead th {\n",
       "        text-align: right;\n",
       "    }\n",
       "</style>\n",
       "<table border=\"1\" class=\"dataframe\">\n",
       "  <thead>\n",
       "    <tr style=\"text-align: right;\">\n",
       "      <th></th>\n",
       "      <th></th>\n",
       "      <th>Frequency</th>\n",
       "    </tr>\n",
       "    <tr>\n",
       "      <th>is_click</th>\n",
       "      <th>weekend</th>\n",
       "      <th></th>\n",
       "    </tr>\n",
       "  </thead>\n",
       "  <tbody>\n",
       "    <tr>\n",
       "      <th rowspan=\"2\" valign=\"top\">1</th>\n",
       "      <th>0</th>\n",
       "      <td>11402</td>\n",
       "    </tr>\n",
       "    <tr>\n",
       "      <th>1</th>\n",
       "      <td>1380</td>\n",
       "    </tr>\n",
       "  </tbody>\n",
       "</table>\n",
       "</div>"
      ],
      "text/plain": [
       "                  Frequency\n",
       "is_click weekend           \n",
       "1        0            11402\n",
       "         1             1380"
      ]
     },
     "execution_count": 934,
     "metadata": {},
     "output_type": "execute_result"
    }
   ],
   "source": [
    "Date_day"
   ]
  },
  {
   "cell_type": "code",
   "execution_count": 933,
   "metadata": {
    "collapsed": false
   },
   "outputs": [
    {
     "name": "stderr",
     "output_type": "stream",
     "text": [
      "F:\\Anaconda\\lib\\site-packages\\ipykernel\\__main__.py:2: FutureWarning: using a dict on a Series for aggregation\n",
      "is deprecated and will be removed in a future version\n",
      "  from ipykernel import kernelapp as app\n"
     ]
    }
   ],
   "source": [
    "Date_day=order(data,'is_click',1,'weekend')"
   ]
  },
  {
   "cell_type": "code",
   "execution_count": 877,
   "metadata": {
    "collapsed": false
   },
   "outputs": [],
   "source": [
    "data.drop('weekend',axis=1,inplace=True)"
   ]
  },
  {
   "cell_type": "code",
   "execution_count": 881,
   "metadata": {
    "collapsed": false
   },
   "outputs": [],
   "source": [
    "test.drop('weekend',axis=1,inplace=True)"
   ]
  },
  {
   "cell_type": "code",
   "execution_count": 935,
   "metadata": {
    "collapsed": false
   },
   "outputs": [
    {
     "name": "stderr",
     "output_type": "stream",
     "text": [
      "F:\\Anaconda\\lib\\site-packages\\ipykernel\\__main__.py:2: FutureWarning: using a dict on a Series for aggregation\n",
      "is deprecated and will be removed in a future version\n",
      "  from ipykernel import kernelapp as app\n"
     ]
    }
   ],
   "source": [
    "Date_tym=order(data,'is_click',1,'time_of_day')"
   ]
  },
  {
   "cell_type": "code",
   "execution_count": 936,
   "metadata": {
    "collapsed": false
   },
   "outputs": [
    {
     "data": {
      "text/html": [
       "<div>\n",
       "<style scoped>\n",
       "    .dataframe tbody tr th:only-of-type {\n",
       "        vertical-align: middle;\n",
       "    }\n",
       "\n",
       "    .dataframe tbody tr th {\n",
       "        vertical-align: top;\n",
       "    }\n",
       "\n",
       "    .dataframe thead th {\n",
       "        text-align: right;\n",
       "    }\n",
       "</style>\n",
       "<table border=\"1\" class=\"dataframe\">\n",
       "  <thead>\n",
       "    <tr style=\"text-align: right;\">\n",
       "      <th></th>\n",
       "      <th></th>\n",
       "      <th>Frequency</th>\n",
       "    </tr>\n",
       "    <tr>\n",
       "      <th>is_click</th>\n",
       "      <th>time_of_day</th>\n",
       "      <th></th>\n",
       "    </tr>\n",
       "  </thead>\n",
       "  <tbody>\n",
       "    <tr>\n",
       "      <th rowspan=\"4\" valign=\"top\">1</th>\n",
       "      <th>afternoon</th>\n",
       "      <td>6184</td>\n",
       "    </tr>\n",
       "    <tr>\n",
       "      <th>evening</th>\n",
       "      <td>3529</td>\n",
       "    </tr>\n",
       "    <tr>\n",
       "      <th>night</th>\n",
       "      <td>1817</td>\n",
       "    </tr>\n",
       "    <tr>\n",
       "      <th>early</th>\n",
       "      <td>1252</td>\n",
       "    </tr>\n",
       "  </tbody>\n",
       "</table>\n",
       "</div>"
      ],
      "text/plain": [
       "                      Frequency\n",
       "is_click time_of_day           \n",
       "1        afternoon         6184\n",
       "         evening           3529\n",
       "         night             1817\n",
       "         early             1252"
      ]
     },
     "execution_count": 936,
     "metadata": {},
     "output_type": "execute_result"
    }
   ],
   "source": [
    "Date_tym"
   ]
  },
  {
   "cell_type": "code",
   "execution_count": 937,
   "metadata": {
    "collapsed": true
   },
   "outputs": [],
   "source": [
    "data.loc[data['time_of_day']=='evening','time_of_day']=0.014"
   ]
  },
  {
   "cell_type": "code",
   "execution_count": 938,
   "metadata": {
    "collapsed": true
   },
   "outputs": [],
   "source": [
    "test.loc[test['time_of_day']=='evening','time_of_day']=0.014"
   ]
  },
  {
   "cell_type": "code",
   "execution_count": 939,
   "metadata": {
    "collapsed": true
   },
   "outputs": [],
   "source": [
    "data.loc[data['time_of_day']=='night','time_of_day']=0.011"
   ]
  },
  {
   "cell_type": "code",
   "execution_count": 940,
   "metadata": {
    "collapsed": true
   },
   "outputs": [],
   "source": [
    "test.loc[test['time_of_day']=='night','time_of_day']=0.011"
   ]
  },
  {
   "cell_type": "code",
   "execution_count": 941,
   "metadata": {
    "collapsed": true
   },
   "outputs": [],
   "source": [
    "data.loc[data['time_of_day']=='early','time_of_day']=0.012"
   ]
  },
  {
   "cell_type": "code",
   "execution_count": 942,
   "metadata": {
    "collapsed": true
   },
   "outputs": [],
   "source": [
    "test.loc[test['time_of_day']=='early','time_of_day']=0.012"
   ]
  },
  {
   "cell_type": "code",
   "execution_count": 943,
   "metadata": {
    "collapsed": true
   },
   "outputs": [],
   "source": [
    "data.loc[data['time_of_day']=='afternoon','time_of_day']=0.012"
   ]
  },
  {
   "cell_type": "code",
   "execution_count": 944,
   "metadata": {
    "collapsed": true
   },
   "outputs": [],
   "source": [
    "test.loc[test['time_of_day']=='afternoon','time_of_day']=0.012"
   ]
  },
  {
   "cell_type": "code",
   "execution_count": 945,
   "metadata": {
    "collapsed": true
   },
   "outputs": [],
   "source": [
    "data.loc[data['weekend']==1,'weekend']=0.017"
   ]
  },
  {
   "cell_type": "code",
   "execution_count": 956,
   "metadata": {
    "collapsed": true
   },
   "outputs": [],
   "source": [
    "data.loc[data['weekend']==0,'weekend']=0.012"
   ]
  },
  {
   "cell_type": "code",
   "execution_count": 957,
   "metadata": {
    "collapsed": true
   },
   "outputs": [],
   "source": [
    "test.loc[test['weekend']==1,'weekend']=0.017"
   ]
  },
  {
   "cell_type": "code",
   "execution_count": 946,
   "metadata": {
    "collapsed": true
   },
   "outputs": [],
   "source": [
    "test.loc[test['weekend']==0,'weekend']=0.012"
   ]
  },
  {
   "cell_type": "code",
   "execution_count": 958,
   "metadata": {
    "collapsed": false
   },
   "outputs": [],
   "source": [
    "test.to_csv('Target.csv')"
   ]
  },
  {
   "cell_type": "code",
   "execution_count": 76,
   "metadata": {
    "collapsed": true
   },
   "outputs": [],
   "source": [
    "camp.to_csv('camp.csv')"
   ]
  },
  {
   "cell_type": "code",
   "execution_count": 4,
   "metadata": {
    "collapsed": false
   },
   "outputs": [],
   "source": [
    "data=pd.read_csv('Data_Final.csv') # final data for training"
   ]
  },
  {
   "cell_type": "code",
   "execution_count": 4,
   "metadata": {
    "collapsed": false
   },
   "outputs": [
    {
     "data": {
      "text/html": [
       "<div>\n",
       "<style scoped>\n",
       "    .dataframe tbody tr th:only-of-type {\n",
       "        vertical-align: middle;\n",
       "    }\n",
       "\n",
       "    .dataframe tbody tr th {\n",
       "        vertical-align: top;\n",
       "    }\n",
       "\n",
       "    .dataframe thead th {\n",
       "        text-align: right;\n",
       "    }\n",
       "</style>\n",
       "<table border=\"1\" class=\"dataframe\">\n",
       "  <thead>\n",
       "    <tr style=\"text-align: right;\">\n",
       "      <th></th>\n",
       "      <th>Unnamed: 0</th>\n",
       "      <th>id</th>\n",
       "      <th>user_id</th>\n",
       "      <th>campaign_id</th>\n",
       "      <th>send_date</th>\n",
       "      <th>is_open</th>\n",
       "      <th>is_click</th>\n",
       "      <th>U_cid_wts</th>\n",
       "      <th>U_oid_wts</th>\n",
       "      <th>time_of_day</th>\n",
       "      <th>...</th>\n",
       "      <th>Others</th>\n",
       "      <th>Upcoming Events</th>\n",
       "      <th>Webinar</th>\n",
       "      <th>communication_type_Conference</th>\n",
       "      <th>communication_type_Corporate</th>\n",
       "      <th>communication_type_Hackathon</th>\n",
       "      <th>communication_type_Newsletter</th>\n",
       "      <th>communication_type_Others</th>\n",
       "      <th>communication_type_Upcoming Events</th>\n",
       "      <th>communication_type_Webinar</th>\n",
       "    </tr>\n",
       "  </thead>\n",
       "  <tbody>\n",
       "    <tr>\n",
       "      <th>0</th>\n",
       "      <td>0</td>\n",
       "      <td>42_14051</td>\n",
       "      <td>14051</td>\n",
       "      <td>42</td>\n",
       "      <td>01-09-2017 19:55</td>\n",
       "      <td>0</td>\n",
       "      <td>0</td>\n",
       "      <td>0</td>\n",
       "      <td>0</td>\n",
       "      <td>0.014</td>\n",
       "      <td>...</td>\n",
       "      <td>NaN</td>\n",
       "      <td>NaN</td>\n",
       "      <td>NaN</td>\n",
       "      <td>0</td>\n",
       "      <td>0</td>\n",
       "      <td>0</td>\n",
       "      <td>1</td>\n",
       "      <td>0</td>\n",
       "      <td>0</td>\n",
       "      <td>0</td>\n",
       "    </tr>\n",
       "    <tr>\n",
       "      <th>1</th>\n",
       "      <td>1</td>\n",
       "      <td>52_134438</td>\n",
       "      <td>134438</td>\n",
       "      <td>52</td>\n",
       "      <td>02-11-2017 12:53</td>\n",
       "      <td>0</td>\n",
       "      <td>0</td>\n",
       "      <td>0</td>\n",
       "      <td>0</td>\n",
       "      <td>0.012</td>\n",
       "      <td>...</td>\n",
       "      <td>NaN</td>\n",
       "      <td>NaN</td>\n",
       "      <td>NaN</td>\n",
       "      <td>0</td>\n",
       "      <td>0</td>\n",
       "      <td>0</td>\n",
       "      <td>1</td>\n",
       "      <td>0</td>\n",
       "      <td>0</td>\n",
       "      <td>0</td>\n",
       "    </tr>\n",
       "    <tr>\n",
       "      <th>2</th>\n",
       "      <td>2</td>\n",
       "      <td>33_181789</td>\n",
       "      <td>181789</td>\n",
       "      <td>33</td>\n",
       "      <td>24-07-2017 15:15</td>\n",
       "      <td>0</td>\n",
       "      <td>0</td>\n",
       "      <td>0</td>\n",
       "      <td>0</td>\n",
       "      <td>0.012</td>\n",
       "      <td>...</td>\n",
       "      <td>NaN</td>\n",
       "      <td>NaN</td>\n",
       "      <td>NaN</td>\n",
       "      <td>0</td>\n",
       "      <td>0</td>\n",
       "      <td>0</td>\n",
       "      <td>0</td>\n",
       "      <td>1</td>\n",
       "      <td>0</td>\n",
       "      <td>0</td>\n",
       "    </tr>\n",
       "    <tr>\n",
       "      <th>3</th>\n",
       "      <td>3</td>\n",
       "      <td>44_231448</td>\n",
       "      <td>231448</td>\n",
       "      <td>44</td>\n",
       "      <td>05-09-2017 11:36</td>\n",
       "      <td>0</td>\n",
       "      <td>0</td>\n",
       "      <td>0</td>\n",
       "      <td>0</td>\n",
       "      <td>0.012</td>\n",
       "      <td>...</td>\n",
       "      <td>NaN</td>\n",
       "      <td>NaN</td>\n",
       "      <td>NaN</td>\n",
       "      <td>0</td>\n",
       "      <td>0</td>\n",
       "      <td>0</td>\n",
       "      <td>0</td>\n",
       "      <td>0</td>\n",
       "      <td>1</td>\n",
       "      <td>0</td>\n",
       "    </tr>\n",
       "    <tr>\n",
       "      <th>4</th>\n",
       "      <td>4</td>\n",
       "      <td>29_185580</td>\n",
       "      <td>185580</td>\n",
       "      <td>29</td>\n",
       "      <td>01-07-2017 18:01</td>\n",
       "      <td>0</td>\n",
       "      <td>0</td>\n",
       "      <td>0</td>\n",
       "      <td>0</td>\n",
       "      <td>0.014</td>\n",
       "      <td>...</td>\n",
       "      <td>NaN</td>\n",
       "      <td>NaN</td>\n",
       "      <td>NaN</td>\n",
       "      <td>0</td>\n",
       "      <td>0</td>\n",
       "      <td>0</td>\n",
       "      <td>1</td>\n",
       "      <td>0</td>\n",
       "      <td>0</td>\n",
       "      <td>0</td>\n",
       "    </tr>\n",
       "  </tbody>\n",
       "</table>\n",
       "<p>5 rows × 26 columns</p>\n",
       "</div>"
      ],
      "text/plain": [
       "   Unnamed: 0         id  user_id  campaign_id         send_date  is_open  \\\n",
       "0           0   42_14051    14051           42  01-09-2017 19:55        0   \n",
       "1           1  52_134438   134438           52  02-11-2017 12:53        0   \n",
       "2           2  33_181789   181789           33  24-07-2017 15:15        0   \n",
       "3           3  44_231448   231448           44  05-09-2017 11:36        0   \n",
       "4           4  29_185580   185580           29  01-07-2017 18:01        0   \n",
       "\n",
       "   is_click  U_cid_wts  U_oid_wts  time_of_day             ...              \\\n",
       "0         0          0          0        0.014             ...               \n",
       "1         0          0          0        0.012             ...               \n",
       "2         0          0          0        0.012             ...               \n",
       "3         0          0          0        0.012             ...               \n",
       "4         0          0          0        0.014             ...               \n",
       "\n",
       "   Others  Upcoming Events  Webinar  communication_type_Conference  \\\n",
       "0     NaN              NaN      NaN                              0   \n",
       "1     NaN              NaN      NaN                              0   \n",
       "2     NaN              NaN      NaN                              0   \n",
       "3     NaN              NaN      NaN                              0   \n",
       "4     NaN              NaN      NaN                              0   \n",
       "\n",
       "   communication_type_Corporate  communication_type_Hackathon  \\\n",
       "0                             0                             0   \n",
       "1                             0                             0   \n",
       "2                             0                             0   \n",
       "3                             0                             0   \n",
       "4                             0                             0   \n",
       "\n",
       "   communication_type_Newsletter  communication_type_Others  \\\n",
       "0                              1                          0   \n",
       "1                              1                          0   \n",
       "2                              0                          1   \n",
       "3                              0                          0   \n",
       "4                              1                          0   \n",
       "\n",
       "   communication_type_Upcoming Events  communication_type_Webinar  \n",
       "0                                   0                           0  \n",
       "1                                   0                           0  \n",
       "2                                   0                           0  \n",
       "3                                   1                           0  \n",
       "4                                   0                           0  \n",
       "\n",
       "[5 rows x 26 columns]"
      ]
     },
     "execution_count": 4,
     "metadata": {},
     "output_type": "execute_result"
    }
   ],
   "source": [
    "data.head()"
   ]
  },
  {
   "cell_type": "code",
   "execution_count": 5,
   "metadata": {
    "collapsed": true
   },
   "outputs": [],
   "source": [
    "test=pd.read_csv('Test_finaL.csv') # final test data file"
   ]
  },
  {
   "cell_type": "code",
   "execution_count": 6,
   "metadata": {
    "collapsed": false
   },
   "outputs": [
    {
     "data": {
      "text/html": [
       "<div>\n",
       "<style scoped>\n",
       "    .dataframe tbody tr th:only-of-type {\n",
       "        vertical-align: middle;\n",
       "    }\n",
       "\n",
       "    .dataframe tbody tr th {\n",
       "        vertical-align: top;\n",
       "    }\n",
       "\n",
       "    .dataframe thead th {\n",
       "        text-align: right;\n",
       "    }\n",
       "</style>\n",
       "<table border=\"1\" class=\"dataframe\">\n",
       "  <thead>\n",
       "    <tr style=\"text-align: right;\">\n",
       "      <th></th>\n",
       "      <th>Unnamed: 0</th>\n",
       "      <th>id</th>\n",
       "      <th>campaign_id</th>\n",
       "      <th>user_id</th>\n",
       "      <th>send_date</th>\n",
       "      <th>U_cid_wts</th>\n",
       "      <th>U_oid_wts</th>\n",
       "      <th>time_of_day</th>\n",
       "      <th>weekend</th>\n",
       "      <th>campaign_weight</th>\n",
       "      <th>...</th>\n",
       "      <th>Others</th>\n",
       "      <th>Upcoming Events</th>\n",
       "      <th>Webinar</th>\n",
       "      <th>communication_type_Corporate</th>\n",
       "      <th>communication_type_Hackathon</th>\n",
       "      <th>communication_type_Newsletter</th>\n",
       "      <th>communication_type_Upcoming Events</th>\n",
       "      <th>communication_type_Others</th>\n",
       "      <th>communication_type_Webinar</th>\n",
       "      <th>communication_type_Conference</th>\n",
       "    </tr>\n",
       "  </thead>\n",
       "  <tbody>\n",
       "    <tr>\n",
       "      <th>0</th>\n",
       "      <td>0</td>\n",
       "      <td>63_122715</td>\n",
       "      <td>63</td>\n",
       "      <td>122715</td>\n",
       "      <td>01-02-2018 22:35</td>\n",
       "      <td>0.0</td>\n",
       "      <td>0.0</td>\n",
       "      <td>0.011</td>\n",
       "      <td>0.012</td>\n",
       "      <td>5.48</td>\n",
       "      <td>...</td>\n",
       "      <td>NaN</td>\n",
       "      <td>NaN</td>\n",
       "      <td>NaN</td>\n",
       "      <td>0</td>\n",
       "      <td>0</td>\n",
       "      <td>1</td>\n",
       "      <td>0</td>\n",
       "      <td>0</td>\n",
       "      <td>0</td>\n",
       "      <td>0</td>\n",
       "    </tr>\n",
       "    <tr>\n",
       "      <th>1</th>\n",
       "      <td>1</td>\n",
       "      <td>56_76206</td>\n",
       "      <td>56</td>\n",
       "      <td>76206</td>\n",
       "      <td>02-01-2018 08:15</td>\n",
       "      <td>0.0</td>\n",
       "      <td>0.0</td>\n",
       "      <td>0.012</td>\n",
       "      <td>0.012</td>\n",
       "      <td>5.33</td>\n",
       "      <td>...</td>\n",
       "      <td>NaN</td>\n",
       "      <td>NaN</td>\n",
       "      <td>NaN</td>\n",
       "      <td>0</td>\n",
       "      <td>0</td>\n",
       "      <td>1</td>\n",
       "      <td>0</td>\n",
       "      <td>0</td>\n",
       "      <td>0</td>\n",
       "      <td>0</td>\n",
       "    </tr>\n",
       "    <tr>\n",
       "      <th>2</th>\n",
       "      <td>2</td>\n",
       "      <td>57_96189</td>\n",
       "      <td>57</td>\n",
       "      <td>96189</td>\n",
       "      <td>05-01-2018 18:25</td>\n",
       "      <td>0.0</td>\n",
       "      <td>1.0</td>\n",
       "      <td>0.014</td>\n",
       "      <td>0.012</td>\n",
       "      <td>4.36</td>\n",
       "      <td>...</td>\n",
       "      <td>NaN</td>\n",
       "      <td>NaN</td>\n",
       "      <td>NaN</td>\n",
       "      <td>0</td>\n",
       "      <td>0</td>\n",
       "      <td>0</td>\n",
       "      <td>1</td>\n",
       "      <td>0</td>\n",
       "      <td>0</td>\n",
       "      <td>0</td>\n",
       "    </tr>\n",
       "    <tr>\n",
       "      <th>3</th>\n",
       "      <td>3</td>\n",
       "      <td>56_166917</td>\n",
       "      <td>56</td>\n",
       "      <td>166917</td>\n",
       "      <td>02-01-2018 08:15</td>\n",
       "      <td>0.0</td>\n",
       "      <td>0.0</td>\n",
       "      <td>0.012</td>\n",
       "      <td>0.012</td>\n",
       "      <td>5.33</td>\n",
       "      <td>...</td>\n",
       "      <td>NaN</td>\n",
       "      <td>NaN</td>\n",
       "      <td>NaN</td>\n",
       "      <td>0</td>\n",
       "      <td>0</td>\n",
       "      <td>1</td>\n",
       "      <td>0</td>\n",
       "      <td>0</td>\n",
       "      <td>0</td>\n",
       "      <td>0</td>\n",
       "    </tr>\n",
       "    <tr>\n",
       "      <th>4</th>\n",
       "      <td>4</td>\n",
       "      <td>56_172838</td>\n",
       "      <td>56</td>\n",
       "      <td>172838</td>\n",
       "      <td>02-01-2018 08:12</td>\n",
       "      <td>0.0</td>\n",
       "      <td>2.0</td>\n",
       "      <td>0.012</td>\n",
       "      <td>0.012</td>\n",
       "      <td>5.33</td>\n",
       "      <td>...</td>\n",
       "      <td>NaN</td>\n",
       "      <td>NaN</td>\n",
       "      <td>NaN</td>\n",
       "      <td>0</td>\n",
       "      <td>0</td>\n",
       "      <td>1</td>\n",
       "      <td>0</td>\n",
       "      <td>0</td>\n",
       "      <td>0</td>\n",
       "      <td>0</td>\n",
       "    </tr>\n",
       "  </tbody>\n",
       "</table>\n",
       "<p>5 rows × 24 columns</p>\n",
       "</div>"
      ],
      "text/plain": [
       "   Unnamed: 0         id  campaign_id  user_id         send_date  U_cid_wts  \\\n",
       "0           0  63_122715           63   122715  01-02-2018 22:35        0.0   \n",
       "1           1   56_76206           56    76206  02-01-2018 08:15        0.0   \n",
       "2           2   57_96189           57    96189  05-01-2018 18:25        0.0   \n",
       "3           3  56_166917           56   166917  02-01-2018 08:15        0.0   \n",
       "4           4  56_172838           56   172838  02-01-2018 08:12        0.0   \n",
       "\n",
       "   U_oid_wts  time_of_day  weekend  campaign_weight  \\\n",
       "0        0.0        0.011    0.012             5.48   \n",
       "1        0.0        0.012    0.012             5.33   \n",
       "2        1.0        0.014    0.012             4.36   \n",
       "3        0.0        0.012    0.012             5.33   \n",
       "4        2.0        0.012    0.012             5.33   \n",
       "\n",
       "               ...                Others  Upcoming Events  Webinar  \\\n",
       "0              ...                   NaN              NaN      NaN   \n",
       "1              ...                   NaN              NaN      NaN   \n",
       "2              ...                   NaN              NaN      NaN   \n",
       "3              ...                   NaN              NaN      NaN   \n",
       "4              ...                   NaN              NaN      NaN   \n",
       "\n",
       "   communication_type_Corporate  communication_type_Hackathon  \\\n",
       "0                             0                             0   \n",
       "1                             0                             0   \n",
       "2                             0                             0   \n",
       "3                             0                             0   \n",
       "4                             0                             0   \n",
       "\n",
       "   communication_type_Newsletter  communication_type_Upcoming Events  \\\n",
       "0                              1                                   0   \n",
       "1                              1                                   0   \n",
       "2                              0                                   1   \n",
       "3                              1                                   0   \n",
       "4                              1                                   0   \n",
       "\n",
       "   communication_type_Others  communication_type_Webinar  \\\n",
       "0                          0                           0   \n",
       "1                          0                           0   \n",
       "2                          0                           0   \n",
       "3                          0                           0   \n",
       "4                          0                           0   \n",
       "\n",
       "   communication_type_Conference  \n",
       "0                              0  \n",
       "1                              0  \n",
       "2                              0  \n",
       "3                              0  \n",
       "4                              0  \n",
       "\n",
       "[5 rows x 24 columns]"
      ]
     },
     "execution_count": 6,
     "metadata": {},
     "output_type": "execute_result"
    }
   ],
   "source": [
    "test.head()"
   ]
  },
  {
   "cell_type": "code",
   "execution_count": 4,
   "metadata": {
    "collapsed": true
   },
   "outputs": [],
   "source": [
    "test=pd.read_csv('Test_FinaL_nonan.csv')"
   ]
  },
  {
   "cell_type": "code",
   "execution_count": 6,
   "metadata": {
    "collapsed": false
   },
   "outputs": [
    {
     "data": {
      "text/plain": [
       "Index(['Unnamed: 0', 'id', 'campaign_id', 'user_id', 'send_date', 'U_cid_wts',\n",
       "       'U_oid_wts', 'time_of_day', 'weekend', 'campaign_weight', 'Conference',\n",
       "       'Corporate', 'Hackathon', 'Newsletter', 'Others', 'Upcoming Events',\n",
       "       'Webinar', 'communication_type_Corporate',\n",
       "       'communication_type_Hackathon', 'communication_type_Newsletter',\n",
       "       'communication_type_Upcoming Events', 'communication_type_Others',\n",
       "       'communication_type_Webinar', 'communication_type_Conference'],\n",
       "      dtype='object')"
      ]
     },
     "execution_count": 6,
     "metadata": {},
     "output_type": "execute_result"
    }
   ],
   "source": [
    "test.columns"
   ]
  },
  {
   "cell_type": "code",
   "execution_count": 7,
   "metadata": {
    "collapsed": false
   },
   "outputs": [
    {
     "data": {
      "text/plain": [
       "Index(['Unnamed: 0', 'id', 'user_id', 'campaign_id', 'send_date', 'is_open',\n",
       "       'is_click', 'U_cid_wts', 'U_oid_wts', 'time_of_day', 'weekend',\n",
       "       'campaign_weight', 'Conference', 'Corporate', 'Hackathon', 'Newsletter',\n",
       "       'Others', 'Upcoming Events', 'Webinar', 'communication_type_Conference',\n",
       "       'communication_type_Corporate', 'communication_type_Hackathon',\n",
       "       'communication_type_Newsletter', 'communication_type_Others',\n",
       "       'communication_type_Upcoming Events', 'communication_type_Webinar'],\n",
       "      dtype='object')"
      ]
     },
     "execution_count": 7,
     "metadata": {},
     "output_type": "execute_result"
    }
   ],
   "source": [
    "data.columns"
   ]
  },
  {
   "cell_type": "code",
   "execution_count": 5,
   "metadata": {
    "collapsed": true
   },
   "outputs": [],
   "source": [
    "P=['U_cid_wts','U_oid_wts','campaign_weight','communication_type_Conference',\n",
    "       'communication_type_Corporate', 'communication_type_Hackathon',\n",
    "       'communication_type_Newsletter', 'communication_type_Others',\n",
    "       'communication_type_Upcoming Events', 'communication_type_Webinar','Conference', 'Corporate', 'Hackathon', 'Newsletter', 'Others',\n",
    "       'Upcoming Events', 'Webinar','time_of_day', 'weekend']"
   ]
  },
  {
   "cell_type": "code",
   "execution_count": 6,
   "metadata": {
    "collapsed": false
   },
   "outputs": [
    {
     "data": {
      "text/html": [
       "<div>\n",
       "<style scoped>\n",
       "    .dataframe tbody tr th:only-of-type {\n",
       "        vertical-align: middle;\n",
       "    }\n",
       "\n",
       "    .dataframe tbody tr th {\n",
       "        vertical-align: top;\n",
       "    }\n",
       "\n",
       "    .dataframe thead th {\n",
       "        text-align: right;\n",
       "    }\n",
       "</style>\n",
       "<table border=\"1\" class=\"dataframe\">\n",
       "  <thead>\n",
       "    <tr style=\"text-align: right;\">\n",
       "      <th></th>\n",
       "      <th>U_cid_wts</th>\n",
       "      <th>U_oid_wts</th>\n",
       "      <th>campaign_weight</th>\n",
       "      <th>communication_type_Conference</th>\n",
       "      <th>communication_type_Corporate</th>\n",
       "      <th>communication_type_Hackathon</th>\n",
       "      <th>communication_type_Newsletter</th>\n",
       "      <th>communication_type_Others</th>\n",
       "      <th>communication_type_Upcoming Events</th>\n",
       "      <th>communication_type_Webinar</th>\n",
       "      <th>Conference</th>\n",
       "      <th>Corporate</th>\n",
       "      <th>Hackathon</th>\n",
       "      <th>Newsletter</th>\n",
       "      <th>Others</th>\n",
       "      <th>Upcoming Events</th>\n",
       "      <th>Webinar</th>\n",
       "      <th>time_of_day</th>\n",
       "      <th>weekend</th>\n",
       "    </tr>\n",
       "  </thead>\n",
       "  <tbody>\n",
       "    <tr>\n",
       "      <th>0</th>\n",
       "      <td>0</td>\n",
       "      <td>0</td>\n",
       "      <td>5.48</td>\n",
       "      <td>0</td>\n",
       "      <td>0</td>\n",
       "      <td>0</td>\n",
       "      <td>1</td>\n",
       "      <td>0</td>\n",
       "      <td>0</td>\n",
       "      <td>0</td>\n",
       "      <td>NaN</td>\n",
       "      <td>NaN</td>\n",
       "      <td>NaN</td>\n",
       "      <td>NaN</td>\n",
       "      <td>NaN</td>\n",
       "      <td>NaN</td>\n",
       "      <td>NaN</td>\n",
       "      <td>0.014</td>\n",
       "      <td>0.012</td>\n",
       "    </tr>\n",
       "    <tr>\n",
       "      <th>1</th>\n",
       "      <td>0</td>\n",
       "      <td>0</td>\n",
       "      <td>5.44</td>\n",
       "      <td>0</td>\n",
       "      <td>0</td>\n",
       "      <td>0</td>\n",
       "      <td>1</td>\n",
       "      <td>0</td>\n",
       "      <td>0</td>\n",
       "      <td>0</td>\n",
       "      <td>NaN</td>\n",
       "      <td>NaN</td>\n",
       "      <td>NaN</td>\n",
       "      <td>NaN</td>\n",
       "      <td>NaN</td>\n",
       "      <td>NaN</td>\n",
       "      <td>NaN</td>\n",
       "      <td>0.012</td>\n",
       "      <td>0.012</td>\n",
       "    </tr>\n",
       "    <tr>\n",
       "      <th>2</th>\n",
       "      <td>0</td>\n",
       "      <td>0</td>\n",
       "      <td>3.31</td>\n",
       "      <td>0</td>\n",
       "      <td>0</td>\n",
       "      <td>0</td>\n",
       "      <td>0</td>\n",
       "      <td>1</td>\n",
       "      <td>0</td>\n",
       "      <td>0</td>\n",
       "      <td>NaN</td>\n",
       "      <td>NaN</td>\n",
       "      <td>NaN</td>\n",
       "      <td>NaN</td>\n",
       "      <td>NaN</td>\n",
       "      <td>NaN</td>\n",
       "      <td>NaN</td>\n",
       "      <td>0.012</td>\n",
       "      <td>0.012</td>\n",
       "    </tr>\n",
       "    <tr>\n",
       "      <th>3</th>\n",
       "      <td>0</td>\n",
       "      <td>0</td>\n",
       "      <td>3.68</td>\n",
       "      <td>0</td>\n",
       "      <td>0</td>\n",
       "      <td>0</td>\n",
       "      <td>0</td>\n",
       "      <td>0</td>\n",
       "      <td>1</td>\n",
       "      <td>0</td>\n",
       "      <td>NaN</td>\n",
       "      <td>NaN</td>\n",
       "      <td>NaN</td>\n",
       "      <td>NaN</td>\n",
       "      <td>NaN</td>\n",
       "      <td>NaN</td>\n",
       "      <td>NaN</td>\n",
       "      <td>0.012</td>\n",
       "      <td>0.012</td>\n",
       "    </tr>\n",
       "    <tr>\n",
       "      <th>4</th>\n",
       "      <td>0</td>\n",
       "      <td>0</td>\n",
       "      <td>5.40</td>\n",
       "      <td>0</td>\n",
       "      <td>0</td>\n",
       "      <td>0</td>\n",
       "      <td>1</td>\n",
       "      <td>0</td>\n",
       "      <td>0</td>\n",
       "      <td>0</td>\n",
       "      <td>NaN</td>\n",
       "      <td>NaN</td>\n",
       "      <td>NaN</td>\n",
       "      <td>NaN</td>\n",
       "      <td>NaN</td>\n",
       "      <td>NaN</td>\n",
       "      <td>NaN</td>\n",
       "      <td>0.014</td>\n",
       "      <td>0.017</td>\n",
       "    </tr>\n",
       "  </tbody>\n",
       "</table>\n",
       "</div>"
      ],
      "text/plain": [
       "   U_cid_wts  U_oid_wts  campaign_weight  communication_type_Conference  \\\n",
       "0          0          0             5.48                              0   \n",
       "1          0          0             5.44                              0   \n",
       "2          0          0             3.31                              0   \n",
       "3          0          0             3.68                              0   \n",
       "4          0          0             5.40                              0   \n",
       "\n",
       "   communication_type_Corporate  communication_type_Hackathon  \\\n",
       "0                             0                             0   \n",
       "1                             0                             0   \n",
       "2                             0                             0   \n",
       "3                             0                             0   \n",
       "4                             0                             0   \n",
       "\n",
       "   communication_type_Newsletter  communication_type_Others  \\\n",
       "0                              1                          0   \n",
       "1                              1                          0   \n",
       "2                              0                          1   \n",
       "3                              0                          0   \n",
       "4                              1                          0   \n",
       "\n",
       "   communication_type_Upcoming Events  communication_type_Webinar  Conference  \\\n",
       "0                                   0                           0         NaN   \n",
       "1                                   0                           0         NaN   \n",
       "2                                   0                           0         NaN   \n",
       "3                                   1                           0         NaN   \n",
       "4                                   0                           0         NaN   \n",
       "\n",
       "   Corporate  Hackathon  Newsletter  Others  Upcoming Events  Webinar  \\\n",
       "0        NaN        NaN         NaN     NaN              NaN      NaN   \n",
       "1        NaN        NaN         NaN     NaN              NaN      NaN   \n",
       "2        NaN        NaN         NaN     NaN              NaN      NaN   \n",
       "3        NaN        NaN         NaN     NaN              NaN      NaN   \n",
       "4        NaN        NaN         NaN     NaN              NaN      NaN   \n",
       "\n",
       "   time_of_day  weekend  \n",
       "0        0.014    0.012  \n",
       "1        0.012    0.012  \n",
       "2        0.012    0.012  \n",
       "3        0.012    0.012  \n",
       "4        0.014    0.017  "
      ]
     },
     "execution_count": 6,
     "metadata": {},
     "output_type": "execute_result"
    }
   ],
   "source": [
    "Xtest=data[P]\n",
    "Xtest.head()"
   ]
  },
  {
   "cell_type": "code",
   "execution_count": 7,
   "metadata": {
    "collapsed": true
   },
   "outputs": [],
   "source": [
    "target=data['is_click']"
   ]
  },
  {
   "cell_type": "code",
   "execution_count": 10,
   "metadata": {
    "collapsed": true
   },
   "outputs": [],
   "source": [
    "train_X, test_X, train_target, test_target= train_test_split(Xtest , target, train_size = 0.7,random_state=75)"
   ]
  },
  {
   "cell_type": "code",
   "execution_count": 14,
   "metadata": {
    "collapsed": false
   },
   "outputs": [
    {
     "data": {
      "text/plain": [
       "(306958, 19)"
      ]
     },
     "execution_count": 14,
     "metadata": {},
     "output_type": "execute_result"
    }
   ],
   "source": [
    "test_X.shape"
   ]
  },
  {
   "cell_type": "code",
   "execution_count": 6,
   "metadata": {
    "collapsed": false
   },
   "outputs": [],
   "source": [
    "train_X=data[P]"
   ]
  },
  {
   "cell_type": "code",
   "execution_count": 7,
   "metadata": {
    "collapsed": false
   },
   "outputs": [
    {
     "data": {
      "text/plain": [
       "(1023191, 19)"
      ]
     },
     "execution_count": 7,
     "metadata": {},
     "output_type": "execute_result"
    }
   ],
   "source": [
    "train_X.shape"
   ]
  },
  {
   "cell_type": "code",
   "execution_count": 8,
   "metadata": {
    "collapsed": true
   },
   "outputs": [],
   "source": [
    "train_target=data['is_click']"
   ]
  },
  {
   "cell_type": "code",
   "execution_count": 9,
   "metadata": {
    "collapsed": true
   },
   "outputs": [],
   "source": [
    "test_X=test[P]"
   ]
  },
  {
   "cell_type": "code",
   "execution_count": 11,
   "metadata": {
    "collapsed": false
   },
   "outputs": [],
   "source": [
    "xgtest= xgb.DMatrix(test_X.values)"
   ]
  },
  {
   "cell_type": "code",
   "execution_count": 12,
   "metadata": {
    "collapsed": false
   },
   "outputs": [],
   "source": [
    "predict=model.predict(xgtest)"
   ]
  },
  {
   "cell_type": "code",
   "execution_count": 13,
   "metadata": {
    "collapsed": false
   },
   "outputs": [],
   "source": [
    "predict=predict>0.5\n",
    "predict=predict.astype(int)"
   ]
  },
  {
   "cell_type": "code",
   "execution_count": 14,
   "metadata": {
    "collapsed": false
   },
   "outputs": [],
   "source": [
    "test_target=pd.DataFrame({'is_click':predict})"
   ]
  },
  {
   "cell_type": "code",
   "execution_count": 15,
   "metadata": {
    "collapsed": false
   },
   "outputs": [
    {
     "data": {
      "text/plain": [
       "(773858, 1)"
      ]
     },
     "execution_count": 15,
     "metadata": {},
     "output_type": "execute_result"
    }
   ],
   "source": [
    "test_target.shape"
   ]
  },
  {
   "cell_type": "code",
   "execution_count": 16,
   "metadata": {
    "collapsed": false
   },
   "outputs": [],
   "source": [
    "test_target['id']=test['id']"
   ]
  },
  {
   "cell_type": "code",
   "execution_count": 17,
   "metadata": {
    "collapsed": false
   },
   "outputs": [
    {
     "data": {
      "text/plain": [
       "19334"
      ]
     },
     "execution_count": 17,
     "metadata": {},
     "output_type": "execute_result"
    }
   ],
   "source": [
    "len(test_target[test_target['is_click']==1])"
   ]
  },
  {
   "cell_type": "code",
   "execution_count": 18,
   "metadata": {
    "collapsed": false
   },
   "outputs": [
    {
     "data": {
      "text/plain": [
       "39.02575773249198"
      ]
     },
     "execution_count": 18,
     "metadata": {},
     "output_type": "execute_result"
    }
   ],
   "source": [
    "(len(test_target)-len(test_target[test_target['is_click']==1]))/len(test_target[test_target['is_click']==1])"
   ]
  },
  {
   "cell_type": "code",
   "execution_count": 19,
   "metadata": {
    "collapsed": false
   },
   "outputs": [],
   "source": [
    "test_target.to_csv('submission3.csv')"
   ]
  },
  {
   "cell_type": "code",
   "execution_count": null,
   "metadata": {
    "collapsed": true
   },
   "outputs": [],
   "source": [
    "submission['is_click']=pd.DataFrame(test_target)"
   ]
  },
  {
   "cell_type": "code",
   "execution_count": null,
   "metadata": {
    "collapsed": true
   },
   "outputs": [],
   "source": [
    "submission=pd.concat([test_X.id,test_target])"
   ]
  },
  {
   "cell_type": "code",
   "execution_count": null,
   "metadata": {
    "collapsed": true
   },
   "outputs": [],
   "source": [
    "test_target.to_csv('submission.csv')"
   ]
  },
  {
   "cell_type": "code",
   "execution_count": null,
   "metadata": {
    "collapsed": true
   },
   "outputs": [],
   "source": [
    "xgb1 = XGBClassifier(learning_rate =0.1,n_estimators=3,max_depth=5,min_child_weight=1,gamma=0,subsample=0.8,colsample_bytree=0.8,\n",
    " objective= 'binary:logistic')\n",
    "xgb1.fit(train_X,train_target,eval_metric='auc')"
   ]
  },
  {
   "cell_type": "code",
   "execution_count": 6,
   "metadata": {
    "collapsed": false
   },
   "outputs": [
    {
     "data": {
      "text/plain": [
       "79.04936629635425"
      ]
     },
     "execution_count": 6,
     "metadata": {},
     "output_type": "execute_result"
    }
   ],
   "source": [
    "(len(data)-len(data[data['is_click']==1]))/len(data[data['is_click']==1])"
   ]
  },
  {
   "cell_type": "code",
   "execution_count": null,
   "metadata": {
    "collapsed": true
   },
   "outputs": [],
   "source": [
    "dtest_predictions = xgb1.predict(test_X)  \n",
    "dtest_predprob = xgb1.predict_proba(test_X)[:,1]\n",
    "#Print model report:\n",
    "print(\"\\nModel Report\")\n",
    "print(\"Accuracy on Test set: %.4g\" % metrics.accuracy_score(test_target.values, dtest_predictions))\n",
    "print(\"AUC Score on test: %f\" % metrics.roc_auc_score(test_target, dtest_predprob))"
   ]
  },
  {
   "cell_type": "code",
   "execution_count": 10,
   "metadata": {
    "collapsed": false
   },
   "outputs": [
    {
     "name": "stdout",
     "output_type": "stream",
     "text": [
      "[0]\ttrain-auc:0.982466\n",
      "[1]\ttrain-auc:0.985826\n",
      "[2]\ttrain-auc:0.990807\n",
      "[3]\ttrain-auc:0.99107\n",
      "[4]\ttrain-auc:0.991086\n",
      "[5]\ttrain-auc:0.991767\n",
      "[6]\ttrain-auc:0.991781\n",
      "[7]\ttrain-auc:0.993074\n",
      "[8]\ttrain-auc:0.99368\n",
      "[9]\ttrain-auc:0.993947\n",
      "[10]\ttrain-auc:0.994026\n",
      "[11]\ttrain-auc:0.994047\n",
      "[12]\ttrain-auc:0.994135\n",
      "[13]\ttrain-auc:0.994188\n",
      "[14]\ttrain-auc:0.994717\n",
      "[15]\ttrain-auc:0.995087\n",
      "[16]\ttrain-auc:0.995169\n",
      "[17]\ttrain-auc:0.9953\n",
      "[18]\ttrain-auc:0.995322\n",
      "[19]\ttrain-auc:0.995547\n",
      "[20]\ttrain-auc:0.995657\n",
      "[21]\ttrain-auc:0.995708\n",
      "[22]\ttrain-auc:0.995798\n",
      "[23]\ttrain-auc:0.995869\n",
      "[24]\ttrain-auc:0.995881\n",
      "[25]\ttrain-auc:0.995879\n",
      "[26]\ttrain-auc:0.995984\n",
      "[27]\ttrain-auc:0.996002\n",
      "[28]\ttrain-auc:0.996101\n",
      "[29]\ttrain-auc:0.996122\n",
      "[30]\ttrain-auc:0.996127\n",
      "[31]\ttrain-auc:0.996128\n",
      "[32]\ttrain-auc:0.996131\n",
      "[33]\ttrain-auc:0.99616\n",
      "[34]\ttrain-auc:0.996234\n",
      "[35]\ttrain-auc:0.996244\n",
      "[36]\ttrain-auc:0.996262\n",
      "[37]\ttrain-auc:0.996297\n",
      "[38]\ttrain-auc:0.99631\n",
      "[39]\ttrain-auc:0.996328\n",
      "[40]\ttrain-auc:0.996341\n",
      "[41]\ttrain-auc:0.996346\n",
      "[42]\ttrain-auc:0.996351\n",
      "[43]\ttrain-auc:0.996355\n",
      "[44]\ttrain-auc:0.996365\n",
      "[45]\ttrain-auc:0.996377\n",
      "[46]\ttrain-auc:0.996382\n",
      "[47]\ttrain-auc:0.996384\n",
      "[48]\ttrain-auc:0.996386\n",
      "[49]\ttrain-auc:0.996389\n",
      "[50]\ttrain-auc:0.996391\n",
      "[51]\ttrain-auc:0.996395\n",
      "[52]\ttrain-auc:0.996395\n",
      "[53]\ttrain-auc:0.996401\n",
      "[54]\ttrain-auc:0.996422\n",
      "[55]\ttrain-auc:0.996423\n",
      "[56]\ttrain-auc:0.996422\n",
      "[57]\ttrain-auc:0.996423\n",
      "[58]\ttrain-auc:0.996425\n",
      "[59]\ttrain-auc:0.996426\n"
     ]
    }
   ],
   "source": [
    "params={'objective': 'binary:logistic','eval_metric': 'auc', 'scale_pos_weight':70,'silent':0}   \n",
    "xgtrain = xgb.DMatrix(train_X.values, label=train_target.values)\n",
    "#xgtest= xgb.DMatrix(test_X.values,label=test_target.values) \n",
    "\n",
    "watchlist = [(xgtrain, 'train')]\n",
    "num_round=60\n",
    "\n",
    "model=xgb.train(params,xgtrain,num_round,watchlist)"
   ]
  },
  {
   "cell_type": "code",
   "execution_count": 11,
   "metadata": {
    "collapsed": false
   },
   "outputs": [
    {
     "name": "stdout",
     "output_type": "stream",
     "text": [
      "[0]\ttrain-auc:0.982466\n",
      "[1]\ttrain-auc:0.985826\n",
      "[2]\ttrain-auc:0.990807\n",
      "[3]\ttrain-auc:0.99107\n",
      "[4]\ttrain-auc:0.991086\n",
      "[5]\ttrain-auc:0.991767\n",
      "[6]\ttrain-auc:0.991781\n",
      "[7]\ttrain-auc:0.993074\n",
      "[8]\ttrain-auc:0.99368\n",
      "[9]\ttrain-auc:0.993947\n",
      "[10]\ttrain-auc:0.994026\n",
      "[11]\ttrain-auc:0.994047\n",
      "[12]\ttrain-auc:0.994135\n",
      "[13]\ttrain-auc:0.994188\n",
      "[14]\ttrain-auc:0.994717\n",
      "[15]\ttrain-auc:0.995087\n",
      "[16]\ttrain-auc:0.995169\n",
      "[17]\ttrain-auc:0.9953\n",
      "[18]\ttrain-auc:0.995322\n",
      "[19]\ttrain-auc:0.995547\n",
      "[20]\ttrain-auc:0.995657\n",
      "[21]\ttrain-auc:0.995708\n",
      "[22]\ttrain-auc:0.995798\n",
      "[23]\ttrain-auc:0.995869\n",
      "[24]\ttrain-auc:0.995881\n",
      "[25]\ttrain-auc:0.995879\n",
      "[26]\ttrain-auc:0.995984\n",
      "[27]\ttrain-auc:0.996002\n",
      "[28]\ttrain-auc:0.996101\n",
      "[29]\ttrain-auc:0.996122\n",
      "[30]\ttrain-auc:0.996127\n",
      "[31]\ttrain-auc:0.996128\n",
      "[32]\ttrain-auc:0.996131\n",
      "[33]\ttrain-auc:0.99616\n",
      "[34]\ttrain-auc:0.996234\n",
      "[35]\ttrain-auc:0.996244\n",
      "[36]\ttrain-auc:0.996262\n",
      "[37]\ttrain-auc:0.996297\n",
      "[38]\ttrain-auc:0.99631\n",
      "[39]\ttrain-auc:0.996328\n",
      "[40]\ttrain-auc:0.996341\n",
      "[41]\ttrain-auc:0.996346\n",
      "[42]\ttrain-auc:0.996351\n",
      "[43]\ttrain-auc:0.996355\n",
      "[44]\ttrain-auc:0.996365\n",
      "[45]\ttrain-auc:0.996377\n",
      "[46]\ttrain-auc:0.996382\n",
      "[47]\ttrain-auc:0.996384\n",
      "[48]\ttrain-auc:0.996386\n",
      "[49]\ttrain-auc:0.996389\n",
      "[50]\ttrain-auc:0.996391\n",
      "[51]\ttrain-auc:0.996395\n",
      "[52]\ttrain-auc:0.996395\n",
      "[53]\ttrain-auc:0.996401\n",
      "[54]\ttrain-auc:0.996422\n",
      "[55]\ttrain-auc:0.996423\n",
      "[56]\ttrain-auc:0.996422\n",
      "[57]\ttrain-auc:0.996423\n",
      "[58]\ttrain-auc:0.996425\n",
      "[59]\ttrain-auc:0.996426\n",
      "[60]\ttrain-auc:0.996428\n",
      "[61]\ttrain-auc:0.996429\n",
      "[62]\ttrain-auc:0.996429\n",
      "[63]\ttrain-auc:0.996434\n",
      "[64]\ttrain-auc:0.996436\n",
      "[65]\ttrain-auc:0.996438\n",
      "[66]\ttrain-auc:0.996441\n",
      "[67]\ttrain-auc:0.996445\n",
      "[68]\ttrain-auc:0.996446\n",
      "[69]\ttrain-auc:0.996447\n",
      "[70]\ttrain-auc:0.996449\n",
      "[71]\ttrain-auc:0.996451\n",
      "[72]\ttrain-auc:0.996454\n",
      "[73]\ttrain-auc:0.996455\n",
      "[74]\ttrain-auc:0.996455\n",
      "[75]\ttrain-auc:0.996457\n",
      "[76]\ttrain-auc:0.996471\n",
      "[77]\ttrain-auc:0.996473\n",
      "[78]\ttrain-auc:0.996475\n",
      "[79]\ttrain-auc:0.996477\n"
     ]
    }
   ],
   "source": [
    "params={'objective': 'binary:logistic','eval_metric': 'auc', 'scale_pos_weight':70, 'silent':0}   \n",
    "xgtrain = xgb.DMatrix(train_X.values, label=train_target.values)\n",
    "#xgtest= xgb.DMatrix(test_X.values,label=test_target.values) \n",
    "\n",
    "watchlist = [(xgtrain, 'train')]\n",
    "num_round=80\n",
    "\n",
    "model=xgb.train(params,xgtrain,num_round,watchlist)"
   ]
  },
  {
   "cell_type": "code",
   "execution_count": null,
   "metadata": {
    "collapsed": false
   },
   "outputs": [
    {
     "name": "stdout",
     "output_type": "stream",
     "text": [
      "[0]\teval-auc:0.982868\ttrain-auc:0.982384\n",
      "[1]\teval-auc:0.98293\ttrain-auc:0.98269\n",
      "[2]\teval-auc:0.990497\ttrain-auc:0.990497\n",
      "[3]\teval-auc:0.992276\ttrain-auc:0.992226\n",
      "[4]\teval-auc:0.992779\ttrain-auc:0.992634\n",
      "[5]\teval-auc:0.992964\ttrain-auc:0.992762\n",
      "[6]\teval-auc:0.993704\ttrain-auc:0.993605\n",
      "[7]\teval-auc:0.993736\ttrain-auc:0.993632\n",
      "[8]\teval-auc:0.993761\ttrain-auc:0.993663\n",
      "[9]\teval-auc:0.993831\ttrain-auc:0.99373\n",
      "[10]\teval-auc:0.993838\ttrain-auc:0.993729\n",
      "[11]\teval-auc:0.993846\ttrain-auc:0.993738\n",
      "[12]\teval-auc:0.994012\ttrain-auc:0.993821\n",
      "[13]\teval-auc:0.99402\ttrain-auc:0.993827\n",
      "[14]\teval-auc:0.994045\ttrain-auc:0.99386\n",
      "[15]\teval-auc:0.99418\ttrain-auc:0.993988\n",
      "[16]\teval-auc:0.995371\ttrain-auc:0.99523\n",
      "[17]\teval-auc:0.995728\ttrain-auc:0.99562\n",
      "[18]\teval-auc:0.995885\ttrain-auc:0.995817\n",
      "[19]\teval-auc:0.99597\ttrain-auc:0.995897\n",
      "[20]\teval-auc:0.996055\ttrain-auc:0.995989\n",
      "[21]\teval-auc:0.996086\ttrain-auc:0.996046\n",
      "[22]\teval-auc:0.996105\ttrain-auc:0.996069\n",
      "[23]\teval-auc:0.99615\ttrain-auc:0.996114\n",
      "[24]\teval-auc:0.996178\ttrain-auc:0.996139\n",
      "[25]\teval-auc:0.996197\ttrain-auc:0.996165\n",
      "[26]\teval-auc:0.996218\ttrain-auc:0.99618\n",
      "[27]\teval-auc:0.996249\ttrain-auc:0.99621\n",
      "[28]\teval-auc:0.996253\ttrain-auc:0.996243\n",
      "[29]\teval-auc:0.996267\ttrain-auc:0.996264\n",
      "[30]\teval-auc:0.996267\ttrain-auc:0.996268\n",
      "[31]\teval-auc:0.996273\ttrain-auc:0.996279\n",
      "[32]\teval-auc:0.996279\ttrain-auc:0.996285\n",
      "[33]\teval-auc:0.996273\ttrain-auc:0.996292\n",
      "[34]\teval-auc:0.99628\ttrain-auc:0.996305\n",
      "[35]\teval-auc:0.996283\ttrain-auc:0.996307\n",
      "[36]\teval-auc:0.996281\ttrain-auc:0.99631\n",
      "[37]\teval-auc:0.996287\ttrain-auc:0.996328\n",
      "[38]\teval-auc:0.996294\ttrain-auc:0.996332\n",
      "[39]\teval-auc:0.996297\ttrain-auc:0.996341\n",
      "[40]\teval-auc:0.996297\ttrain-auc:0.996344\n",
      "[41]\teval-auc:0.9963\ttrain-auc:0.996347\n",
      "[42]\teval-auc:0.996302\ttrain-auc:0.996352\n",
      "[43]\teval-auc:0.996293\ttrain-auc:0.996361\n",
      "[44]\teval-auc:0.996303\ttrain-auc:0.996371\n",
      "[45]\teval-auc:0.996309\ttrain-auc:0.996374\n",
      "[46]\teval-auc:0.996308\ttrain-auc:0.996373\n",
      "[47]\teval-auc:0.996303\ttrain-auc:0.996385\n",
      "[48]\teval-auc:0.996299\ttrain-auc:0.996386\n",
      "[49]\teval-auc:0.996303\ttrain-auc:0.996399\n",
      "[50]\teval-auc:0.996307\ttrain-auc:0.996408\n"
     ]
    }
   ],
   "source": [
    "params={'objective': 'binary:logistic','eval_metric': 'auc', 'scale_pos_weight':70,'gamma': 0,'silent':0}   \n",
    "xgtrain = xgb.DMatrix(train_X.values, label=train_target.values)\n",
    "xgtest= xgb.DMatrix(test_X.values,label=test_target.values) \n",
    "\n",
    "watchlist = [(xgtest, 'eval'), (xgtrain, 'train')]\n",
    "num_round=51\n",
    "\n",
    "model=xgb.train(params,xgtrain,num_round,watchlist)"
   ]
  },
  {
   "cell_type": "code",
   "execution_count": null,
   "metadata": {
    "collapsed": false
   },
   "outputs": [
    {
     "name": "stdout",
     "output_type": "stream",
     "text": [
      "[0]\teval-auc:0.982092\ttrain-auc:0.982577\n",
      "[1]\teval-auc:0.985448\ttrain-auc:0.985936\n",
      "[2]\teval-auc:0.987472\ttrain-auc:0.987921\n",
      "[3]\teval-auc:0.990695\ttrain-auc:0.990941\n",
      "[4]\teval-auc:0.993448\ttrain-auc:0.993621\n",
      "[5]\teval-auc:0.994144\ttrain-auc:0.994305\n",
      "[6]\teval-auc:0.994682\ttrain-auc:0.994849\n",
      "[7]\teval-auc:0.994495\ttrain-auc:0.994649\n",
      "[8]\teval-auc:0.994653\ttrain-auc:0.994821\n",
      "[9]\teval-auc:0.994591\ttrain-auc:0.994773\n",
      "[10]\teval-auc:0.994597\ttrain-auc:0.994792\n",
      "[11]\teval-auc:0.994551\ttrain-auc:0.994723\n",
      "[12]\teval-auc:0.994796\ttrain-auc:0.99502\n",
      "[13]\teval-auc:0.994879\ttrain-auc:0.995111\n",
      "[14]\teval-auc:0.994927\ttrain-auc:0.99516\n",
      "[15]\teval-auc:0.995207\ttrain-auc:0.995415\n",
      "[16]\teval-auc:0.995229\ttrain-auc:0.995451\n",
      "[17]\teval-auc:0.995211\ttrain-auc:0.995446\n",
      "[18]\teval-auc:0.995252\ttrain-auc:0.99546\n",
      "[19]\teval-auc:0.995609\ttrain-auc:0.995761\n",
      "[20]\teval-auc:0.995779\ttrain-auc:0.995923\n",
      "[21]\teval-auc:0.995865\ttrain-auc:0.995997\n",
      "[22]\teval-auc:0.995885\ttrain-auc:0.996011\n",
      "[23]\teval-auc:0.995916\ttrain-auc:0.99606\n",
      "[24]\teval-auc:0.995948\ttrain-auc:0.996094\n",
      "[25]\teval-auc:0.996003\ttrain-auc:0.996124\n",
      "[26]\teval-auc:0.996012\ttrain-auc:0.996126\n",
      "[27]\teval-auc:0.996017\ttrain-auc:0.996132\n",
      "[28]\teval-auc:0.996021\ttrain-auc:0.996146\n",
      "[29]\teval-auc:0.99603\ttrain-auc:0.996171\n",
      "[30]\teval-auc:0.996059\ttrain-auc:0.996185\n",
      "[31]\teval-auc:0.996072\ttrain-auc:0.996199\n",
      "[32]\teval-auc:0.99607\ttrain-auc:0.996205\n",
      "[33]\teval-auc:0.99607\ttrain-auc:0.996207\n",
      "[34]\teval-auc:0.996064\ttrain-auc:0.996219\n",
      "[35]\teval-auc:0.996068\ttrain-auc:0.996225\n",
      "[36]\teval-auc:0.9961\ttrain-auc:0.996256\n",
      "[37]\teval-auc:0.996117\ttrain-auc:0.996274\n",
      "[38]\teval-auc:0.996139\ttrain-auc:0.996291\n",
      "[39]\teval-auc:0.99614\ttrain-auc:0.996294\n",
      "[40]\teval-auc:0.996171\ttrain-auc:0.996326\n",
      "[41]\teval-auc:0.99616\ttrain-auc:0.996328\n",
      "[42]\teval-auc:0.996158\ttrain-auc:0.996353\n",
      "[43]\teval-auc:0.996197\ttrain-auc:0.996381\n",
      "[44]\teval-auc:0.996197\ttrain-auc:0.996386\n",
      "[45]\teval-auc:0.996198\ttrain-auc:0.996391\n",
      "[46]\teval-auc:0.996205\ttrain-auc:0.996395\n",
      "[47]\teval-auc:0.996203\ttrain-auc:0.996399\n",
      "[48]\teval-auc:0.996203\ttrain-auc:0.996398\n",
      "[49]\teval-auc:0.996208\ttrain-auc:0.996409\n",
      "[50]\teval-auc:0.996212\ttrain-auc:0.996422\n",
      "[51]\teval-auc:0.996215\ttrain-auc:0.996427\n",
      "[52]\teval-auc:0.996214\ttrain-auc:0.996427\n",
      "[53]\teval-auc:0.996208\ttrain-auc:0.996431\n",
      "[54]\teval-auc:0.996232\ttrain-auc:0.996454\n",
      "[55]\teval-auc:0.996229\ttrain-auc:0.996457\n",
      "[56]\teval-auc:0.996243\ttrain-auc:0.996467\n",
      "[57]\teval-auc:0.996244\ttrain-auc:0.996472\n",
      "[58]\teval-auc:0.996244\ttrain-auc:0.996471\n",
      "[59]\teval-auc:0.996248\ttrain-auc:0.996472\n",
      "[60]\teval-auc:0.99625\ttrain-auc:0.996474\n",
      "[61]\teval-auc:0.99624\ttrain-auc:0.996485\n",
      "[62]\teval-auc:0.996239\ttrain-auc:0.99649\n",
      "[63]\teval-auc:0.99624\ttrain-auc:0.996492\n",
      "[64]\teval-auc:0.996236\ttrain-auc:0.996495\n",
      "[65]\teval-auc:0.996233\ttrain-auc:0.996496\n",
      "[66]\teval-auc:0.996231\ttrain-auc:0.996496\n",
      "[67]\teval-auc:0.996229\ttrain-auc:0.996498\n",
      "[68]\teval-auc:0.996227\ttrain-auc:0.9965\n",
      "[69]\teval-auc:0.996222\ttrain-auc:0.996501\n"
     ]
    }
   ],
   "source": [
    "params={'objective': 'binary:logistic','eval_metric': 'auc', 'scale_pos_weight':70,'gamma': 0,'silent':0}   \n",
    "xgtrain = xgb.DMatrix(train_X.values, label=train_target.values)\n",
    "xgtest= xgb.DMatrix(test_X.values,label=test_target.values) \n",
    "\n",
    "watchlist = [(xgtest, 'eval'), (xgtrain, 'train')]\n",
    "num_round=70\n",
    "\n",
    "model=xgb.train(params,xgtrain,num_round,watchlist)"
   ]
  },
  {
   "cell_type": "code",
   "execution_count": null,
   "metadata": {
    "collapsed": true
   },
   "outputs": [],
   "source": []
  }
 ],
 "metadata": {
  "kernelspec": {
   "display_name": "Python 3",
   "language": "python",
   "name": "python3"
  },
  "language_info": {
   "codemirror_mode": {
    "name": "ipython",
    "version": 3
   },
   "file_extension": ".py",
   "mimetype": "text/x-python",
   "name": "python",
   "nbconvert_exporter": "python",
   "pygments_lexer": "ipython3",
   "version": "3.6.0"
  }
 },
 "nbformat": 4,
 "nbformat_minor": 2
}
